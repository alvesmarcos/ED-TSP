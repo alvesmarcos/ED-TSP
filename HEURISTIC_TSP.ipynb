{
 "cells": [
  {
   "cell_type": "markdown",
   "metadata": {},
   "source": [
    "## Setup\n",
    "\n",
    "All libs that will be use in this note"
   ]
  },
  {
   "cell_type": "code",
   "execution_count": 1,
   "metadata": {},
   "outputs": [],
   "source": [
    "import numpy as np\n",
    "from glob import glob\n",
    "import random\n",
    "import time "
   ]
  },
  {
   "cell_type": "markdown",
   "metadata": {},
   "source": [
    "## Preprocessing\n",
    "\n",
    "There are two folders that contains the inputs of the problem **Traveling Salesman Problem** they are different so let's split it."
   ]
  },
  {
   "cell_type": "markdown",
   "metadata": {},
   "source": [
    "### Test Data"
   ]
  },
  {
   "cell_type": "code",
   "execution_count": 2,
   "metadata": {},
   "outputs": [
    {
     "name": "stdout",
     "output_type": "stream",
     "text": [
      "['instancias/instancias_teste/ch150.txt', 'instancias/instancias_teste/bays29.txt', 'instancias/instancias_teste/berlin52.txt', 'instancias/instancias_teste/ch130.txt', 'instancias/instancias_teste/brazil58.txt', 'instancias/instancias_teste/swiss42.txt', 'instancias/instancias_teste/bayg29.txt', 'instancias/instancias_teste/bier127.txt', 'instancias/instancias_teste/descricao.txt']\n"
     ]
    }
   ],
   "source": [
    "PATH_TEST = 'instancias/instancias_teste/'\n",
    "DATA_TEST = glob(PATH_TEST+'*.txt')\n",
    "print(DATA_TEST)"
   ]
  },
  {
   "cell_type": "markdown",
   "metadata": {},
   "source": [
    "### TSP Cup Data"
   ]
  },
  {
   "cell_type": "code",
   "execution_count": 3,
   "metadata": {},
   "outputs": [
    {
     "name": "stdout",
     "output_type": "stream",
     "text": [
      "['instancias/instancias_tsp_cup/tsp1.txt', 'instancias/instancias_tsp_cup/tsp2.txt', 'instancias/instancias_tsp_cup/tsp3.txt', 'instancias/instancias_tsp_cup/descricao.txt']\n"
     ]
    }
   ],
   "source": [
    "PATH_CUP = 'instancias/instancias_tsp_cup/'\n",
    "DATA_CUP = glob(PATH_CUP+'*.txt')\n",
    "print(DATA_CUP)"
   ]
  },
  {
   "cell_type": "markdown",
   "metadata": {},
   "source": [
    "## Math\n",
    "\n",
    "Some mathematics functions that will be useful "
   ]
  },
  {
   "cell_type": "code",
   "execution_count": 4,
   "metadata": {},
   "outputs": [],
   "source": [
    "def euclidian_distance(p1, p2):\n",
    "    return int(np.linalg.norm(p1-p2).round())"
   ]
  },
  {
   "cell_type": "code",
   "execution_count": 5,
   "metadata": {},
   "outputs": [
    {
     "name": "stdout",
     "output_type": "stream",
     "text": [
      "9\n"
     ]
    }
   ],
   "source": [
    "print(euclidian_distance(np.array([1,1]), np.array([1,10])))"
   ]
  },
  {
   "cell_type": "markdown",
   "metadata": {},
   "source": [
    "## Graph\n",
    "\n",
    "We'll use a graph as data structure in order to representation our problem, where each city is a vertex and a connection is representation by a edge. "
   ]
  },
  {
   "cell_type": "code",
   "execution_count": 6,
   "metadata": {},
   "outputs": [],
   "source": [
    "class Graph:\n",
    "    def __init__(self, num_vertices):\n",
    "        self._adjacency_matrix = np.zeros((num_vertices, num_vertices), dtype=np.int64)\n",
    "        \n",
    "    def build(self, file, _type='tsp_test'):\n",
    "        if _type == 'tsp_cup':\n",
    "            self._handle_tsp_cup(file)\n",
    "        elif _type == 'tsp_test':\n",
    "            self._handle_tsp_test(file)\n",
    "        else:\n",
    "            print('Undefined type')\n",
    "        \n",
    "    def _handle_tsp_cup(self, file):\n",
    "        data = []\n",
    "        with open(file, 'r') as f:\n",
    "            for line in f:\n",
    "                try:\n",
    "                    _, x, y = list(filter(lambda x: x!='', line.split(' ')))\n",
    "                    data.append(np.array((float(x), float(y[:-1]))))\n",
    "                except:\n",
    "                    pass\n",
    "        for i, p1 in enumerate(data):\n",
    "            for j, p2 in enumerate(data):\n",
    "                self._adjacency_matrix[i][j] = euclidian_distance(p1, p2)\n",
    "    \n",
    "    def _handle_tsp_test(self, file):\n",
    "        data = []\n",
    "        with open(file, 'r') as f:\n",
    "            _input = f.readlines()\n",
    "            _input = [_.strip() for _ in _input]\n",
    "            _input = [_.split() for _ in _input]\n",
    "            for i, array in enumerate(_input[3:]):\n",
    "                try:\n",
    "                    _ = [int(_) for _ in array]\n",
    "                    if len(_) > 0:\n",
    "                        data.append(_)\n",
    "                except:\n",
    "                    pass\n",
    "        self._adjacency_matrix = data\n",
    "    \n",
    "    def num_vertices(self):\n",
    "        return len(self._adjacency_matrix)\n",
    "    \n",
    "    def get_cost(self, _list_path_nodes):\n",
    "        path = [self._adjacency_matrix[current][_next] for current, _next in zip(_list_path_nodes[1:], _list_path_nodes[:-1])]\n",
    "        return sum(path)"
   ]
  },
  {
   "cell_type": "markdown",
   "metadata": {},
   "source": [
    "## Optimizations Solutions\n",
    "\n",
    "Some functions that will give us solutions for our problem."
   ]
  },
  {
   "cell_type": "markdown",
   "metadata": {},
   "source": [
    "## Helpers\n",
    "\n",
    "Below functions that will be userful to generation solutions"
   ]
  },
  {
   "cell_type": "code",
   "execution_count": 7,
   "metadata": {},
   "outputs": [],
   "source": [
    "def pick_element(_list, nodes):\n",
    "    for index, x in enumerate(_list):\n",
    "        if not nodes[index]:\n",
    "            return index, x\n",
    "    return None"
   ]
  },
  {
   "cell_type": "code",
   "execution_count": 8,
   "metadata": {},
   "outputs": [],
   "source": [
    "def get_min_distance(_distances, nodes):\n",
    "    min_index, min_val = pick_element(_distances, nodes)\n",
    "    for index, x in enumerate(_distances):\n",
    "        if min_val > x:\n",
    "            min_val = x if not nodes[index] else min_val\n",
    "            min_index = index if not nodes[index] else min_index\n",
    "    return min_val, min_index"
   ]
  },
  {
   "cell_type": "code",
   "execution_count": 9,
   "metadata": {},
   "outputs": [],
   "source": [
    "def get_cost_swap(graph, cost, _list, i, k):\n",
    "    cost_swap = cost\n",
    "    if i == k:\n",
    "        return cost_swap\n",
    "    if i > k:\n",
    "        i, k = k, i\n",
    "    if i+1 == k:\n",
    "        prev, _next = i-1 if i > 0 else i, k+1 if k < graph.num_vertices() - 1 else k\n",
    "        cost_swap -= graph.get_cost([_list[prev], _list[i], _list[k], _list[_next]])\n",
    "        \n",
    "        prev, _next = i-1 if i > 0 else k, k+1 if k < graph.num_vertices() - 1 else i\n",
    "        cost_swap += graph.get_cost([_list[prev], _list[k], _list[i], _list[_next]])\n",
    "    else:\n",
    "        prev_i, _next_i = i-1 if i > 0 else i, i+1\n",
    "        prev_k, _next_k = k-1, k+1 if k < graph.num_vertices() - 1 else k\n",
    "        \n",
    "        cost_swap -= graph.get_cost([_list[prev_i], _list[i], _list[_next_i]])\n",
    "        cost_swap -= graph.get_cost([_list[prev_k], _list[k], _list[_next_k]])\n",
    "        \n",
    "        prev_i, _next_i = i-1 if i > 0 else k, i+1\n",
    "        prev_k, _next_k = k-1, k+1 if k < graph.num_vertices() - 1 else i\n",
    "        \n",
    "        cost_swap += graph.get_cost([_list[prev_i], _list[k], _list[_next_i]])\n",
    "        cost_swap += graph.get_cost([_list[prev_k], _list[i], _list[_next_k]])\n",
    "    return cost_swap"
   ]
  },
  {
   "cell_type": "markdown",
   "metadata": {},
   "source": [
    "### Random Restart"
   ]
  },
  {
   "cell_type": "code",
   "execution_count": 10,
   "metadata": {},
   "outputs": [],
   "source": [
    "def random_restart(graph, itermax):\n",
    "    _iter = 0\n",
    "    solution = [i for i in range(graph.num_vertices())]\n",
    "    np.random.shuffle(solution)\n",
    "    current_solution, current_cost = solution, graph.get_cost(solution)\n",
    "    while _iter < itermax:\n",
    "        np.random.shuffle(solution)\n",
    "        cost = graph.get_cost(solution)\n",
    "        if current_cost > cost:\n",
    "            current_cost, current_solution = cost, solution\n",
    "            _iter = 0\n",
    "        else:\n",
    "            _iter += 1\n",
    "    current_solution = current_solution + [current_solution[0]]\n",
    "    return graph.get_cost(current_solution), current_solution"
   ]
  },
  {
   "cell_type": "markdown",
   "metadata": {},
   "source": [
    "### Nearest Neighbor"
   ]
  },
  {
   "cell_type": "code",
   "execution_count": 11,
   "metadata": {},
   "outputs": [],
   "source": [
    "def nearest_neighbor(graph, initial):\n",
    "    solution = []\n",
    "    current_node = initial\n",
    "    nodes = [False for x in range(graph.num_vertices())]\n",
    "    nodes[current_node] = True\n",
    "    flag = True\n",
    "    solution.append(current_node)\n",
    "    while flag:\n",
    "        distances = graph._adjacency_matrix[current_node]\n",
    "        min_distance, min_index = get_min_distance(distances, nodes)\n",
    "        current_node = min_index\n",
    "        nodes[current_node] = True\n",
    "        solution.append(current_node)\n",
    "        if all(nodes):\n",
    "            solution.append(initial)\n",
    "            flag = False\n",
    "    return graph.get_cost(solution), solution"
   ]
  },
  {
   "cell_type": "markdown",
   "metadata": {},
   "source": [
    "### Best Insertion"
   ]
  },
  {
   "cell_type": "code",
   "execution_count": 12,
   "metadata": {},
   "outputs": [],
   "source": [
    "def best_insertion(graph, initial):\n",
    "    current_cost, current_solution = initial\n",
    "    index = np.random.randint(graph.num_vertices())\n",
    "    for i in range(graph.num_vertices()):\n",
    "        cost = get_cost_swap(graph, current_cost, current_solution, i, index)\n",
    "        if current_cost > cost:\n",
    "            current_solution[i], current_solution[index] = current_solution[index], current_solution[i]\n",
    "            current_cost = cost\n",
    "    return graph.get_cost(current_solution), current_solution"
   ]
  },
  {
   "cell_type": "markdown",
   "metadata": {},
   "source": [
    "### Swap"
   ]
  },
  {
   "cell_type": "code",
   "execution_count": 13,
   "metadata": {},
   "outputs": [],
   "source": [
    "def first_swap(graph, initial):\n",
    "    current_cost, current_solution = initial\n",
    "    flag = True\n",
    "    while flag:\n",
    "        flag = False\n",
    "        for i in range(graph.num_vertices()):\n",
    "            for k in range(i+1, graph.num_vertices()):\n",
    "                cost = get_cost_swap(graph, current_cost, current_solution, i, k) \n",
    "                if current_cost > cost:\n",
    "                    current_solution[i], current_solution[k] = current_solution[k], current_solution[i]\n",
    "                    current_cost = cost\n",
    "                    return graph.get_cost(current_solution), current_solution\n",
    "    return graph.get_cost(current_solution), current_solution"
   ]
  },
  {
   "cell_type": "markdown",
   "metadata": {},
   "source": [
    "### Perturbation"
   ]
  },
  {
   "cell_type": "code",
   "execution_count": 14,
   "metadata": {},
   "outputs": [],
   "source": [
    "def perturbation(graph, _list):\n",
    "    i=k=0\n",
    "    while i==k:\n",
    "        i, k = np.random.randint(graph.num_vertices()), np.random.randint(graph.num_vertices())\n",
    "    if i > k:\n",
    "        i, k = k, i\n",
    "    start, middle, end = _list[:i], _list[i:k+1], _list[k+1:]\n",
    "    middle.reverse()\n",
    "    solution = start + middle + end\n",
    "    return graph.get_cost(solution), solution"
   ]
  },
  {
   "cell_type": "markdown",
   "metadata": {},
   "source": [
    "### VND - Variable Neighborhood Descent"
   ]
  },
  {
   "cell_type": "code",
   "execution_count": 15,
   "metadata": {},
   "outputs": [],
   "source": [
    "def vnd(graph, initial, itermax):\n",
    "    _iter = 0\n",
    "    current_cost, current_solution = graph.get_cost(initial), initial\n",
    "    while _iter < itermax:\n",
    "        is_better = True\n",
    "        while is_better:\n",
    "            is_better = False\n",
    "            cost, solution = best_insertion(graph, (current_cost, current_solution))\n",
    "            if current_cost > cost:\n",
    "                current_cost, current_solution = cost, solution\n",
    "                is_better = True\n",
    "                _iter = 0\n",
    "            else:\n",
    "                cost, solution = first_swap(graph, (current_cost, current_solution))\n",
    "                if current_cost > cost:\n",
    "                    current_cost, current_solution = cost, solution\n",
    "                    is_better = True\n",
    "                    _iter = 0\n",
    "        _iter += 1\n",
    "    return graph.get_cost(current_solution), current_solution"
   ]
  },
  {
   "cell_type": "markdown",
   "metadata": {},
   "source": [
    "### GRASP - Greedy Randomized Adaptive Search Procedure "
   ]
  },
  {
   "cell_type": "code",
   "execution_count": 16,
   "metadata": {},
   "outputs": [],
   "source": [
    "def grasp(graph, itermax, alpha=0):\n",
    "    _iter = 0\n",
    "    current_cost = current_solution = -1\n",
    "    while _iter < itermax:\n",
    "        _random = np.random.random_sample() + alpha\n",
    "        _, solution = nearest_neighbor(graph, np.random.randint(graph.num_vertices())) if _random < 1 else random_restart(graph, 100)\n",
    "        solution = solution[:-1]\n",
    "        cost, solution = vnd(graph, solution, 1)\n",
    "        if current_cost > cost or _iter == 0:\n",
    "            current_cost, current_solution = cost, solution\n",
    "        _iter += 1\n",
    "    current_solution = current_solution + [current_solution[0]]\n",
    "    return graph.get_cost(current_solution), current_solution"
   ]
  },
  {
   "cell_type": "markdown",
   "metadata": {},
   "source": [
    "### VNS - Variable Neighborhood Search"
   ]
  },
  {
   "cell_type": "code",
   "execution_count": 17,
   "metadata": {},
   "outputs": [],
   "source": [
    "def vns(graph, itermax):\n",
    "    _iter = 0\n",
    "    current_cost = current_solution = -1\n",
    "    _, solution = nearest_neighbor(graph, np.random.randint(graph.num_vertices()))\n",
    "    solution = solution[:-1]\n",
    "    while _iter < itermax:\n",
    "        _, solution = perturbation(graph, solution)\n",
    "        cost, solution = vnd(graph, solution, 1)\n",
    "        if current_cost > cost or _iter == 0:\n",
    "            current_cost, current_solution = cost, solution\n",
    "        _iter += 1\n",
    "    current_solution = current_solution + [current_solution[0]]\n",
    "    return graph.get_cost(current_solution), current_solution"
   ]
  },
  {
   "cell_type": "markdown",
   "metadata": {},
   "source": [
    "## Test\n",
    "\n",
    "For each test we'll build a graph with the adjacency matrix representing our cities."
   ]
  },
  {
   "cell_type": "markdown",
   "metadata": {},
   "source": [
    "## Helpers\n",
    "\n",
    "Below functions that will be userful to generation informations about our solutions"
   ]
  },
  {
   "cell_type": "code",
   "execution_count": 18,
   "metadata": {},
   "outputs": [],
   "source": [
    "def gap(val_heur, optimal):\n",
    "    return ((val_heur-optimal)/optimal)*100"
   ]
  },
  {
   "cell_type": "code",
   "execution_count": 19,
   "metadata": {},
   "outputs": [],
   "source": [
    "def nearest_neighbor_test(graph, iter_max, optimal):\n",
    "    indexes = []\n",
    "    costs = []\n",
    "    times = []\n",
    "    random_index = np.random.randint(graph.num_vertices())\n",
    "    indexes.append(random_index)\n",
    "    _iter = 0\n",
    "    while _iter < iter_max:\n",
    "        while random_index in indexes:\n",
    "            random_index = np.random.randint(graph.num_vertices())\n",
    "        indexes.append(random_index)\n",
    "        start = time.time()\n",
    "        cost, solution = nearest_neighbor(graph, random_index)\n",
    "        end = time.time()\n",
    "        times.append(end-start)\n",
    "        costs.append(cost)\n",
    "        print('({:}) cost: {:} time: {:}'.format(_iter+1, cost, end-start))\n",
    "        _iter += 1\n",
    "    print('Mean Cost: {:} \\t Optimal: {:} \\t Mean Time: {:} \\t Gap: {:}'\n",
    "          .format(np.mean(costs), np.min(costs), np.mean(times), gap(np.min(costs),optimal)))"
   ]
  },
  {
   "cell_type": "code",
   "execution_count": 20,
   "metadata": {},
   "outputs": [],
   "source": [
    "def grasp_test(graph, iter_max, optimal):\n",
    "    _iter = 0\n",
    "    costs = []\n",
    "    times = []\n",
    "    while _iter < iter_max:\n",
    "        start = time.time()\n",
    "        cost, solution = grasp(graph, 50, alpha=0.5)\n",
    "        end = time.time()\n",
    "        times.append(end-start)\n",
    "        costs.append(cost)\n",
    "        print('({:}) cost: {:} time: {:}'.format(_iter+1, cost, end-start))\n",
    "        _iter += 1\n",
    "    print('Mean Cost: {:} \\t Optimal: {:} \\t Mean Time: {:} \\t Gap: {:}'\n",
    "          .format(np.mean(costs), np.min(costs), np.mean(times), gap(np.min(costs),optimal)))"
   ]
  },
  {
   "cell_type": "code",
   "execution_count": 21,
   "metadata": {},
   "outputs": [],
   "source": [
    "def vns_test(graph, iter_max, optimal):\n",
    "    _iter = 0\n",
    "    costs = []\n",
    "    times = []\n",
    "    while _iter < iter_max:\n",
    "        start = time.time()\n",
    "        cost, solution = vns(graph, 50)\n",
    "        end = time.time()\n",
    "        times.append(end-start)\n",
    "        costs.append(cost)\n",
    "        print('({:}) cost: {:} time: {:}'.format(_iter+1, cost, end-start))\n",
    "        _iter += 1\n",
    "    print('Mean Cost: {:} \\t Optimal: {:} \\t Mean Time: {:} \\t Gap: {:}'\n",
    "          .format(np.mean(costs), np.min(costs), np.mean(times), gap(np.min(costs),optimal)))"
   ]
  },
  {
   "cell_type": "markdown",
   "metadata": {},
   "source": [
    "### TSP TEST"
   ]
  },
  {
   "cell_type": "code",
   "execution_count": 22,
   "metadata": {},
   "outputs": [
    {
     "name": "stdout",
     "output_type": "stream",
     "text": [
      "['instancias/instancias_teste/ch150.txt', 'instancias/instancias_teste/bays29.txt', 'instancias/instancias_teste/berlin52.txt', 'instancias/instancias_teste/ch130.txt', 'instancias/instancias_teste/brazil58.txt', 'instancias/instancias_teste/swiss42.txt', 'instancias/instancias_teste/bayg29.txt', 'instancias/instancias_teste/bier127.txt', 'instancias/instancias_teste/descricao.txt']\n"
     ]
    }
   ],
   "source": [
    "ITER_MAX = 10\n",
    "print(DATA_TEST)"
   ]
  },
  {
   "cell_type": "markdown",
   "metadata": {},
   "source": [
    "### ch150"
   ]
  },
  {
   "cell_type": "code",
   "execution_count": null,
   "metadata": {},
   "outputs": [],
   "source": [
    "graph = Graph(150)\n",
    "graph.build(DATA_TEST[0], _type='tsp_test')\n",
    "print(graph.num_vertices())"
   ]
  },
  {
   "cell_type": "markdown",
   "metadata": {},
   "source": [
    "#### Nearest Neighbor"
   ]
  },
  {
   "cell_type": "code",
   "execution_count": null,
   "metadata": {},
   "outputs": [],
   "source": [
    "nearest_neighbor_test(graph, ITER_MAX, 6528)"
   ]
  },
  {
   "cell_type": "markdown",
   "metadata": {},
   "source": [
    "#### Greedy Randomized Adaptive Search Procedure"
   ]
  },
  {
   "cell_type": "code",
   "execution_count": null,
   "metadata": {},
   "outputs": [],
   "source": [
    "grasp_test(graph, ITER_MAX, 6528)"
   ]
  },
  {
   "cell_type": "markdown",
   "metadata": {},
   "source": [
    "#### Variable Neighborhood Search"
   ]
  },
  {
   "cell_type": "code",
   "execution_count": null,
   "metadata": {},
   "outputs": [],
   "source": [
    "vns_test(graph, ITER_MAX, 6528)"
   ]
  },
  {
   "cell_type": "markdown",
   "metadata": {},
   "source": [
    "### bays29"
   ]
  },
  {
   "cell_type": "code",
   "execution_count": null,
   "metadata": {},
   "outputs": [],
   "source": [
    "graph = Graph(29)\n",
    "graph.build(DATA_TEST[1], _type='tsp_test')\n",
    "print(graph.num_vertices())"
   ]
  },
  {
   "cell_type": "markdown",
   "metadata": {},
   "source": [
    "#### Nearest Neighbor"
   ]
  },
  {
   "cell_type": "code",
   "execution_count": null,
   "metadata": {},
   "outputs": [],
   "source": [
    "nearest_neighbor_test(graph, ITER_MAX, 2020)"
   ]
  },
  {
   "cell_type": "markdown",
   "metadata": {},
   "source": [
    "#### Greedy Randomized Adaptive Search Procedure"
   ]
  },
  {
   "cell_type": "code",
   "execution_count": null,
   "metadata": {},
   "outputs": [],
   "source": [
    "grasp_test(graph, ITER_MAX, 2020)"
   ]
  },
  {
   "cell_type": "markdown",
   "metadata": {},
   "source": [
    "#### Variable Neighborhood Search"
   ]
  },
  {
   "cell_type": "code",
   "execution_count": null,
   "metadata": {},
   "outputs": [],
   "source": [
    "vns_test(graph, ITER_MAX, 2020)"
   ]
  },
  {
   "cell_type": "markdown",
   "metadata": {},
   "source": [
    "### berlin52"
   ]
  },
  {
   "cell_type": "code",
   "execution_count": null,
   "metadata": {},
   "outputs": [],
   "source": [
    "graph = Graph(52)\n",
    "graph.build(DATA_TEST[2], _type='tsp_test')\n",
    "print(graph.num_vertices())"
   ]
  },
  {
   "cell_type": "markdown",
   "metadata": {},
   "source": [
    "#### Nearest Neighbor"
   ]
  },
  {
   "cell_type": "code",
   "execution_count": null,
   "metadata": {},
   "outputs": [],
   "source": [
    "nearest_neighbor_test(graph, ITER_MAX, 7542)"
   ]
  },
  {
   "cell_type": "markdown",
   "metadata": {},
   "source": [
    "#### Greedy Randomized Adaptive Search Procedure"
   ]
  },
  {
   "cell_type": "code",
   "execution_count": null,
   "metadata": {},
   "outputs": [],
   "source": [
    "grasp_test(graph, ITER_MAX, 7542)"
   ]
  },
  {
   "cell_type": "markdown",
   "metadata": {},
   "source": [
    "#### Variable Neighborhood Search"
   ]
  },
  {
   "cell_type": "code",
   "execution_count": null,
   "metadata": {},
   "outputs": [],
   "source": [
    "vns_test(graph, ITER_MAX, 7542)"
   ]
  },
  {
   "cell_type": "markdown",
   "metadata": {},
   "source": [
    "### ch130"
   ]
  },
  {
   "cell_type": "code",
   "execution_count": null,
   "metadata": {},
   "outputs": [],
   "source": [
    "graph = Graph(130)\n",
    "graph.build(DATA_TEST[3], _type='tsp_test')\n",
    "print(graph.num_vertices())"
   ]
  },
  {
   "cell_type": "markdown",
   "metadata": {},
   "source": [
    "#### Nearest Neighbor"
   ]
  },
  {
   "cell_type": "code",
   "execution_count": null,
   "metadata": {},
   "outputs": [],
   "source": [
    "nearest_neighbor_test(graph, ITER_MAX, 6110)"
   ]
  },
  {
   "cell_type": "markdown",
   "metadata": {},
   "source": [
    "#### Greedy Randomized Adaptive Search Procedure"
   ]
  },
  {
   "cell_type": "code",
   "execution_count": null,
   "metadata": {},
   "outputs": [],
   "source": [
    "grasp_test(graph, ITER_MAX, 6110)"
   ]
  },
  {
   "cell_type": "markdown",
   "metadata": {},
   "source": [
    "#### Variable Neighborhood Search"
   ]
  },
  {
   "cell_type": "code",
   "execution_count": null,
   "metadata": {},
   "outputs": [],
   "source": [
    "vns_test(graph, ITER_MAX, 6110)"
   ]
  },
  {
   "cell_type": "markdown",
   "metadata": {},
   "source": [
    "### brazil58"
   ]
  },
  {
   "cell_type": "code",
   "execution_count": null,
   "metadata": {},
   "outputs": [],
   "source": [
    "graph = Graph(58)\n",
    "graph.build(DATA_TEST[4], _type='tsp_test')\n",
    "print(graph.num_vertices())"
   ]
  },
  {
   "cell_type": "markdown",
   "metadata": {},
   "source": [
    "#### Nearest Neighbor"
   ]
  },
  {
   "cell_type": "code",
   "execution_count": null,
   "metadata": {},
   "outputs": [],
   "source": [
    "nearest_neighbor_test(graph, ITER_MAX, 25395)"
   ]
  },
  {
   "cell_type": "markdown",
   "metadata": {},
   "source": [
    "#### Greedy Randomized Adaptive Search Procedure"
   ]
  },
  {
   "cell_type": "code",
   "execution_count": null,
   "metadata": {},
   "outputs": [],
   "source": [
    "grasp_test(graph, ITER_MAX, 25395)"
   ]
  },
  {
   "cell_type": "markdown",
   "metadata": {},
   "source": [
    "#### Variable Neighborhood Search"
   ]
  },
  {
   "cell_type": "code",
   "execution_count": null,
   "metadata": {},
   "outputs": [],
   "source": [
    "vns_test(graph, ITER_MAX, 25395)"
   ]
  },
  {
   "cell_type": "markdown",
   "metadata": {},
   "source": [
    "### swiss42"
   ]
  },
  {
   "cell_type": "code",
   "execution_count": null,
   "metadata": {},
   "outputs": [],
   "source": [
    "graph = Graph(42)\n",
    "graph.build(DATA_TEST[5], _type='tsp_test')\n",
    "print(graph.num_vertices())"
   ]
  },
  {
   "cell_type": "markdown",
   "metadata": {},
   "source": [
    "#### Nearest Neighbor"
   ]
  },
  {
   "cell_type": "code",
   "execution_count": null,
   "metadata": {},
   "outputs": [],
   "source": [
    "nearest_neighbor_test(graph, ITER_MAX, 1273)"
   ]
  },
  {
   "cell_type": "markdown",
   "metadata": {},
   "source": [
    "#### Greedy Randomized Adaptive Search Procedure"
   ]
  },
  {
   "cell_type": "code",
   "execution_count": null,
   "metadata": {},
   "outputs": [],
   "source": [
    "grasp_test(graph, ITER_MAX, 1273)"
   ]
  },
  {
   "cell_type": "markdown",
   "metadata": {},
   "source": [
    "#### Variable Neighborhood Search"
   ]
  },
  {
   "cell_type": "code",
   "execution_count": null,
   "metadata": {},
   "outputs": [],
   "source": [
    "vns_test(graph, ITER_MAX, 1273)"
   ]
  },
  {
   "cell_type": "markdown",
   "metadata": {},
   "source": [
    "### bayg29"
   ]
  },
  {
   "cell_type": "code",
   "execution_count": null,
   "metadata": {},
   "outputs": [],
   "source": [
    "graph = Graph(29)\n",
    "graph.build(DATA_TEST[6], _type='tsp_test')\n",
    "print(graph.num_vertices())"
   ]
  },
  {
   "cell_type": "markdown",
   "metadata": {},
   "source": [
    "#### Nearest Neighbor"
   ]
  },
  {
   "cell_type": "code",
   "execution_count": null,
   "metadata": {},
   "outputs": [],
   "source": [
    "nearest_neighbor_test(graph, ITER_MAX, 1610)"
   ]
  },
  {
   "cell_type": "markdown",
   "metadata": {},
   "source": [
    "#### Greedy Randomized Adaptive Search Procedure"
   ]
  },
  {
   "cell_type": "code",
   "execution_count": null,
   "metadata": {},
   "outputs": [],
   "source": [
    "grasp_test(graph, ITER_MAX, 1610)"
   ]
  },
  {
   "cell_type": "markdown",
   "metadata": {},
   "source": [
    "#### Variable Neighborhood Search"
   ]
  },
  {
   "cell_type": "code",
   "execution_count": null,
   "metadata": {},
   "outputs": [],
   "source": [
    "vns_test(graph, ITER_MAX, 1610)"
   ]
  },
  {
   "cell_type": "markdown",
   "metadata": {},
   "source": [
    "### bier127"
   ]
  },
  {
   "cell_type": "code",
   "execution_count": null,
   "metadata": {},
   "outputs": [],
   "source": [
    "graph = Graph(127)\n",
    "graph.build(DATA_TEST[7], _type='tsp_test')\n",
    "print(graph.num_vertices())"
   ]
  },
  {
   "cell_type": "markdown",
   "metadata": {},
   "source": [
    "#### Nearest Neighbor"
   ]
  },
  {
   "cell_type": "code",
   "execution_count": null,
   "metadata": {},
   "outputs": [],
   "source": [
    "nearest_neighbor_test(graph, ITER_MAX, 118282)"
   ]
  },
  {
   "cell_type": "markdown",
   "metadata": {},
   "source": [
    "#### Greedy Randomized Adaptive Search Procedure"
   ]
  },
  {
   "cell_type": "code",
   "execution_count": null,
   "metadata": {},
   "outputs": [],
   "source": [
    "grasp_test(graph, ITER_MAX, 118282)"
   ]
  },
  {
   "cell_type": "markdown",
   "metadata": {},
   "source": [
    "#### Variable Neighborhood Search"
   ]
  },
  {
   "cell_type": "code",
   "execution_count": null,
   "metadata": {},
   "outputs": [],
   "source": [
    "vns_test(graph, ITER_MAX, 118282)"
   ]
  }
 ],
 "metadata": {
  "kernelspec": {
   "display_name": "Python 3",
   "language": "python",
   "name": "python3"
  },
  "language_info": {
   "codemirror_mode": {
    "name": "ipython",
    "version": 3
   },
   "file_extension": ".py",
   "mimetype": "text/x-python",
   "name": "python",
   "nbconvert_exporter": "python",
   "pygments_lexer": "ipython3",
   "version": "3.6.5"
  }
 },
 "nbformat": 4,
 "nbformat_minor": 2
}
