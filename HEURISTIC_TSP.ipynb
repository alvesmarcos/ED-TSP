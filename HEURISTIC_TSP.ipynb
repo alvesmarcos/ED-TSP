{
 "cells": [
  {
   "cell_type": "markdown",
   "metadata": {
    "colab_type": "text",
    "id": "Im6ESXi_Y-ug"
   },
   "source": [
    "## Setup\n",
    "\n",
    "All libs that will be use in this note"
   ]
  },
  {
   "cell_type": "code",
   "execution_count": 1,
   "metadata": {
    "colab": {},
    "colab_type": "code",
    "id": "VEWC_k3NY-uh"
   },
   "outputs": [],
   "source": [
    "import numpy as np\n",
    "from glob import glob\n",
    "import random\n",
    "import time "
   ]
  },
  {
   "cell_type": "markdown",
   "metadata": {
    "colab_type": "text",
    "id": "_xYCh7ctY-ul"
   },
   "source": [
    "## Preprocessing\n",
    "\n",
    "There are two folders that contains the inputs of the problem **Traveling Salesman Problem** they are different so let's split it."
   ]
  },
  {
   "cell_type": "markdown",
   "metadata": {
    "colab_type": "text",
    "id": "pBCu2mu8Y-um"
   },
   "source": [
    "### Test Data"
   ]
  },
  {
   "cell_type": "code",
   "execution_count": 0,
   "metadata": {
    "colab": {
     "base_uri": "https://localhost:8080/",
     "height": 139
    },
    "colab_type": "code",
    "id": "ckwCIMmnZLAG",
    "outputId": "dff93c05-df98-4b83-fb67-6506c246a2f7"
   },
   "outputs": [
    {
     "name": "stdout",
     "output_type": "stream",
     "text": [
      "Go to this URL in a browser: https://accounts.google.com/o/oauth2/auth?client_id=947318989803-6bn6qk8qdgf4n4g3pfee6491hc0brc4i.apps.googleusercontent.com&redirect_uri=urn%3Aietf%3Awg%3Aoauth%3A2.0%3Aoob&scope=email%20https%3A%2F%2Fwww.googleapis.com%2Fauth%2Fdocs.test%20https%3A%2F%2Fwww.googleapis.com%2Fauth%2Fdrive%20https%3A%2F%2Fwww.googleapis.com%2Fauth%2Fdrive.photos.readonly%20https%3A%2F%2Fwww.googleapis.com%2Fauth%2Fpeopleapi.readonly&response_type=code\n",
      "\n",
      "Enter your authorization code:\n",
      "··········\n",
      "Mounted at /content/drive\n",
      "/content/drive/My Drive/Colab Notebooks/ED-TSP\n"
     ]
    }
   ],
   "source": [
    "from google.colab import drive\n",
    "drive.mount('/content/drive')\n",
    "\n",
    "%cd '/content/drive/My Drive/Colab Notebooks/ED-TSP/'"
   ]
  },
  {
   "cell_type": "code",
   "execution_count": 0,
   "metadata": {
    "colab": {
     "base_uri": "https://localhost:8080/",
     "height": 54
    },
    "colab_type": "code",
    "id": "DwYixgdvY-um",
    "outputId": "63da7742-f15f-4b0a-dd71-f57bb86549be"
   },
   "outputs": [
    {
     "name": "stdout",
     "output_type": "stream",
     "text": [
      "['instancias/instancias_teste/bayg29.txt', 'instancias/instancias_teste/bays29.txt', 'instancias/instancias_teste/berlin52.txt', 'instancias/instancias_teste/bier127.txt', 'instancias/instancias_teste/brazil58.txt', 'instancias/instancias_teste/ch130.txt', 'instancias/instancias_teste/ch150.txt', 'instancias/instancias_teste/descricao.txt', 'instancias/instancias_teste/swiss42.txt']\n"
     ]
    }
   ],
   "source": [
    "PATH_TEST = 'instancias/instancias_teste/'\n",
    "DATA_TEST = glob(PATH_TEST+'*.txt')\n",
    "print(DATA_TEST)"
   ]
  },
  {
   "cell_type": "markdown",
   "metadata": {
    "colab_type": "text",
    "id": "nTv8wCfnY-us"
   },
   "source": [
    "### TSP Cup Data"
   ]
  },
  {
   "cell_type": "code",
   "execution_count": 0,
   "metadata": {
    "colab": {
     "base_uri": "https://localhost:8080/",
     "height": 54
    },
    "colab_type": "code",
    "id": "s1I0J_9NY-ut",
    "outputId": "055dc38f-de5c-4767-fa70-4c5ac09f4f7d"
   },
   "outputs": [
    {
     "name": "stdout",
     "output_type": "stream",
     "text": [
      "['instancias/instancias_tsp_cup/descricao.txt', 'instancias/instancias_tsp_cup/tsp1.txt', 'instancias/instancias_tsp_cup/tsp2.txt', 'instancias/instancias_tsp_cup/tsp3.txt']\n"
     ]
    }
   ],
   "source": [
    "PATH_CUP = 'instancias/instancias_tsp_cup/'\n",
    "DATA_CUP = glob(PATH_CUP+'*.txt')\n",
    "print(DATA_CUP)"
   ]
  },
  {
   "cell_type": "markdown",
   "metadata": {
    "colab_type": "text",
    "id": "x1_2l4aeY-uw"
   },
   "source": [
    "## Math\n",
    "\n",
    "Some mathematics functions that will be useful "
   ]
  },
  {
   "cell_type": "code",
   "execution_count": 0,
   "metadata": {
    "colab": {},
    "colab_type": "code",
    "id": "ISKn7I9AY-ux"
   },
   "outputs": [],
   "source": [
    "def euclidian_distance(p1, p2):\n",
    "    return int(np.linalg.norm(p1-p2).round())"
   ]
  },
  {
   "cell_type": "code",
   "execution_count": 0,
   "metadata": {
    "colab": {
     "base_uri": "https://localhost:8080/",
     "height": 34
    },
    "colab_type": "code",
    "id": "HHnaDUFDY-u1",
    "outputId": "68b026bd-ab87-440f-e458-4a4aee9f7257"
   },
   "outputs": [
    {
     "name": "stdout",
     "output_type": "stream",
     "text": [
      "9\n"
     ]
    }
   ],
   "source": [
    "print(euclidian_distance(np.array([1,1]), np.array([1,10])))"
   ]
  },
  {
   "cell_type": "markdown",
   "metadata": {
    "colab_type": "text",
    "id": "Q5uIzgzIY-u6"
   },
   "source": [
    "## Graph\n",
    "\n",
    "We'll use a graph as data structure in order to representation our problem, where each city is a vertex and a connection is representation by a edge. "
   ]
  },
  {
   "cell_type": "code",
   "execution_count": 0,
   "metadata": {
    "colab": {},
    "colab_type": "code",
    "id": "hbGBkLgVY-u7"
   },
   "outputs": [],
   "source": [
    "class Graph:\n",
    "    def __init__(self, num_vertices):\n",
    "        self._adjacency_matrix = np.zeros((num_vertices, num_vertices), dtype=np.int64)\n",
    "        \n",
    "    def build(self, file, _type='tsp_test'):\n",
    "        if _type == 'tsp_cup':\n",
    "            self._handle_tsp_cup(file)\n",
    "        elif _type == 'tsp_test':\n",
    "            self._handle_tsp_test(file)\n",
    "        else:\n",
    "            print('Undefined type')\n",
    "        \n",
    "    def _handle_tsp_cup(self, file):\n",
    "        data = []\n",
    "        with open(file, 'r') as f:\n",
    "            for line in f:\n",
    "                try:\n",
    "                    _, x, y = list(filter(lambda x: x!='', line.split(' ')))\n",
    "                    data.append(np.array((float(x), float(y[:-1]))))\n",
    "                except:\n",
    "                    pass\n",
    "        for i, p1 in enumerate(data):\n",
    "            for j, p2 in enumerate(data):\n",
    "                self._adjacency_matrix[i][j] = euclidian_distance(p1, p2)\n",
    "    \n",
    "    def _handle_tsp_test(self, file):\n",
    "        data = []\n",
    "        with open(file, 'r') as f:\n",
    "            _input = f.readlines()\n",
    "            _input = [_.strip() for _ in _input]\n",
    "            _input = [_.split() for _ in _input]\n",
    "            for i, array in enumerate(_input[3:]):\n",
    "                try:\n",
    "                    _ = [int(_) for _ in array]\n",
    "                    if len(_) > 0:\n",
    "                        data.append(_)\n",
    "                except:\n",
    "                    pass\n",
    "        self._adjacency_matrix = data\n",
    "    \n",
    "    def num_vertices(self):\n",
    "        return len(self._adjacency_matrix)\n",
    "    \n",
    "    def get_cost(self, _list_path_nodes):\n",
    "        path = [self._adjacency_matrix[current][_next] for current, _next in zip(_list_path_nodes[1:], _list_path_nodes[:-1])]\n",
    "        return sum(path)"
   ]
  },
  {
   "cell_type": "markdown",
   "metadata": {
    "colab_type": "text",
    "id": "593Gs7anY-u-"
   },
   "source": [
    "## Optimizations Solutions\n",
    "\n",
    "Some functions that will give us solutions for our problem."
   ]
  },
  {
   "cell_type": "markdown",
   "metadata": {
    "colab_type": "text",
    "id": "b0qQePhIY-u-"
   },
   "source": [
    "## Helpers\n",
    "\n",
    "Below functions that will be userful to generation solutions"
   ]
  },
  {
   "cell_type": "code",
   "execution_count": 0,
   "metadata": {
    "colab": {},
    "colab_type": "code",
    "id": "1dOho5YVY-u_"
   },
   "outputs": [],
   "source": [
    "def pick_element(_list, nodes):\n",
    "    for index, x in enumerate(_list):\n",
    "        if not nodes[index]:\n",
    "            return index, x\n",
    "    return None"
   ]
  },
  {
   "cell_type": "code",
   "execution_count": 0,
   "metadata": {
    "colab": {},
    "colab_type": "code",
    "id": "-vO_ypOMY-vD"
   },
   "outputs": [],
   "source": [
    "def get_min_distance(_distances, nodes):\n",
    "    min_index, min_val = pick_element(_distances, nodes)\n",
    "    for index, x in enumerate(_distances):\n",
    "        if min_val > x:\n",
    "            min_val = x if not nodes[index] else min_val\n",
    "            min_index = index if not nodes[index] else min_index\n",
    "    return min_val, min_index"
   ]
  },
  {
   "cell_type": "code",
   "execution_count": 0,
   "metadata": {
    "colab": {},
    "colab_type": "code",
    "id": "a6tHt2z-Y-vH"
   },
   "outputs": [],
   "source": [
    "def get_cost_swap(graph, cost, _list, i, k):\n",
    "    cost_swap = cost\n",
    "    if i == k:\n",
    "        return cost_swap\n",
    "    if i > k:\n",
    "        i, k = k, i\n",
    "    if i+1 == k:\n",
    "        prev, _next = i-1 if i > 0 else i, k+1 if k < graph.num_vertices() - 1 else k\n",
    "        cost_swap -= graph.get_cost([_list[prev], _list[i], _list[k], _list[_next]])\n",
    "        \n",
    "        prev, _next = i-1 if i > 0 else k, k+1 if k < graph.num_vertices() - 1 else i\n",
    "        cost_swap += graph.get_cost([_list[prev], _list[k], _list[i], _list[_next]])\n",
    "    else:\n",
    "        prev_i, _next_i = i-1 if i > 0 else i, i+1\n",
    "        prev_k, _next_k = k-1, k+1 if k < graph.num_vertices() - 1 else k\n",
    "        \n",
    "        cost_swap -= graph.get_cost([_list[prev_i], _list[i], _list[_next_i]])\n",
    "        cost_swap -= graph.get_cost([_list[prev_k], _list[k], _list[_next_k]])\n",
    "        \n",
    "        prev_i, _next_i = i-1 if i > 0 else k, i+1\n",
    "        prev_k, _next_k = k-1, k+1 if k < graph.num_vertices() - 1 else i\n",
    "        \n",
    "        cost_swap += graph.get_cost([_list[prev_i], _list[k], _list[_next_i]])\n",
    "        cost_swap += graph.get_cost([_list[prev_k], _list[i], _list[_next_k]])\n",
    "    return cost_swap"
   ]
  },
  {
   "cell_type": "markdown",
   "metadata": {
    "colab_type": "text",
    "id": "KEukPPgKY-vK"
   },
   "source": [
    "### Random Restart"
   ]
  },
  {
   "cell_type": "code",
   "execution_count": 0,
   "metadata": {
    "colab": {},
    "colab_type": "code",
    "id": "nYgX4V7EY-vL"
   },
   "outputs": [],
   "source": [
    "def random_restart(graph, itermax):\n",
    "    _iter = 0\n",
    "    solution = [i for i in range(graph.num_vertices())]\n",
    "    np.random.shuffle(solution)\n",
    "    current_solution, current_cost = solution, graph.get_cost(solution)\n",
    "    while _iter < itermax:\n",
    "        np.random.shuffle(solution)\n",
    "        cost = graph.get_cost(solution)\n",
    "        if current_cost > cost:\n",
    "            current_cost, current_solution = cost, solution\n",
    "            _iter = 0\n",
    "        else:\n",
    "            _iter += 1\n",
    "    current_solution = current_solution + [current_solution[0]]\n",
    "    return graph.get_cost(current_solution), current_solution"
   ]
  },
  {
   "cell_type": "markdown",
   "metadata": {
    "colab_type": "text",
    "id": "j74TWB-fY-vO"
   },
   "source": [
    "### Nearest Neighbor"
   ]
  },
  {
   "cell_type": "code",
   "execution_count": 0,
   "metadata": {
    "colab": {},
    "colab_type": "code",
    "id": "ffTGBtKdY-vP"
   },
   "outputs": [],
   "source": [
    "def nearest_neighbor(graph, initial):\n",
    "    solution = []\n",
    "    current_node = initial\n",
    "    nodes = [False for x in range(graph.num_vertices())]\n",
    "    nodes[current_node] = True\n",
    "    flag = True\n",
    "    solution.append(current_node)\n",
    "    while flag:\n",
    "        distances = graph._adjacency_matrix[current_node]\n",
    "        min_distance, min_index = get_min_distance(distances, nodes)\n",
    "        current_node = min_index\n",
    "        nodes[current_node] = True\n",
    "        solution.append(current_node)\n",
    "        if all(nodes):\n",
    "            solution.append(initial)\n",
    "            flag = False\n",
    "    return graph.get_cost(solution), solution"
   ]
  },
  {
   "cell_type": "markdown",
   "metadata": {
    "colab_type": "text",
    "id": "KgsQj5UnY-vR"
   },
   "source": [
    "### Best Insertion"
   ]
  },
  {
   "cell_type": "code",
   "execution_count": 0,
   "metadata": {
    "colab": {},
    "colab_type": "code",
    "id": "bTsnvHbTY-vT"
   },
   "outputs": [],
   "source": [
    "def best_insertion(graph, initial):\n",
    "    current_cost, current_solution = initial\n",
    "    index = np.random.randint(graph.num_vertices())\n",
    "    for i in range(graph.num_vertices()):\n",
    "        cost = get_cost_swap(graph, current_cost, current_solution, i, index)\n",
    "        if current_cost > cost:\n",
    "            current_solution[i], current_solution[index] = current_solution[index], current_solution[i]\n",
    "            current_cost = cost\n",
    "    return graph.get_cost(current_solution), current_solution"
   ]
  },
  {
   "cell_type": "markdown",
   "metadata": {
    "colab_type": "text",
    "id": "AK5bOsgIY-vW"
   },
   "source": [
    "### Swap"
   ]
  },
  {
   "cell_type": "code",
   "execution_count": 0,
   "metadata": {
    "colab": {},
    "colab_type": "code",
    "id": "zuaQwGWAY-vX"
   },
   "outputs": [],
   "source": [
    "def first_swap(graph, initial):\n",
    "    current_cost, current_solution = initial\n",
    "    flag = True\n",
    "    while flag:\n",
    "        flag = False\n",
    "        for i in range(graph.num_vertices()):\n",
    "            for k in range(i+1, graph.num_vertices()):\n",
    "                cost = get_cost_swap(graph, current_cost, current_solution, i, k) \n",
    "                if current_cost > cost:\n",
    "                    current_solution[i], current_solution[k] = current_solution[k], current_solution[i]\n",
    "                    current_cost = cost\n",
    "                    return graph.get_cost(current_solution), current_solution\n",
    "    return graph.get_cost(current_solution), current_solution"
   ]
  },
  {
   "cell_type": "markdown",
   "metadata": {
    "colab_type": "text",
    "id": "71CPR1PAY-va"
   },
   "source": [
    "### Perturbation"
   ]
  },
  {
   "cell_type": "code",
   "execution_count": 0,
   "metadata": {
    "colab": {},
    "colab_type": "code",
    "id": "6fvNGEiyY-vb"
   },
   "outputs": [],
   "source": [
    "def perturbation(graph, _list):\n",
    "    i=k=0\n",
    "    while i==k:\n",
    "        i, k = np.random.randint(graph.num_vertices()), np.random.randint(graph.num_vertices())\n",
    "    if i > k:\n",
    "        i, k = k, i\n",
    "    start, middle, end = _list[:i], _list[i:k+1], _list[k+1:]\n",
    "    middle.reverse()\n",
    "    solution = start + middle + end\n",
    "    return graph.get_cost(solution), solution"
   ]
  },
  {
   "cell_type": "markdown",
   "metadata": {
    "colab_type": "text",
    "id": "AVT3HDjnY-vg"
   },
   "source": [
    "### VND - Variable Neighborhood Descent"
   ]
  },
  {
   "cell_type": "code",
   "execution_count": 0,
   "metadata": {
    "colab": {},
    "colab_type": "code",
    "id": "AfUu6cNVY-vh"
   },
   "outputs": [],
   "source": [
    "def vnd(graph, initial, itermax):\n",
    "    _iter = 0\n",
    "    current_cost, current_solution = graph.get_cost(initial), initial\n",
    "    while _iter < itermax:\n",
    "        is_better = True\n",
    "        while is_better:\n",
    "            is_better = False\n",
    "            cost, solution = best_insertion(graph, (current_cost, current_solution))\n",
    "            if current_cost > cost:\n",
    "                current_cost, current_solution = cost, solution\n",
    "                is_better = True\n",
    "                _iter = 0\n",
    "            else:\n",
    "                cost, solution = first_swap(graph, (current_cost, current_solution))\n",
    "                if current_cost > cost:\n",
    "                    current_cost, current_solution = cost, solution\n",
    "                    is_better = True\n",
    "                    _iter = 0\n",
    "        _iter += 1\n",
    "    return graph.get_cost(current_solution), current_solution"
   ]
  },
  {
   "cell_type": "markdown",
   "metadata": {
    "colab_type": "text",
    "id": "i3yu4eVjY-vm"
   },
   "source": [
    "### GRASP - Greedy Randomized Adaptive Search Procedure "
   ]
  },
  {
   "cell_type": "code",
   "execution_count": 0,
   "metadata": {
    "colab": {},
    "colab_type": "code",
    "id": "nclG_5-WY-vo"
   },
   "outputs": [],
   "source": [
    "def grasp(graph, itermax, alpha=0):\n",
    "    _iter = 0\n",
    "    current_cost = current_solution = -1\n",
    "    while _iter < itermax:\n",
    "        _random = np.random.random_sample() + alpha\n",
    "        _, solution = nearest_neighbor(graph, np.random.randint(graph.num_vertices())) if _random < 1 else random_restart(graph, 100)\n",
    "        solution = solution[:-1]\n",
    "        cost, solution = vnd(graph, solution, 1)\n",
    "        if current_cost > cost or _iter == 0:\n",
    "            current_cost, current_solution = cost, solution\n",
    "        _iter += 1\n",
    "    current_solution = current_solution + [current_solution[0]]\n",
    "    return graph.get_cost(current_solution), current_solution"
   ]
  },
  {
   "cell_type": "markdown",
   "metadata": {
    "colab_type": "text",
    "id": "7KZ_zgT3Y-vs"
   },
   "source": [
    "### VNS - Variable Neighborhood Search"
   ]
  },
  {
   "cell_type": "code",
   "execution_count": 2,
   "metadata": {
    "colab": {},
    "colab_type": "code",
    "id": "6Zv-ggTxY-vt"
   },
   "outputs": [],
   "source": [
    "def vns(graph, itermax):\n",
    "    _iter = 0\n",
    "    current_cost = current_solution = -1\n",
    "    _, solution = nearest_neighbor(graph, np.random.randint(graph.num_vertices()))\n",
    "    solution = solution[:-1]\n",
    "    while _iter < itermax:\n",
    "        for _ in range(4):\n",
    "            _, solution = perturbation(graph, solution)\n",
    "        cost, solution = vnd(graph, solution, 1)\n",
    "        if current_cost > cost or _iter == 0:\n",
    "            current_cost, current_solution = cost, solution\n",
    "        _iter += 1\n",
    "    current_solution = current_solution + [current_solution[0]]\n",
    "    return graph.get_cost(current_solution), current_solution"
   ]
  },
  {
   "cell_type": "markdown",
   "metadata": {
    "colab_type": "text",
    "id": "-IOvMP41Y-vz"
   },
   "source": [
    "## Test\n",
    "\n",
    "For each test we'll build a graph with the adjacency matrix representing our cities."
   ]
  },
  {
   "cell_type": "markdown",
   "metadata": {
    "colab_type": "text",
    "id": "Jr0VH1qAY-vz"
   },
   "source": [
    "## Helpers\n",
    "\n",
    "Below functions that will be userful to generation informations about our solutions"
   ]
  },
  {
   "cell_type": "code",
   "execution_count": 0,
   "metadata": {
    "colab": {},
    "colab_type": "code",
    "id": "higNKlRpY-v0"
   },
   "outputs": [],
   "source": [
    "def gap(val_heur, optimal):\n",
    "    return ((val_heur-optimal)/optimal)*100"
   ]
  },
  {
   "cell_type": "code",
   "execution_count": 0,
   "metadata": {
    "colab": {},
    "colab_type": "code",
    "id": "5gPkS70uY-v5"
   },
   "outputs": [],
   "source": [
    "def nearest_neighbor_test(graph, iter_max, optimal):\n",
    "    indexes = []\n",
    "    costs = []\n",
    "    times = []\n",
    "    random_index = np.random.randint(graph.num_vertices())\n",
    "    indexes.append(random_index)\n",
    "    _iter = 0\n",
    "    while _iter < iter_max:\n",
    "        while random_index in indexes:\n",
    "            random_index = np.random.randint(graph.num_vertices())\n",
    "        indexes.append(random_index)\n",
    "        start = time.time()\n",
    "        cost, solution = nearest_neighbor(graph, random_index)\n",
    "        end = time.time()\n",
    "        times.append(end-start)\n",
    "        costs.append(cost)\n",
    "        print('({:}) cost: {:} time: {:}'.format(_iter+1, cost, end-start))\n",
    "        _iter += 1\n",
    "    print('Mean Cost: {:} \\t Optimal: {:} \\t Mean Time: {:} \\t Gap: {:}'\n",
    "          .format(np.mean(costs), np.min(costs), np.mean(times), gap(np.min(costs),optimal)))"
   ]
  },
  {
   "cell_type": "code",
   "execution_count": 0,
   "metadata": {
    "colab": {},
    "colab_type": "code",
    "id": "7XJyOsVKY-v7"
   },
   "outputs": [],
   "source": [
    "def grasp_test(graph, iter_max, optimal):\n",
    "    _iter = 0\n",
    "    costs = []\n",
    "    times = []\n",
    "    while _iter < iter_max:\n",
    "        start = time.time()\n",
    "        cost, solution = grasp(graph, 50, alpha=0.5)\n",
    "        end = time.time()\n",
    "        times.append(end-start)\n",
    "        costs.append(cost)\n",
    "        print('({:}) cost: {:} time: {:}'.format(_iter+1, cost, end-start))\n",
    "        _iter += 1\n",
    "    print('Mean Cost: {:} \\t Optimal: {:} \\t Mean Time: {:} \\t Gap: {:}'\n",
    "          .format(np.mean(costs), np.min(costs), np.mean(times), gap(np.min(costs),optimal)))"
   ]
  },
  {
   "cell_type": "code",
   "execution_count": 0,
   "metadata": {
    "colab": {},
    "colab_type": "code",
    "id": "ko-4thKKY-v-"
   },
   "outputs": [],
   "source": [
    "def vns_test(graph, iter_max, optimal):\n",
    "    _iter = 0\n",
    "    costs = []\n",
    "    times = []\n",
    "    while _iter < iter_max:\n",
    "        start = time.time()\n",
    "        cost, solution = vns(graph, 50)\n",
    "        end = time.time()\n",
    "        times.append(end-start)\n",
    "        costs.append(cost)\n",
    "        print('({:}) cost: {:} time: {:}'.format(_iter+1, cost, end-start))\n",
    "        _iter += 1\n",
    "    print('Mean Cost: {:} \\t Optimal: {:} \\t Mean Time: {:} \\t Gap: {:}'\n",
    "          .format(np.mean(costs), np.min(costs), np.mean(times), gap(np.min(costs),optimal)))"
   ]
  },
  {
   "cell_type": "markdown",
   "metadata": {
    "colab_type": "text",
    "id": "h8arY-1JY-v_"
   },
   "source": [
    "### TSP TEST"
   ]
  },
  {
   "cell_type": "code",
   "execution_count": 0,
   "metadata": {
    "colab": {
     "base_uri": "https://localhost:8080/",
     "height": 54
    },
    "colab_type": "code",
    "id": "1xFrnS8HY-wA",
    "outputId": "83122403-e0c0-4767-c3c7-6aa1ef3eed3a"
   },
   "outputs": [
    {
     "name": "stdout",
     "output_type": "stream",
     "text": [
      "['instancias/instancias_teste/bayg29.txt', 'instancias/instancias_teste/bays29.txt', 'instancias/instancias_teste/berlin52.txt', 'instancias/instancias_teste/bier127.txt', 'instancias/instancias_teste/brazil58.txt', 'instancias/instancias_teste/ch130.txt', 'instancias/instancias_teste/ch150.txt', 'instancias/instancias_teste/descricao.txt', 'instancias/instancias_teste/swiss42.txt']\n"
     ]
    }
   ],
   "source": [
    "ITER_MAX = 10\n",
    "print(DATA_TEST)"
   ]
  },
  {
   "cell_type": "markdown",
   "metadata": {
    "colab_type": "text",
    "id": "KKik64z4Y-xU"
   },
   "source": [
    "### bayg29"
   ]
  },
  {
   "cell_type": "code",
   "execution_count": 0,
   "metadata": {
    "colab": {
     "base_uri": "https://localhost:8080/",
     "height": 34
    },
    "colab_type": "code",
    "id": "Bx7BXGIKY-xV",
    "outputId": "da4b39ec-4231-41d5-9c0b-bf6fc139c251"
   },
   "outputs": [
    {
     "name": "stdout",
     "output_type": "stream",
     "text": [
      "29\n"
     ]
    }
   ],
   "source": [
    "graph = Graph(29)\n",
    "graph.build(DATA_TEST[0], _type='tsp_test')\n",
    "print(graph.num_vertices())"
   ]
  },
  {
   "cell_type": "markdown",
   "metadata": {
    "colab_type": "text",
    "id": "9L-wKJPkY-xW"
   },
   "source": [
    "#### Nearest Neighbor"
   ]
  },
  {
   "cell_type": "code",
   "execution_count": 0,
   "metadata": {
    "colab": {
     "base_uri": "https://localhost:8080/",
     "height": 204
    },
    "colab_type": "code",
    "id": "__1ezBZEY-xW",
    "outputId": "683bbf28-1158-43f8-e236-d567ee4ad993"
   },
   "outputs": [
    {
     "name": "stdout",
     "output_type": "stream",
     "text": [
      "(1) cost: 2020 time: 0.00016069412231445312\n",
      "(2) cost: 2110 time: 0.00012302398681640625\n",
      "(3) cost: 2085 time: 0.00014019012451171875\n",
      "(4) cost: 2263 time: 0.00011491775512695312\n",
      "(5) cost: 1952 time: 0.00011801719665527344\n",
      "(6) cost: 2052 time: 0.00011444091796875\n",
      "(7) cost: 2149 time: 0.00011539459228515625\n",
      "(8) cost: 2095 time: 0.00011229515075683594\n",
      "(9) cost: 2014 time: 0.00011420249938964844\n",
      "(10) cost: 2005 time: 0.0007457733154296875\n",
      "Mean Cost: 2074.5 \t Optimal: 1952 \t Mean Time: 0.0001858949661254883 \t Gap: 21.242236024844722\n"
     ]
    }
   ],
   "source": [
    "nearest_neighbor_test(graph, ITER_MAX, 1610)"
   ]
  },
  {
   "cell_type": "markdown",
   "metadata": {
    "colab_type": "text",
    "id": "JfPwuArWY-xY"
   },
   "source": [
    "#### Greedy Randomized Adaptive Search Procedure"
   ]
  },
  {
   "cell_type": "code",
   "execution_count": 0,
   "metadata": {
    "colab": {
     "base_uri": "https://localhost:8080/",
     "height": 204
    },
    "colab_type": "code",
    "id": "aTQJKxJqY-xZ",
    "outputId": "c808a6f2-93e4-44d5-f306-266aba926ddf"
   },
   "outputs": [
    {
     "name": "stdout",
     "output_type": "stream",
     "text": [
      "(1) cost: 1889 time: 0.963158369064331\n",
      "(2) cost: 1969 time: 0.9000062942504883\n",
      "(3) cost: 1969 time: 0.8635907173156738\n",
      "(4) cost: 1969 time: 0.98714280128479\n",
      "(5) cost: 1897 time: 0.9855978488922119\n",
      "(6) cost: 1969 time: 0.8711667060852051\n",
      "(7) cost: 1897 time: 0.896195650100708\n",
      "(8) cost: 1872 time: 0.9983537197113037\n",
      "(9) cost: 1897 time: 1.0292608737945557\n",
      "(10) cost: 1897 time: 1.028688907623291\n",
      "Mean Cost: 1922.5 \t Optimal: 1872 \t Mean Time: 0.9523161888122559 \t Gap: 16.273291925465838\n"
     ]
    }
   ],
   "source": [
    "grasp_test(graph, ITER_MAX, 1610)"
   ]
  },
  {
   "cell_type": "markdown",
   "metadata": {
    "colab_type": "text",
    "id": "GO_Xhl7QY-xb"
   },
   "source": [
    "#### Variable Neighborhood Search"
   ]
  },
  {
   "cell_type": "code",
   "execution_count": 0,
   "metadata": {
    "colab": {
     "base_uri": "https://localhost:8080/",
     "height": 204
    },
    "colab_type": "code",
    "id": "y67LxD3wY-xb",
    "outputId": "c40e8e66-5579-4389-de99-bd7c4359084c"
   },
   "outputs": [
    {
     "name": "stdout",
     "output_type": "stream",
     "text": [
      "(1) cost: 1796 time: 0.5350902080535889\n",
      "(2) cost: 1953 time: 0.5878357887268066\n",
      "(3) cost: 1749 time: 0.5455679893493652\n",
      "(4) cost: 1964 time: 0.5881626605987549\n",
      "(5) cost: 1760 time: 0.6722347736358643\n",
      "(6) cost: 1897 time: 0.48314499855041504\n",
      "(7) cost: 1777 time: 0.6087136268615723\n",
      "(8) cost: 1756 time: 0.6632716655731201\n",
      "(9) cost: 1825 time: 0.5968742370605469\n",
      "(10) cost: 1990 time: 0.6508467197418213\n",
      "Mean Cost: 1846.7 \t Optimal: 1749 \t Mean Time: 0.5931742668151856 \t Gap: 8.633540372670808\n"
     ]
    }
   ],
   "source": [
    "vns_test(graph, ITER_MAX, 1610)"
   ]
  },
  {
   "cell_type": "markdown",
   "metadata": {
    "colab_type": "text",
    "id": "ZuX24CZ0Y-wS"
   },
   "source": [
    "### bays29"
   ]
  },
  {
   "cell_type": "code",
   "execution_count": 0,
   "metadata": {
    "colab": {
     "base_uri": "https://localhost:8080/",
     "height": 34
    },
    "colab_type": "code",
    "id": "MoQaFULFY-wS",
    "outputId": "4824f1f7-13bc-4e53-b82c-485311f932b0"
   },
   "outputs": [
    {
     "name": "stdout",
     "output_type": "stream",
     "text": [
      "29\n"
     ]
    }
   ],
   "source": [
    "graph = Graph(29)\n",
    "graph.build(DATA_TEST[1], _type='tsp_test')\n",
    "print(graph.num_vertices())"
   ]
  },
  {
   "cell_type": "markdown",
   "metadata": {
    "colab_type": "text",
    "id": "BZ7lfbCVY-wU"
   },
   "source": [
    "#### Nearest Neighbor"
   ]
  },
  {
   "cell_type": "code",
   "execution_count": 0,
   "metadata": {
    "colab": {
     "base_uri": "https://localhost:8080/",
     "height": 204
    },
    "colab_type": "code",
    "id": "WMGCbkLAY-wW",
    "outputId": "1266c503-4f65-4222-bf65-305fdf84f3c6"
   },
   "outputs": [
    {
     "name": "stdout",
     "output_type": "stream",
     "text": [
      "(1) cost: 2588 time: 0.00016450881958007812\n",
      "(2) cost: 2375 time: 0.00016307830810546875\n",
      "(3) cost: 2332 time: 0.00014829635620117188\n",
      "(4) cost: 2356 time: 0.0001361370086669922\n",
      "(5) cost: 2134 time: 0.000148773193359375\n",
      "(6) cost: 2356 time: 0.00014328956604003906\n",
      "(7) cost: 2411 time: 0.0001556873321533203\n",
      "(8) cost: 2380 time: 0.00016045570373535156\n",
      "(9) cost: 2293 time: 0.00015974044799804688\n",
      "(10) cost: 2382 time: 0.00023412704467773438\n",
      "Mean Cost: 2360.7 \t Optimal: 2134 \t Mean Time: 0.0001614093780517578 \t Gap: 5.643564356435644\n"
     ]
    }
   ],
   "source": [
    "nearest_neighbor_test(graph, ITER_MAX, 2020)"
   ]
  },
  {
   "cell_type": "markdown",
   "metadata": {
    "colab_type": "text",
    "id": "wUrvIGXrY-wa"
   },
   "source": [
    "#### Greedy Randomized Adaptive Search Procedure"
   ]
  },
  {
   "cell_type": "code",
   "execution_count": 0,
   "metadata": {
    "colab": {
     "base_uri": "https://localhost:8080/",
     "height": 204
    },
    "colab_type": "code",
    "id": "KjnlFZONY-wa",
    "outputId": "b91c9ba5-28b9-4cdf-ab46-0674f703de09"
   },
   "outputs": [
    {
     "name": "stdout",
     "output_type": "stream",
     "text": [
      "(1) cost: 2035 time: 0.9491374492645264\n",
      "(2) cost: 2255 time: 0.8849806785583496\n",
      "(3) cost: 2433 time: 0.8431110382080078\n",
      "(4) cost: 2255 time: 0.9915552139282227\n",
      "(5) cost: 2035 time: 1.0158419609069824\n",
      "(6) cost: 2255 time: 0.9508662223815918\n",
      "(7) cost: 2255 time: 0.938401460647583\n",
      "(8) cost: 2120 time: 0.86014723777771\n",
      "(9) cost: 2255 time: 0.9875378608703613\n",
      "(10) cost: 2035 time: 0.9686813354492188\n",
      "Mean Cost: 2193.3 \t Optimal: 2035 \t Mean Time: 0.9390260457992554 \t Gap: 0.7425742574257426\n"
     ]
    }
   ],
   "source": [
    "grasp_test(graph, ITER_MAX, 2020)"
   ]
  },
  {
   "cell_type": "markdown",
   "metadata": {
    "colab_type": "text",
    "id": "4pNF83i7Y-wf"
   },
   "source": [
    "#### Variable Neighborhood Search"
   ]
  },
  {
   "cell_type": "code",
   "execution_count": 0,
   "metadata": {
    "colab": {
     "base_uri": "https://localhost:8080/",
     "height": 204
    },
    "colab_type": "code",
    "id": "U08AbrnRY-wg",
    "outputId": "425a206f-4869-4364-a999-0f3cab1d6ec7"
   },
   "outputs": [
    {
     "name": "stdout",
     "output_type": "stream",
     "text": [
      "(1) cost: 2209 time: 0.4732084274291992\n",
      "(2) cost: 2200 time: 0.5364894866943359\n",
      "(3) cost: 2402 time: 0.6147122383117676\n",
      "(4) cost: 2386 time: 0.6009609699249268\n",
      "(5) cost: 2415 time: 0.5392060279846191\n",
      "(6) cost: 2477 time: 0.48884081840515137\n",
      "(7) cost: 2306 time: 0.525183916091919\n",
      "(8) cost: 2086 time: 0.5677998065948486\n",
      "(9) cost: 2322 time: 0.6451361179351807\n",
      "(10) cost: 2228 time: 0.5789871215820312\n",
      "Mean Cost: 2303.1 \t Optimal: 2086 \t Mean Time: 0.557052493095398 \t Gap: 3.2673267326732676\n"
     ]
    }
   ],
   "source": [
    "vns_test(graph, ITER_MAX, 2020)"
   ]
  },
  {
   "cell_type": "markdown",
   "metadata": {
    "colab_type": "text",
    "id": "VUgDvXIPY-wi"
   },
   "source": [
    "### berlin52"
   ]
  },
  {
   "cell_type": "code",
   "execution_count": 0,
   "metadata": {
    "colab": {
     "base_uri": "https://localhost:8080/",
     "height": 34
    },
    "colab_type": "code",
    "id": "uiPPLiUIY-wi",
    "outputId": "23f0d435-c370-45ba-8a78-c40966a3aa60"
   },
   "outputs": [
    {
     "name": "stdout",
     "output_type": "stream",
     "text": [
      "52\n"
     ]
    }
   ],
   "source": [
    "graph = Graph(52)\n",
    "graph.build(DATA_TEST[2], _type='tsp_test')\n",
    "print(graph.num_vertices())"
   ]
  },
  {
   "cell_type": "markdown",
   "metadata": {
    "colab_type": "text",
    "id": "jbkULFg7Y-wk"
   },
   "source": [
    "#### Nearest Neighbor"
   ]
  },
  {
   "cell_type": "code",
   "execution_count": 0,
   "metadata": {
    "colab": {
     "base_uri": "https://localhost:8080/",
     "height": 204
    },
    "colab_type": "code",
    "id": "E_LrAGCxY-wl",
    "outputId": "f2ae7677-3214-4178-f295-41e205b3c656"
   },
   "outputs": [
    {
     "name": "stdout",
     "output_type": "stream",
     "text": [
      "(1) cost: 9073 time: 0.00034236907958984375\n",
      "(2) cost: 9504 time: 0.0003178119659423828\n",
      "(3) cost: 9771 time: 0.0005443096160888672\n",
      "(4) cost: 9897 time: 0.0005371570587158203\n",
      "(5) cost: 9461 time: 0.0004482269287109375\n",
      "(6) cost: 9257 time: 0.0005652904510498047\n",
      "(7) cost: 9334 time: 0.00042319297790527344\n",
      "(8) cost: 9098 time: 0.0004277229309082031\n",
      "(9) cost: 9123 time: 0.0007660388946533203\n",
      "(10) cost: 9192 time: 0.0004062652587890625\n",
      "Mean Cost: 9371.0 \t Optimal: 9073 \t Mean Time: 0.0004778385162353516 \t Gap: 20.29965526385574\n"
     ]
    }
   ],
   "source": [
    "nearest_neighbor_test(graph, ITER_MAX, 7542)"
   ]
  },
  {
   "cell_type": "markdown",
   "metadata": {
    "colab_type": "text",
    "id": "Np0HNYp9Y-wo"
   },
   "source": [
    "#### Greedy Randomized Adaptive Search Procedure"
   ]
  },
  {
   "cell_type": "code",
   "execution_count": 0,
   "metadata": {
    "colab": {
     "base_uri": "https://localhost:8080/",
     "height": 204
    },
    "colab_type": "code",
    "id": "oWeQi2SwY-wp",
    "outputId": "d7ec5b86-93f1-4821-f474-16828dedcb6e"
   },
   "outputs": [
    {
     "name": "stdout",
     "output_type": "stream",
     "text": [
      "(1) cost: 8156 time: 4.372938871383667\n",
      "(2) cost: 8156 time: 4.689905405044556\n",
      "(3) cost: 8156 time: 4.55724835395813\n",
      "(4) cost: 8156 time: 4.4663543701171875\n",
      "(5) cost: 9009 time: 5.816087245941162\n",
      "(6) cost: 9009 time: 4.19988751411438\n",
      "(7) cost: 9009 time: 5.385004997253418\n",
      "(8) cost: 8156 time: 4.510770797729492\n",
      "(9) cost: 8156 time: 4.590519428253174\n",
      "(10) cost: 8156 time: 4.319025039672852\n",
      "Mean Cost: 8411.9 \t Optimal: 8156 \t Mean Time: 4.690774202346802 \t Gap: 8.141076637496687\n"
     ]
    }
   ],
   "source": [
    "grasp_test(graph, ITER_MAX, 7542)"
   ]
  },
  {
   "cell_type": "markdown",
   "metadata": {
    "colab_type": "text",
    "id": "5oOnurRrY-wr"
   },
   "source": [
    "#### Variable Neighborhood Search"
   ]
  },
  {
   "cell_type": "code",
   "execution_count": 0,
   "metadata": {
    "colab": {
     "base_uri": "https://localhost:8080/",
     "height": 204
    },
    "colab_type": "code",
    "id": "crB9YHZkY-wu",
    "outputId": "431a3d03-33e5-4991-a328-a2e7da9f01a4"
   },
   "outputs": [
    {
     "name": "stdout",
     "output_type": "stream",
     "text": [
      "(1) cost: 8789 time: 2.7834420204162598\n",
      "(2) cost: 9166 time: 2.725464105606079\n",
      "(3) cost: 9314 time: 2.945899248123169\n",
      "(4) cost: 7949 time: 2.864553213119507\n",
      "(5) cost: 9021 time: 2.9881703853607178\n",
      "(6) cost: 9047 time: 2.888876438140869\n",
      "(7) cost: 8641 time: 3.095512628555298\n",
      "(8) cost: 10183 time: 3.0002989768981934\n",
      "(9) cost: 8573 time: 2.6782429218292236\n",
      "(10) cost: 9098 time: 2.4113693237304688\n",
      "Mean Cost: 8978.1 \t Optimal: 7949 \t Mean Time: 2.8381829261779785 \t Gap: 5.39644656589764\n"
     ]
    }
   ],
   "source": [
    "vns_test(graph, ITER_MAX, 7542)"
   ]
  },
  {
   "cell_type": "markdown",
   "metadata": {
    "colab_type": "text",
    "id": "53KXI1KhY-xc"
   },
   "source": [
    "### bier127"
   ]
  },
  {
   "cell_type": "code",
   "execution_count": 0,
   "metadata": {
    "colab": {
     "base_uri": "https://localhost:8080/",
     "height": 34
    },
    "colab_type": "code",
    "id": "LCM-ymWwY-xd",
    "outputId": "8190e15f-ec62-43cb-a48a-536e3df2553b"
   },
   "outputs": [
    {
     "name": "stdout",
     "output_type": "stream",
     "text": [
      "127\n"
     ]
    }
   ],
   "source": [
    "graph = Graph(127)\n",
    "graph.build(DATA_TEST[3], _type='tsp_test')\n",
    "print(graph.num_vertices())"
   ]
  },
  {
   "cell_type": "markdown",
   "metadata": {
    "colab_type": "text",
    "id": "JxcHkUyOY-xf"
   },
   "source": [
    "#### Nearest Neighbor"
   ]
  },
  {
   "cell_type": "code",
   "execution_count": 0,
   "metadata": {
    "colab": {
     "base_uri": "https://localhost:8080/",
     "height": 204
    },
    "colab_type": "code",
    "id": "WHcWxbVCY-xi",
    "outputId": "d36d44a2-f2b2-4da8-82c7-eb9ff70856cc"
   },
   "outputs": [
    {
     "name": "stdout",
     "output_type": "stream",
     "text": [
      "(1) cost: 149525 time: 0.0020253658294677734\n",
      "(2) cost: 137572 time: 0.001787424087524414\n",
      "(3) cost: 141595 time: 0.0020520687103271484\n",
      "(4) cost: 150310 time: 0.004904031753540039\n",
      "(5) cost: 148330 time: 0.004082441329956055\n",
      "(6) cost: 156561 time: 0.0017611980438232422\n",
      "(7) cost: 141487 time: 0.0021576881408691406\n",
      "(8) cost: 151056 time: 0.0015006065368652344\n",
      "(9) cost: 149303 time: 0.001720428466796875\n",
      "(10) cost: 150915 time: 0.0019979476928710938\n",
      "Mean Cost: 147665.4 \t Optimal: 137572 \t Mean Time: 0.0023989200592041014 \t Gap: 16.308483116619605\n"
     ]
    }
   ],
   "source": [
    "nearest_neighbor_test(graph, ITER_MAX, 118282)"
   ]
  },
  {
   "cell_type": "markdown",
   "metadata": {
    "colab_type": "text",
    "id": "GKEMMEMgY-xk"
   },
   "source": [
    "#### Greedy Randomized Adaptive Search Procedure"
   ]
  },
  {
   "cell_type": "code",
   "execution_count": 0,
   "metadata": {
    "colab": {
     "base_uri": "https://localhost:8080/",
     "height": 204
    },
    "colab_type": "code",
    "id": "4UU3HKhBY-xk",
    "outputId": "09590954-3387-4e15-e320-d77d38f26770"
   },
   "outputs": [
    {
     "name": "stdout",
     "output_type": "stream",
     "text": [
      "(1) cost: 131515 time: 70.23261833190918\n",
      "(2) cost: 135042 time: 84.86787104606628\n",
      "(3) cost: 129630 time: 72.11058378219604\n",
      "(4) cost: 129630 time: 75.83161926269531\n",
      "(5) cost: 130323 time: 69.55900764465332\n",
      "(6) cost: 133617 time: 85.15590572357178\n",
      "(7) cost: 134535 time: 77.8014657497406\n",
      "(8) cost: 135097 time: 74.88356423377991\n",
      "(9) cost: 130323 time: 86.66766953468323\n",
      "(10) cost: 129630 time: 67.606853723526\n",
      "Mean Cost: 131934.2 \t Optimal: 129630 \t Mean Time: 76.47171590328216 \t Gap: 9.594021068294415\n"
     ]
    }
   ],
   "source": [
    "grasp_test(graph, ITER_MAX, 118282)"
   ]
  },
  {
   "cell_type": "markdown",
   "metadata": {
    "colab_type": "text",
    "id": "0kUeRB7hY-xm"
   },
   "source": [
    "#### Variable Neighborhood Search"
   ]
  },
  {
   "cell_type": "code",
   "execution_count": 0,
   "metadata": {
    "colab": {
     "base_uri": "https://localhost:8080/",
     "height": 204
    },
    "colab_type": "code",
    "id": "TTOVCxnFY-xo",
    "outputId": "1bbbe516-cbbd-487d-9f4a-4894de3ed769"
   },
   "outputs": [
    {
     "name": "stdout",
     "output_type": "stream",
     "text": [
      "(1) cost: 141194 time: 25.430795907974243\n",
      "(2) cost: 143691 time: 28.266698598861694\n",
      "(3) cost: 139735 time: 24.295819520950317\n",
      "(4) cost: 147875 time: 24.45282244682312\n",
      "(5) cost: 139448 time: 26.267772674560547\n",
      "(6) cost: 147204 time: 25.31448745727539\n",
      "(7) cost: 142494 time: 25.731751441955566\n",
      "(8) cost: 140497 time: 27.34796714782715\n",
      "(9) cost: 152720 time: 26.12026309967041\n",
      "(10) cost: 161817 time: 22.48552680015564\n",
      "Mean Cost: 145667.5 \t Optimal: 139448 \t Mean Time: 25.571390509605408 \t Gap: 17.8945232579767\n"
     ]
    }
   ],
   "source": [
    "vns_test(graph, ITER_MAX, 118282)"
   ]
  },
  {
   "cell_type": "markdown",
   "metadata": {
    "colab_type": "text",
    "id": "FPCQAx5lY-xB"
   },
   "source": [
    "### brazil58"
   ]
  },
  {
   "cell_type": "code",
   "execution_count": 0,
   "metadata": {
    "colab": {
     "base_uri": "https://localhost:8080/",
     "height": 34
    },
    "colab_type": "code",
    "id": "5XQUEtFUY-xB",
    "outputId": "73d7ebbb-9c42-40bf-e798-1899e995f3a3"
   },
   "outputs": [
    {
     "name": "stdout",
     "output_type": "stream",
     "text": [
      "58\n"
     ]
    }
   ],
   "source": [
    "graph = Graph(58)\n",
    "graph.build(DATA_TEST[4], _type='tsp_test')\n",
    "print(graph.num_vertices())"
   ]
  },
  {
   "cell_type": "markdown",
   "metadata": {
    "colab_type": "text",
    "id": "m2x7cBLFY-xD"
   },
   "source": [
    "#### Nearest Neighbor"
   ]
  },
  {
   "cell_type": "code",
   "execution_count": 0,
   "metadata": {
    "colab": {
     "base_uri": "https://localhost:8080/",
     "height": 204
    },
    "colab_type": "code",
    "id": "fa8KqtIWY-xE",
    "outputId": "6d854e62-1edd-4443-823b-040f44eb37d4"
   },
   "outputs": [
    {
     "name": "stdout",
     "output_type": "stream",
     "text": [
      "(1) cost: 29168 time: 0.0005629062652587891\n",
      "(2) cost: 27384 time: 0.0004954338073730469\n",
      "(3) cost: 30032 time: 0.0004661083221435547\n",
      "(4) cost: 32104 time: 0.0005066394805908203\n",
      "(5) cost: 30774 time: 0.0007119178771972656\n",
      "(6) cost: 27384 time: 0.0006091594696044922\n",
      "(7) cost: 32619 time: 0.0011272430419921875\n",
      "(8) cost: 32856 time: 0.0005536079406738281\n",
      "(9) cost: 31836 time: 0.0004494190216064453\n",
      "(10) cost: 31931 time: 0.0003414154052734375\n",
      "Mean Cost: 30608.8 \t Optimal: 27384 \t Mean Time: 0.0005823850631713867 \t Gap: 7.832250443000591\n"
     ]
    }
   ],
   "source": [
    "nearest_neighbor_test(graph, ITER_MAX, 25395)"
   ]
  },
  {
   "cell_type": "markdown",
   "metadata": {
    "colab_type": "text",
    "id": "nwTE7ywRY-xG"
   },
   "source": [
    "#### Greedy Randomized Adaptive Search Procedure"
   ]
  },
  {
   "cell_type": "code",
   "execution_count": 0,
   "metadata": {
    "colab": {
     "base_uri": "https://localhost:8080/",
     "height": 204
    },
    "colab_type": "code",
    "id": "VTjPJj_WY-xH",
    "outputId": "18de2aea-62ec-43d4-aa0c-774dc2056dc0"
   },
   "outputs": [
    {
     "name": "stdout",
     "output_type": "stream",
     "text": [
      "(1) cost: 27471 time: 7.11462664604187\n",
      "(2) cost: 27826 time: 5.862435579299927\n",
      "(3) cost: 27471 time: 7.67265510559082\n",
      "(4) cost: 27826 time: 6.27186393737793\n",
      "(5) cost: 27477 time: 7.047261714935303\n",
      "(6) cost: 26839 time: 5.6522016525268555\n",
      "(7) cost: 27477 time: 7.337691307067871\n",
      "(8) cost: 27160 time: 6.099673748016357\n",
      "(9) cost: 27249 time: 6.4857401847839355\n",
      "(10) cost: 26840 time: 7.686581611633301\n",
      "Mean Cost: 27363.6 \t Optimal: 26839 \t Mean Time: 6.723073148727417 \t Gap: 5.686158692656035\n"
     ]
    }
   ],
   "source": [
    "grasp_test(graph, ITER_MAX, 25395)"
   ]
  },
  {
   "cell_type": "markdown",
   "metadata": {
    "colab_type": "text",
    "id": "tbjZ0PUKY-xK"
   },
   "source": [
    "#### Variable Neighborhood Search"
   ]
  },
  {
   "cell_type": "code",
   "execution_count": 0,
   "metadata": {
    "colab": {
     "base_uri": "https://localhost:8080/",
     "height": 204
    },
    "colab_type": "code",
    "id": "gLoOusmoY-xL",
    "outputId": "6895de40-73df-4ae6-efe2-792853d01f35"
   },
   "outputs": [
    {
     "name": "stdout",
     "output_type": "stream",
     "text": [
      "(1) cost: 30476 time: 3.232343912124634\n",
      "(2) cost: 29135 time: 3.699176788330078\n",
      "(3) cost: 33466 time: 4.16161847114563\n",
      "(4) cost: 31036 time: 3.548258066177368\n",
      "(5) cost: 35601 time: 3.696650505065918\n",
      "(6) cost: 29606 time: 3.83724045753479\n",
      "(7) cost: 30417 time: 3.6443750858306885\n",
      "(8) cost: 27125 time: 4.026474952697754\n",
      "(9) cost: 31672 time: 3.9775238037109375\n",
      "(10) cost: 28855 time: 3.1570236682891846\n",
      "Mean Cost: 30738.9 \t Optimal: 27125 \t Mean Time: 3.6980685710906984 \t Gap: 6.812364638708407\n"
     ]
    }
   ],
   "source": [
    "vns_test(graph, ITER_MAX, 25395)"
   ]
  },
  {
   "cell_type": "markdown",
   "metadata": {
    "colab_type": "text",
    "id": "u8VpsoitY-wy"
   },
   "source": [
    "### ch130"
   ]
  },
  {
   "cell_type": "code",
   "execution_count": 0,
   "metadata": {
    "colab": {
     "base_uri": "https://localhost:8080/",
     "height": 34
    },
    "colab_type": "code",
    "id": "169FoofcY-wz",
    "outputId": "ed2f25f4-03f9-4a85-b7c6-92bbf7c07d0d"
   },
   "outputs": [
    {
     "name": "stdout",
     "output_type": "stream",
     "text": [
      "130\n"
     ]
    }
   ],
   "source": [
    "graph = Graph(130)\n",
    "graph.build(DATA_TEST[5], _type='tsp_test')\n",
    "print(graph.num_vertices())"
   ]
  },
  {
   "cell_type": "markdown",
   "metadata": {
    "colab_type": "text",
    "id": "uLvE3lTIY-w0"
   },
   "source": [
    "#### Nearest Neighbor"
   ]
  },
  {
   "cell_type": "code",
   "execution_count": 0,
   "metadata": {
    "colab": {
     "base_uri": "https://localhost:8080/",
     "height": 204
    },
    "colab_type": "code",
    "id": "JbhobcFWY-w1",
    "outputId": "180842a4-411e-43c1-c2f1-c489e0cb0115"
   },
   "outputs": [
    {
     "name": "stdout",
     "output_type": "stream",
     "text": [
      "(1) cost: 7684 time: 0.0016741752624511719\n",
      "(2) cost: 7529 time: 0.0020575523376464844\n",
      "(3) cost: 8015 time: 0.003407716751098633\n",
      "(4) cost: 7379 time: 0.003601551055908203\n",
      "(5) cost: 7642 time: 0.0017371177673339844\n",
      "(6) cost: 8081 time: 0.0015225410461425781\n",
      "(7) cost: 7580 time: 0.0014858245849609375\n",
      "(8) cost: 7228 time: 0.001424551010131836\n",
      "(9) cost: 7779 time: 0.0014383792877197266\n",
      "(10) cost: 7229 time: 0.0014300346374511719\n",
      "Mean Cost: 7614.6 \t Optimal: 7228 \t Mean Time: 0.0019779443740844727 \t Gap: 18.29787234042553\n"
     ]
    }
   ],
   "source": [
    "nearest_neighbor_test(graph, ITER_MAX, 6110)"
   ]
  },
  {
   "cell_type": "markdown",
   "metadata": {
    "colab_type": "text",
    "id": "8CQKgK7VY-w3"
   },
   "source": [
    "#### Greedy Randomized Adaptive Search Procedure"
   ]
  },
  {
   "cell_type": "code",
   "execution_count": 0,
   "metadata": {
    "colab": {
     "base_uri": "https://localhost:8080/",
     "height": 204
    },
    "colab_type": "code",
    "id": "cmkRSi9YY-w4",
    "outputId": "e09059de-baf5-4779-d17f-2edc86ab5ded"
   },
   "outputs": [
    {
     "name": "stdout",
     "output_type": "stream",
     "text": [
      "(1) cost: 6917 time: 74.55113053321838\n",
      "(2) cost: 7014 time: 66.05172395706177\n",
      "(3) cost: 7014 time: 86.56622576713562\n",
      "(4) cost: 7151 time: 80.32587575912476\n",
      "(5) cost: 7197 time: 77.2392680644989\n",
      "(6) cost: 7197 time: 76.05903792381287\n",
      "(7) cost: 7317 time: 86.77890157699585\n",
      "(8) cost: 7014 time: 71.12981486320496\n",
      "(9) cost: 7014 time: 66.05755090713501\n",
      "(10) cost: 7197 time: 71.91236162185669\n",
      "Mean Cost: 7103.2 \t Optimal: 6917 \t Mean Time: 75.66718909740447 \t Gap: 13.20785597381342\n"
     ]
    }
   ],
   "source": [
    "grasp_test(graph, ITER_MAX, 6110)"
   ]
  },
  {
   "cell_type": "markdown",
   "metadata": {
    "colab_type": "text",
    "id": "2V-51sHfY-w8"
   },
   "source": [
    "#### Variable Neighborhood Search"
   ]
  },
  {
   "cell_type": "code",
   "execution_count": 0,
   "metadata": {
    "colab": {
     "base_uri": "https://localhost:8080/",
     "height": 204
    },
    "colab_type": "code",
    "id": "m9gWdyIBY-w9",
    "outputId": "adeb7f77-c6e2-46a4-f8ed-a797495bfa9b"
   },
   "outputs": [
    {
     "name": "stdout",
     "output_type": "stream",
     "text": [
      "(1) cost: 7358 time: 27.042497634887695\n",
      "(2) cost: 8996 time: 24.71938705444336\n",
      "(3) cost: 7588 time: 29.595391511917114\n",
      "(4) cost: 7024 time: 24.032722234725952\n",
      "(5) cost: 7629 time: 23.066632747650146\n",
      "(6) cost: 8706 time: 24.73310422897339\n",
      "(7) cost: 8236 time: 29.461508750915527\n",
      "(8) cost: 8012 time: 27.467189073562622\n",
      "(9) cost: 8048 time: 23.29631209373474\n",
      "(10) cost: 7240 time: 26.832247734069824\n",
      "Mean Cost: 7883.7 \t Optimal: 7024 \t Mean Time: 26.02469930648804 \t Gap: 14.959083469721769\n"
     ]
    }
   ],
   "source": [
    "vns_test(graph, ITER_MAX, 6110)"
   ]
  },
  {
   "cell_type": "markdown",
   "metadata": {
    "colab_type": "text",
    "id": "Wq7OahjAY-wE"
   },
   "source": [
    "### ch150"
   ]
  },
  {
   "cell_type": "code",
   "execution_count": 0,
   "metadata": {
    "colab": {
     "base_uri": "https://localhost:8080/",
     "height": 34
    },
    "colab_type": "code",
    "id": "gwt61RIJY-wF",
    "outputId": "08b388ae-abc2-4dea-ba3e-4682b57e7d43"
   },
   "outputs": [
    {
     "name": "stdout",
     "output_type": "stream",
     "text": [
      "150\n"
     ]
    }
   ],
   "source": [
    "graph = Graph(150)\n",
    "graph.build(DATA_TEST[6], _type='tsp_test')\n",
    "print(graph.num_vertices())"
   ]
  },
  {
   "cell_type": "markdown",
   "metadata": {
    "colab_type": "text",
    "id": "zqqHZrhtY-wH"
   },
   "source": [
    "#### Nearest Neighbor"
   ]
  },
  {
   "cell_type": "code",
   "execution_count": 0,
   "metadata": {
    "colab": {
     "base_uri": "https://localhost:8080/",
     "height": 204
    },
    "colab_type": "code",
    "id": "tIAO1oQWY-wI",
    "outputId": "a5beab09-3eff-4c1e-af43-8f645dff51dc"
   },
   "outputs": [
    {
     "name": "stdout",
     "output_type": "stream",
     "text": [
      "(1) cost: 7679 time: 0.002885580062866211\n",
      "(2) cost: 7627 time: 0.005655765533447266\n",
      "(3) cost: 7437 time: 0.0021584033966064453\n",
      "(4) cost: 7260 time: 0.0022516250610351562\n",
      "(5) cost: 7260 time: 0.0024442672729492188\n",
      "(6) cost: 8031 time: 0.002015829086303711\n",
      "(7) cost: 7559 time: 0.002248525619506836\n",
      "(8) cost: 7466 time: 0.0023050308227539062\n",
      "(9) cost: 7572 time: 0.0019989013671875\n",
      "(10) cost: 7717 time: 0.0019598007202148438\n",
      "Mean Cost: 7560.8 \t Optimal: 7260 \t Mean Time: 0.0025923728942871095 \t Gap: 11.213235294117647\n"
     ]
    }
   ],
   "source": [
    "nearest_neighbor_test(graph, ITER_MAX, 6528)"
   ]
  },
  {
   "cell_type": "markdown",
   "metadata": {
    "colab_type": "text",
    "id": "DppyT1gxY-wL"
   },
   "source": [
    "#### Greedy Randomized Adaptive Search Procedure"
   ]
  },
  {
   "cell_type": "code",
   "execution_count": 0,
   "metadata": {
    "colab": {
     "base_uri": "https://localhost:8080/",
     "height": 204
    },
    "colab_type": "code",
    "id": "4k5gCZKiY-wM",
    "outputId": "3dd14e85-b4fe-46a9-fcb5-6c09b495e032"
   },
   "outputs": [
    {
     "name": "stdout",
     "output_type": "stream",
     "text": [
      "(1) cost: 6977 time: 128.53618478775024\n",
      "(2) cost: 7097 time: 116.54495620727539\n",
      "(3) cost: 7208 time: 113.57432866096497\n",
      "(4) cost: 7293 time: 105.4838445186615\n",
      "(5) cost: 7097 time: 127.18448758125305\n",
      "(6) cost: 7097 time: 106.78445506095886\n",
      "(7) cost: 7276 time: 116.50320625305176\n",
      "(8) cost: 7276 time: 125.38474822044373\n",
      "(9) cost: 6964 time: 127.23568940162659\n",
      "(10) cost: 7276 time: 107.65196442604065\n",
      "Mean Cost: 7156.1 \t Optimal: 6964 \t Mean Time: 117.48838651180267 \t Gap: 6.678921568627451\n"
     ]
    }
   ],
   "source": [
    "grasp_test(graph, ITER_MAX, 6528)"
   ]
  },
  {
   "cell_type": "markdown",
   "metadata": {
    "colab_type": "text",
    "id": "g3CwAYy5Y-wP"
   },
   "source": [
    "#### Variable Neighborhood Search"
   ]
  },
  {
   "cell_type": "code",
   "execution_count": 0,
   "metadata": {
    "colab": {
     "base_uri": "https://localhost:8080/",
     "height": 204
    },
    "colab_type": "code",
    "id": "0m7vrjxIY-wP",
    "outputId": "e412ae31-e8b9-4152-b01f-970bebf7be0d"
   },
   "outputs": [
    {
     "name": "stdout",
     "output_type": "stream",
     "text": [
      "(1) cost: 8303 time: 45.805487394332886\n",
      "(2) cost: 8060 time: 33.94316816329956\n",
      "(3) cost: 7901 time: 29.789414167404175\n",
      "(4) cost: 7792 time: 42.847081422805786\n",
      "(5) cost: 7657 time: 35.90589880943298\n",
      "(6) cost: 7768 time: 41.244534969329834\n",
      "(7) cost: 7707 time: 35.58925724029541\n",
      "(8) cost: 7951 time: 30.932342767715454\n",
      "(9) cost: 7537 time: 32.385844707489014\n",
      "(10) cost: 8469 time: 36.01864266395569\n",
      "Mean Cost: 7914.5 \t Optimal: 7537 \t Mean Time: 36.44616723060608 \t Gap: 15.456495098039216\n"
     ]
    }
   ],
   "source": [
    "vns_test(graph, ITER_MAX, 6528)"
   ]
  },
  {
   "cell_type": "markdown",
   "metadata": {
    "colab_type": "text",
    "id": "_5RJyLc5Y-xM"
   },
   "source": [
    "### swiss42"
   ]
  },
  {
   "cell_type": "code",
   "execution_count": 0,
   "metadata": {
    "colab": {
     "base_uri": "https://localhost:8080/",
     "height": 34
    },
    "colab_type": "code",
    "id": "XowuKgI2Y-xN",
    "outputId": "0578b3f1-8393-4969-a71e-a62640358296"
   },
   "outputs": [
    {
     "name": "stdout",
     "output_type": "stream",
     "text": [
      "42\n"
     ]
    }
   ],
   "source": [
    "graph = Graph(42)\n",
    "graph.build(DATA_TEST[8], _type='tsp_test')\n",
    "print(graph.num_vertices())"
   ]
  },
  {
   "cell_type": "markdown",
   "metadata": {
    "colab_type": "text",
    "id": "0dHxZKmTY-xO"
   },
   "source": [
    "#### Nearest Neighbor"
   ]
  },
  {
   "cell_type": "code",
   "execution_count": 0,
   "metadata": {
    "colab": {
     "base_uri": "https://localhost:8080/",
     "height": 204
    },
    "colab_type": "code",
    "id": "LHRBFtdqY-xP",
    "outputId": "8e6882d9-5dbc-413d-a58f-ce85158fe196"
   },
   "outputs": [
    {
     "name": "stdout",
     "output_type": "stream",
     "text": [
      "(1) cost: 1577 time: 0.00029540061950683594\n",
      "(2) cost: 1469 time: 0.00026702880859375\n",
      "(3) cost: 1701 time: 0.0002777576446533203\n",
      "(4) cost: 1564 time: 0.00026917457580566406\n",
      "(5) cost: 1547 time: 0.0002722740173339844\n",
      "(6) cost: 1648 time: 0.00030922889709472656\n",
      "(7) cost: 1786 time: 0.000286102294921875\n",
      "(8) cost: 1561 time: 0.00031113624572753906\n",
      "(9) cost: 1549 time: 0.0002911090850830078\n",
      "(10) cost: 1648 time: 0.00033164024353027344\n",
      "Mean Cost: 1605.0 \t Optimal: 1469 \t Mean Time: 0.0002910852432250977 \t Gap: 15.396700706991359\n"
     ]
    }
   ],
   "source": [
    "nearest_neighbor_test(graph, ITER_MAX, 1273)"
   ]
  },
  {
   "cell_type": "markdown",
   "metadata": {
    "colab_type": "text",
    "id": "AAPrBmoKY-xQ"
   },
   "source": [
    "#### Greedy Randomized Adaptive Search Procedure"
   ]
  },
  {
   "cell_type": "code",
   "execution_count": 0,
   "metadata": {
    "colab": {
     "base_uri": "https://localhost:8080/",
     "height": 204
    },
    "colab_type": "code",
    "id": "M_YO2ccmY-xR",
    "outputId": "8e67dd41-ecba-406d-a811-b9adcf69ac0f"
   },
   "outputs": [
    {
     "name": "stdout",
     "output_type": "stream",
     "text": [
      "(1) cost: 1514 time: 2.6217150688171387\n",
      "(2) cost: 1313 time: 2.647536516189575\n",
      "(3) cost: 1337 time: 2.719986915588379\n",
      "(4) cost: 1313 time: 2.368317127227783\n",
      "(5) cost: 1516 time: 2.5499539375305176\n",
      "(6) cost: 1537 time: 2.5619969367980957\n",
      "(7) cost: 1313 time: 2.2339351177215576\n",
      "(8) cost: 1313 time: 2.091729164123535\n",
      "(9) cost: 1313 time: 2.4259517192840576\n",
      "(10) cost: 1313 time: 2.58292293548584\n",
      "Mean Cost: 1378.2 \t Optimal: 1313 \t Mean Time: 2.4804045438766478 \t Gap: 3.1421838177533385\n"
     ]
    }
   ],
   "source": [
    "grasp_test(graph, ITER_MAX, 1273)"
   ]
  },
  {
   "cell_type": "markdown",
   "metadata": {
    "colab_type": "text",
    "id": "YIdv2aXeY-xS"
   },
   "source": [
    "#### Variable Neighborhood Search"
   ]
  },
  {
   "cell_type": "code",
   "execution_count": 0,
   "metadata": {
    "colab": {
     "base_uri": "https://localhost:8080/",
     "height": 204
    },
    "colab_type": "code",
    "id": "4vid69XWY-xS",
    "outputId": "2121d6e0-b4cb-4b4c-9193-791684611552"
   },
   "outputs": [
    {
     "name": "stdout",
     "output_type": "stream",
     "text": [
      "(1) cost: 1428 time: 1.4467768669128418\n",
      "(2) cost: 1480 time: 1.4454796314239502\n",
      "(3) cost: 1519 time: 1.65087890625\n",
      "(4) cost: 1366 time: 1.4317922592163086\n",
      "(5) cost: 1514 time: 1.4700894355773926\n",
      "(6) cost: 1606 time: 1.2753872871398926\n",
      "(7) cost: 1313 time: 1.6444714069366455\n",
      "(8) cost: 1577 time: 1.488330364227295\n",
      "(9) cost: 1654 time: 1.4007072448730469\n",
      "(10) cost: 1490 time: 1.4989776611328125\n",
      "Mean Cost: 1494.7 \t Optimal: 1313 \t Mean Time: 1.4752891063690186 \t Gap: 3.1421838177533385\n"
     ]
    }
   ],
   "source": [
    "vns_test(graph, ITER_MAX, 1273)"
   ]
  },
  {
   "cell_type": "code",
   "execution_count": 0,
   "metadata": {
    "colab": {},
    "colab_type": "code",
    "id": "e9z-onSrruvP"
   },
   "outputs": [],
   "source": []
  }
 ],
 "metadata": {
  "accelerator": "GPU",
  "colab": {
   "name": "HEURISTIC_TSP.ipynb",
   "provenance": [],
   "version": "0.3.2"
  },
  "kernelspec": {
   "display_name": "Python 3",
   "language": "python",
   "name": "python3"
  },
  "language_info": {
   "codemirror_mode": {
    "name": "ipython",
    "version": 3
   },
   "file_extension": ".py",
   "mimetype": "text/x-python",
   "name": "python",
   "nbconvert_exporter": "python",
   "pygments_lexer": "ipython3",
   "version": "3.6.5"
  }
 },
 "nbformat": 4,
 "nbformat_minor": 1
}
