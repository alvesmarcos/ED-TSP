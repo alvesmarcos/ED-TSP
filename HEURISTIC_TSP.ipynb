{
  "nbformat": 4,
  "nbformat_minor": 0,
  "metadata": {
    "colab": {
      "name": "HEURISTIC_TSP.ipynb",
      "version": "0.3.2",
      "provenance": []
    },
    "language_info": {
      "codemirror_mode": {
        "name": "ipython",
        "version": 3
      },
      "file_extension": ".py",
      "mimetype": "text/x-python",
      "name": "python",
      "nbconvert_exporter": "python",
      "pygments_lexer": "ipython3",
      "version": "3.6.5"
    },
    "kernelspec": {
      "name": "python3",
      "display_name": "Python 3"
    },
    "accelerator": "GPU"
  },
  "cells": [
    {
      "cell_type": "markdown",
      "metadata": {
        "id": "Im6ESXi_Y-ug",
        "colab_type": "text"
      },
      "source": [
        "## Setup\n",
        "\n",
        "All libs that will be use in this note"
      ]
    },
    {
      "cell_type": "code",
      "metadata": {
        "id": "VEWC_k3NY-uh",
        "colab_type": "code",
        "colab": {}
      },
      "source": [
        "import numpy as np\n",
        "from glob import glob\n",
        "import random\n",
        "import time "
      ],
      "execution_count": 0,
      "outputs": []
    },
    {
      "cell_type": "markdown",
      "metadata": {
        "id": "_xYCh7ctY-ul",
        "colab_type": "text"
      },
      "source": [
        "## Preprocessing\n",
        "\n",
        "There are two folders that contains the inputs of the problem **Traveling Salesman Problem** they are different so let's split it."
      ]
    },
    {
      "cell_type": "markdown",
      "metadata": {
        "id": "pBCu2mu8Y-um",
        "colab_type": "text"
      },
      "source": [
        "### Test Data"
      ]
    },
    {
      "cell_type": "code",
      "metadata": {
        "id": "ckwCIMmnZLAG",
        "colab_type": "code",
        "outputId": "dff93c05-df98-4b83-fb67-6506c246a2f7",
        "colab": {
          "base_uri": "https://localhost:8080/",
          "height": 139
        }
      },
      "source": [
        "from google.colab import drive\n",
        "drive.mount('/content/drive')\n",
        "\n",
        "%cd '/content/drive/My Drive/Colab Notebooks/ED-TSP/'"
      ],
      "execution_count": 0,
      "outputs": [
        {
          "output_type": "stream",
          "text": [
            "Go to this URL in a browser: https://accounts.google.com/o/oauth2/auth?client_id=947318989803-6bn6qk8qdgf4n4g3pfee6491hc0brc4i.apps.googleusercontent.com&redirect_uri=urn%3Aietf%3Awg%3Aoauth%3A2.0%3Aoob&scope=email%20https%3A%2F%2Fwww.googleapis.com%2Fauth%2Fdocs.test%20https%3A%2F%2Fwww.googleapis.com%2Fauth%2Fdrive%20https%3A%2F%2Fwww.googleapis.com%2Fauth%2Fdrive.photos.readonly%20https%3A%2F%2Fwww.googleapis.com%2Fauth%2Fpeopleapi.readonly&response_type=code\n",
            "\n",
            "Enter your authorization code:\n",
            "··········\n",
            "Mounted at /content/drive\n",
            "/content/drive/My Drive/Colab Notebooks/ED-TSP\n"
          ],
          "name": "stdout"
        }
      ]
    },
    {
      "cell_type": "code",
      "metadata": {
        "id": "DwYixgdvY-um",
        "colab_type": "code",
        "outputId": "63da7742-f15f-4b0a-dd71-f57bb86549be",
        "colab": {
          "base_uri": "https://localhost:8080/",
          "height": 54
        }
      },
      "source": [
        "PATH_TEST = 'instancias/instancias_teste/'\n",
        "DATA_TEST = glob(PATH_TEST+'*.txt')\n",
        "print(DATA_TEST)"
      ],
      "execution_count": 0,
      "outputs": [
        {
          "output_type": "stream",
          "text": [
            "['instancias/instancias_teste/bayg29.txt', 'instancias/instancias_teste/bays29.txt', 'instancias/instancias_teste/berlin52.txt', 'instancias/instancias_teste/bier127.txt', 'instancias/instancias_teste/brazil58.txt', 'instancias/instancias_teste/ch130.txt', 'instancias/instancias_teste/ch150.txt', 'instancias/instancias_teste/descricao.txt', 'instancias/instancias_teste/swiss42.txt']\n"
          ],
          "name": "stdout"
        }
      ]
    },
    {
      "cell_type": "markdown",
      "metadata": {
        "id": "nTv8wCfnY-us",
        "colab_type": "text"
      },
      "source": [
        "### TSP Cup Data"
      ]
    },
    {
      "cell_type": "code",
      "metadata": {
        "id": "s1I0J_9NY-ut",
        "colab_type": "code",
        "outputId": "055dc38f-de5c-4767-fa70-4c5ac09f4f7d",
        "colab": {
          "base_uri": "https://localhost:8080/",
          "height": 54
        }
      },
      "source": [
        "PATH_CUP = 'instancias/instancias_tsp_cup/'\n",
        "DATA_CUP = glob(PATH_CUP+'*.txt')\n",
        "print(DATA_CUP)"
      ],
      "execution_count": 0,
      "outputs": [
        {
          "output_type": "stream",
          "text": [
            "['instancias/instancias_tsp_cup/descricao.txt', 'instancias/instancias_tsp_cup/tsp1.txt', 'instancias/instancias_tsp_cup/tsp2.txt', 'instancias/instancias_tsp_cup/tsp3.txt']\n"
          ],
          "name": "stdout"
        }
      ]
    },
    {
      "cell_type": "markdown",
      "metadata": {
        "id": "x1_2l4aeY-uw",
        "colab_type": "text"
      },
      "source": [
        "## Math\n",
        "\n",
        "Some mathematics functions that will be useful "
      ]
    },
    {
      "cell_type": "code",
      "metadata": {
        "id": "ISKn7I9AY-ux",
        "colab_type": "code",
        "colab": {}
      },
      "source": [
        "def euclidian_distance(p1, p2):\n",
        "    return int(np.linalg.norm(p1-p2).round())"
      ],
      "execution_count": 0,
      "outputs": []
    },
    {
      "cell_type": "code",
      "metadata": {
        "id": "HHnaDUFDY-u1",
        "colab_type": "code",
        "outputId": "68b026bd-ab87-440f-e458-4a4aee9f7257",
        "colab": {
          "base_uri": "https://localhost:8080/",
          "height": 34
        }
      },
      "source": [
        "print(euclidian_distance(np.array([1,1]), np.array([1,10])))"
      ],
      "execution_count": 0,
      "outputs": [
        {
          "output_type": "stream",
          "text": [
            "9\n"
          ],
          "name": "stdout"
        }
      ]
    },
    {
      "cell_type": "markdown",
      "metadata": {
        "id": "Q5uIzgzIY-u6",
        "colab_type": "text"
      },
      "source": [
        "## Graph\n",
        "\n",
        "We'll use a graph as data structure in order to representation our problem, where each city is a vertex and a connection is representation by a edge. "
      ]
    },
    {
      "cell_type": "code",
      "metadata": {
        "id": "hbGBkLgVY-u7",
        "colab_type": "code",
        "colab": {}
      },
      "source": [
        "class Graph:\n",
        "    def __init__(self, num_vertices):\n",
        "        self._adjacency_matrix = np.zeros((num_vertices, num_vertices), dtype=np.int64)\n",
        "        \n",
        "    def build(self, file, _type='tsp_test'):\n",
        "        if _type == 'tsp_cup':\n",
        "            self._handle_tsp_cup(file)\n",
        "        elif _type == 'tsp_test':\n",
        "            self._handle_tsp_test(file)\n",
        "        else:\n",
        "            print('Undefined type')\n",
        "        \n",
        "    def _handle_tsp_cup(self, file):\n",
        "        data = []\n",
        "        with open(file, 'r') as f:\n",
        "            for line in f:\n",
        "                try:\n",
        "                    _, x, y = list(filter(lambda x: x!='', line.split(' ')))\n",
        "                    data.append(np.array((float(x), float(y[:-1]))))\n",
        "                except:\n",
        "                    pass\n",
        "        for i, p1 in enumerate(data):\n",
        "            for j, p2 in enumerate(data):\n",
        "                self._adjacency_matrix[i][j] = euclidian_distance(p1, p2)\n",
        "    \n",
        "    def _handle_tsp_test(self, file):\n",
        "        data = []\n",
        "        with open(file, 'r') as f:\n",
        "            _input = f.readlines()\n",
        "            _input = [_.strip() for _ in _input]\n",
        "            _input = [_.split() for _ in _input]\n",
        "            for i, array in enumerate(_input[3:]):\n",
        "                try:\n",
        "                    _ = [int(_) for _ in array]\n",
        "                    if len(_) > 0:\n",
        "                        data.append(_)\n",
        "                except:\n",
        "                    pass\n",
        "        self._adjacency_matrix = data\n",
        "    \n",
        "    def num_vertices(self):\n",
        "        return len(self._adjacency_matrix)\n",
        "    \n",
        "    def get_cost(self, _list_path_nodes):\n",
        "        path = [self._adjacency_matrix[current][_next] for current, _next in zip(_list_path_nodes[1:], _list_path_nodes[:-1])]\n",
        "        return sum(path)"
      ],
      "execution_count": 0,
      "outputs": []
    },
    {
      "cell_type": "markdown",
      "metadata": {
        "id": "593Gs7anY-u-",
        "colab_type": "text"
      },
      "source": [
        "## Optimizations Solutions\n",
        "\n",
        "Some functions that will give us solutions for our problem."
      ]
    },
    {
      "cell_type": "markdown",
      "metadata": {
        "id": "b0qQePhIY-u-",
        "colab_type": "text"
      },
      "source": [
        "## Helpers\n",
        "\n",
        "Below functions that will be userful to generation solutions"
      ]
    },
    {
      "cell_type": "code",
      "metadata": {
        "id": "1dOho5YVY-u_",
        "colab_type": "code",
        "colab": {}
      },
      "source": [
        "def pick_element(_list, nodes):\n",
        "    for index, x in enumerate(_list):\n",
        "        if not nodes[index]:\n",
        "            return index, x\n",
        "    return None"
      ],
      "execution_count": 0,
      "outputs": []
    },
    {
      "cell_type": "code",
      "metadata": {
        "id": "-vO_ypOMY-vD",
        "colab_type": "code",
        "colab": {}
      },
      "source": [
        "def get_min_distance(_distances, nodes):\n",
        "    min_index, min_val = pick_element(_distances, nodes)\n",
        "    for index, x in enumerate(_distances):\n",
        "        if min_val > x:\n",
        "            min_val = x if not nodes[index] else min_val\n",
        "            min_index = index if not nodes[index] else min_index\n",
        "    return min_val, min_index"
      ],
      "execution_count": 0,
      "outputs": []
    },
    {
      "cell_type": "code",
      "metadata": {
        "id": "a6tHt2z-Y-vH",
        "colab_type": "code",
        "colab": {}
      },
      "source": [
        "def get_cost_swap(graph, cost, _list, i, k):\n",
        "    cost_swap = cost\n",
        "    if i == k:\n",
        "        return cost_swap\n",
        "    if i > k:\n",
        "        i, k = k, i\n",
        "    if i+1 == k:\n",
        "        prev, _next = i-1 if i > 0 else i, k+1 if k < graph.num_vertices() - 1 else k\n",
        "        cost_swap -= graph.get_cost([_list[prev], _list[i], _list[k], _list[_next]])\n",
        "        \n",
        "        prev, _next = i-1 if i > 0 else k, k+1 if k < graph.num_vertices() - 1 else i\n",
        "        cost_swap += graph.get_cost([_list[prev], _list[k], _list[i], _list[_next]])\n",
        "    else:\n",
        "        prev_i, _next_i = i-1 if i > 0 else i, i+1\n",
        "        prev_k, _next_k = k-1, k+1 if k < graph.num_vertices() - 1 else k\n",
        "        \n",
        "        cost_swap -= graph.get_cost([_list[prev_i], _list[i], _list[_next_i]])\n",
        "        cost_swap -= graph.get_cost([_list[prev_k], _list[k], _list[_next_k]])\n",
        "        \n",
        "        prev_i, _next_i = i-1 if i > 0 else k, i+1\n",
        "        prev_k, _next_k = k-1, k+1 if k < graph.num_vertices() - 1 else i\n",
        "        \n",
        "        cost_swap += graph.get_cost([_list[prev_i], _list[k], _list[_next_i]])\n",
        "        cost_swap += graph.get_cost([_list[prev_k], _list[i], _list[_next_k]])\n",
        "    return cost_swap"
      ],
      "execution_count": 0,
      "outputs": []
    },
    {
      "cell_type": "markdown",
      "metadata": {
        "id": "KEukPPgKY-vK",
        "colab_type": "text"
      },
      "source": [
        "### Random Restart"
      ]
    },
    {
      "cell_type": "code",
      "metadata": {
        "id": "nYgX4V7EY-vL",
        "colab_type": "code",
        "colab": {}
      },
      "source": [
        "def random_restart(graph, itermax):\n",
        "    _iter = 0\n",
        "    solution = [i for i in range(graph.num_vertices())]\n",
        "    np.random.shuffle(solution)\n",
        "    current_solution, current_cost = solution, graph.get_cost(solution)\n",
        "    while _iter < itermax:\n",
        "        np.random.shuffle(solution)\n",
        "        cost = graph.get_cost(solution)\n",
        "        if current_cost > cost:\n",
        "            current_cost, current_solution = cost, solution\n",
        "            _iter = 0\n",
        "        else:\n",
        "            _iter += 1\n",
        "    current_solution = current_solution + [current_solution[0]]\n",
        "    return graph.get_cost(current_solution), current_solution"
      ],
      "execution_count": 0,
      "outputs": []
    },
    {
      "cell_type": "markdown",
      "metadata": {
        "id": "j74TWB-fY-vO",
        "colab_type": "text"
      },
      "source": [
        "### Nearest Neighbor"
      ]
    },
    {
      "cell_type": "code",
      "metadata": {
        "id": "ffTGBtKdY-vP",
        "colab_type": "code",
        "colab": {}
      },
      "source": [
        "def nearest_neighbor(graph, initial):\n",
        "    solution = []\n",
        "    current_node = initial\n",
        "    nodes = [False for x in range(graph.num_vertices())]\n",
        "    nodes[current_node] = True\n",
        "    flag = True\n",
        "    solution.append(current_node)\n",
        "    while flag:\n",
        "        distances = graph._adjacency_matrix[current_node]\n",
        "        min_distance, min_index = get_min_distance(distances, nodes)\n",
        "        current_node = min_index\n",
        "        nodes[current_node] = True\n",
        "        solution.append(current_node)\n",
        "        if all(nodes):\n",
        "            solution.append(initial)\n",
        "            flag = False\n",
        "    return graph.get_cost(solution), solution"
      ],
      "execution_count": 0,
      "outputs": []
    },
    {
      "cell_type": "markdown",
      "metadata": {
        "id": "KgsQj5UnY-vR",
        "colab_type": "text"
      },
      "source": [
        "### Best Insertion"
      ]
    },
    {
      "cell_type": "code",
      "metadata": {
        "id": "bTsnvHbTY-vT",
        "colab_type": "code",
        "colab": {}
      },
      "source": [
        "def best_insertion(graph, initial):\n",
        "    current_cost, current_solution = initial\n",
        "    index = np.random.randint(graph.num_vertices())\n",
        "    for i in range(graph.num_vertices()):\n",
        "        cost = get_cost_swap(graph, current_cost, current_solution, i, index)\n",
        "        if current_cost > cost:\n",
        "            current_solution[i], current_solution[index] = current_solution[index], current_solution[i]\n",
        "            current_cost = cost\n",
        "    return graph.get_cost(current_solution), current_solution"
      ],
      "execution_count": 0,
      "outputs": []
    },
    {
      "cell_type": "markdown",
      "metadata": {
        "id": "AK5bOsgIY-vW",
        "colab_type": "text"
      },
      "source": [
        "### Swap"
      ]
    },
    {
      "cell_type": "code",
      "metadata": {
        "id": "zuaQwGWAY-vX",
        "colab_type": "code",
        "colab": {}
      },
      "source": [
        "def first_swap(graph, initial):\n",
        "    current_cost, current_solution = initial\n",
        "    flag = True\n",
        "    while flag:\n",
        "        flag = False\n",
        "        for i in range(graph.num_vertices()):\n",
        "            for k in range(i+1, graph.num_vertices()):\n",
        "                cost = get_cost_swap(graph, current_cost, current_solution, i, k) \n",
        "                if current_cost > cost:\n",
        "                    current_solution[i], current_solution[k] = current_solution[k], current_solution[i]\n",
        "                    current_cost = cost\n",
        "                    return graph.get_cost(current_solution), current_solution\n",
        "    return graph.get_cost(current_solution), current_solution"
      ],
      "execution_count": 0,
      "outputs": []
    },
    {
      "cell_type": "markdown",
      "metadata": {
        "id": "71CPR1PAY-va",
        "colab_type": "text"
      },
      "source": [
        "### Perturbation"
      ]
    },
    {
      "cell_type": "code",
      "metadata": {
        "id": "6fvNGEiyY-vb",
        "colab_type": "code",
        "colab": {}
      },
      "source": [
        "def perturbation(graph, _list):\n",
        "    i=k=0\n",
        "    while i==k:\n",
        "        i, k = np.random.randint(graph.num_vertices()), np.random.randint(graph.num_vertices())\n",
        "    if i > k:\n",
        "        i, k = k, i\n",
        "    start, middle, end = _list[:i], _list[i:k+1], _list[k+1:]\n",
        "    middle.reverse()\n",
        "    solution = start + middle + end\n",
        "    return graph.get_cost(solution), solution"
      ],
      "execution_count": 0,
      "outputs": []
    },
    {
      "cell_type": "markdown",
      "metadata": {
        "id": "AVT3HDjnY-vg",
        "colab_type": "text"
      },
      "source": [
        "### VND - Variable Neighborhood Descent"
      ]
    },
    {
      "cell_type": "code",
      "metadata": {
        "id": "AfUu6cNVY-vh",
        "colab_type": "code",
        "colab": {}
      },
      "source": [
        "def vnd(graph, initial, itermax):\n",
        "    _iter = 0\n",
        "    current_cost, current_solution = graph.get_cost(initial), initial\n",
        "    while _iter < itermax:\n",
        "        is_better = True\n",
        "        while is_better:\n",
        "            is_better = False\n",
        "            cost, solution = best_insertion(graph, (current_cost, current_solution))\n",
        "            if current_cost > cost:\n",
        "                current_cost, current_solution = cost, solution\n",
        "                is_better = True\n",
        "                _iter = 0\n",
        "            else:\n",
        "                cost, solution = first_swap(graph, (current_cost, current_solution))\n",
        "                if current_cost > cost:\n",
        "                    current_cost, current_solution = cost, solution\n",
        "                    is_better = True\n",
        "                    _iter = 0\n",
        "        _iter += 1\n",
        "    return graph.get_cost(current_solution), current_solution"
      ],
      "execution_count": 0,
      "outputs": []
    },
    {
      "cell_type": "markdown",
      "metadata": {
        "id": "i3yu4eVjY-vm",
        "colab_type": "text"
      },
      "source": [
        "### GRASP - Greedy Randomized Adaptive Search Procedure "
      ]
    },
    {
      "cell_type": "code",
      "metadata": {
        "id": "nclG_5-WY-vo",
        "colab_type": "code",
        "colab": {}
      },
      "source": [
        "def grasp(graph, itermax, alpha=0):\n",
        "    _iter = 0\n",
        "    current_cost = current_solution = -1\n",
        "    while _iter < itermax:\n",
        "        _random = np.random.random_sample() + alpha\n",
        "        _, solution = nearest_neighbor(graph, np.random.randint(graph.num_vertices())) if _random < 1 else random_restart(graph, 100)\n",
        "        solution = solution[:-1]\n",
        "        cost, solution = vnd(graph, solution, 1)\n",
        "        if current_cost > cost or _iter == 0:\n",
        "            current_cost, current_solution = cost, solution\n",
        "        _iter += 1\n",
        "    current_solution = current_solution + [current_solution[0]]\n",
        "    return graph.get_cost(current_solution), current_solution"
      ],
      "execution_count": 0,
      "outputs": []
    },
    {
      "cell_type": "markdown",
      "metadata": {
        "id": "7KZ_zgT3Y-vs",
        "colab_type": "text"
      },
      "source": [
        "### VNS - Variable Neighborhood Search"
      ]
    },
    {
      "cell_type": "code",
      "metadata": {
        "id": "6Zv-ggTxY-vt",
        "colab_type": "code",
        "colab": {}
      },
      "source": [
        "def vns(graph, itermax):\n",
        "    _iter = 0\n",
        "    current_cost = current_solution = -1\n",
        "    _, solution = nearest_neighbor(graph, np.random.randint(graph.num_vertices()))\n",
        "    solution = solution[:-1]\n",
        "    while _iter < itermax:\n",
        "        _, solution = perturbation(graph, solution)\n",
        "        cost, solution = vnd(graph, solution, 1)\n",
        "        if current_cost > cost or _iter == 0:\n",
        "            current_cost, current_solution = cost, solution\n",
        "        _iter += 1\n",
        "    current_solution = current_solution + [current_solution[0]]\n",
        "    return graph.get_cost(current_solution), current_solution"
      ],
      "execution_count": 0,
      "outputs": []
    },
    {
      "cell_type": "markdown",
      "metadata": {
        "id": "-IOvMP41Y-vz",
        "colab_type": "text"
      },
      "source": [
        "## Test\n",
        "\n",
        "For each test we'll build a graph with the adjacency matrix representing our cities."
      ]
    },
    {
      "cell_type": "markdown",
      "metadata": {
        "id": "Jr0VH1qAY-vz",
        "colab_type": "text"
      },
      "source": [
        "## Helpers\n",
        "\n",
        "Below functions that will be userful to generation informations about our solutions"
      ]
    },
    {
      "cell_type": "code",
      "metadata": {
        "id": "higNKlRpY-v0",
        "colab_type": "code",
        "colab": {}
      },
      "source": [
        "def gap(val_heur, optimal):\n",
        "    return ((val_heur-optimal)/optimal)*100"
      ],
      "execution_count": 0,
      "outputs": []
    },
    {
      "cell_type": "code",
      "metadata": {
        "id": "5gPkS70uY-v5",
        "colab_type": "code",
        "colab": {}
      },
      "source": [
        "def nearest_neighbor_test(graph, iter_max, optimal):\n",
        "    indexes = []\n",
        "    costs = []\n",
        "    times = []\n",
        "    random_index = np.random.randint(graph.num_vertices())\n",
        "    indexes.append(random_index)\n",
        "    _iter = 0\n",
        "    while _iter < iter_max:\n",
        "        while random_index in indexes:\n",
        "            random_index = np.random.randint(graph.num_vertices())\n",
        "        indexes.append(random_index)\n",
        "        start = time.time()\n",
        "        cost, solution = nearest_neighbor(graph, random_index)\n",
        "        end = time.time()\n",
        "        times.append(end-start)\n",
        "        costs.append(cost)\n",
        "        print('({:}) cost: {:} time: {:}'.format(_iter+1, cost, end-start))\n",
        "        _iter += 1\n",
        "    print('Mean Cost: {:} \\t Optimal: {:} \\t Mean Time: {:} \\t Gap: {:}'\n",
        "          .format(np.mean(costs), np.min(costs), np.mean(times), gap(np.min(costs),optimal)))"
      ],
      "execution_count": 0,
      "outputs": []
    },
    {
      "cell_type": "code",
      "metadata": {
        "id": "7XJyOsVKY-v7",
        "colab_type": "code",
        "colab": {}
      },
      "source": [
        "def grasp_test(graph, iter_max, optimal):\n",
        "    _iter = 0\n",
        "    costs = []\n",
        "    times = []\n",
        "    while _iter < iter_max:\n",
        "        start = time.time()\n",
        "        cost, solution = grasp(graph, 50, alpha=0.5)\n",
        "        end = time.time()\n",
        "        times.append(end-start)\n",
        "        costs.append(cost)\n",
        "        print('({:}) cost: {:} time: {:}'.format(_iter+1, cost, end-start))\n",
        "        _iter += 1\n",
        "    print('Mean Cost: {:} \\t Optimal: {:} \\t Mean Time: {:} \\t Gap: {:}'\n",
        "          .format(np.mean(costs), np.min(costs), np.mean(times), gap(np.min(costs),optimal)))"
      ],
      "execution_count": 0,
      "outputs": []
    },
    {
      "cell_type": "code",
      "metadata": {
        "id": "ko-4thKKY-v-",
        "colab_type": "code",
        "colab": {}
      },
      "source": [
        "def vns_test(graph, iter_max, optimal):\n",
        "    _iter = 0\n",
        "    costs = []\n",
        "    times = []\n",
        "    while _iter < iter_max:\n",
        "        start = time.time()\n",
        "        cost, solution = vns(graph, 50)\n",
        "        end = time.time()\n",
        "        times.append(end-start)\n",
        "        costs.append(cost)\n",
        "        print('({:}) cost: {:} time: {:}'.format(_iter+1, cost, end-start))\n",
        "        _iter += 1\n",
        "    print('Mean Cost: {:} \\t Optimal: {:} \\t Mean Time: {:} \\t Gap: {:}'\n",
        "          .format(np.mean(costs), np.min(costs), np.mean(times), gap(np.min(costs),optimal)))"
      ],
      "execution_count": 0,
      "outputs": []
    },
    {
      "cell_type": "markdown",
      "metadata": {
        "id": "h8arY-1JY-v_",
        "colab_type": "text"
      },
      "source": [
        "### TSP TEST"
      ]
    },
    {
      "cell_type": "code",
      "metadata": {
        "id": "1xFrnS8HY-wA",
        "colab_type": "code",
        "outputId": "83122403-e0c0-4767-c3c7-6aa1ef3eed3a",
        "colab": {
          "base_uri": "https://localhost:8080/",
          "height": 54
        }
      },
      "source": [
        "ITER_MAX = 10\n",
        "print(DATA_TEST)"
      ],
      "execution_count": 0,
      "outputs": [
        {
          "output_type": "stream",
          "text": [
            "['instancias/instancias_teste/bayg29.txt', 'instancias/instancias_teste/bays29.txt', 'instancias/instancias_teste/berlin52.txt', 'instancias/instancias_teste/bier127.txt', 'instancias/instancias_teste/brazil58.txt', 'instancias/instancias_teste/ch130.txt', 'instancias/instancias_teste/ch150.txt', 'instancias/instancias_teste/descricao.txt', 'instancias/instancias_teste/swiss42.txt']\n"
          ],
          "name": "stdout"
        }
      ]
    },
    {
      "cell_type": "markdown",
      "metadata": {
        "id": "KKik64z4Y-xU",
        "colab_type": "text"
      },
      "source": [
        "### bayg29"
      ]
    },
    {
      "cell_type": "code",
      "metadata": {
        "id": "Bx7BXGIKY-xV",
        "colab_type": "code",
        "outputId": "da4b39ec-4231-41d5-9c0b-bf6fc139c251",
        "colab": {
          "base_uri": "https://localhost:8080/",
          "height": 34
        }
      },
      "source": [
        "graph = Graph(29)\n",
        "graph.build(DATA_TEST[0], _type='tsp_test')\n",
        "print(graph.num_vertices())"
      ],
      "execution_count": 0,
      "outputs": [
        {
          "output_type": "stream",
          "text": [
            "29\n"
          ],
          "name": "stdout"
        }
      ]
    },
    {
      "cell_type": "markdown",
      "metadata": {
        "id": "9L-wKJPkY-xW",
        "colab_type": "text"
      },
      "source": [
        "#### Nearest Neighbor"
      ]
    },
    {
      "cell_type": "code",
      "metadata": {
        "id": "__1ezBZEY-xW",
        "colab_type": "code",
        "outputId": "683bbf28-1158-43f8-e236-d567ee4ad993",
        "colab": {
          "base_uri": "https://localhost:8080/",
          "height": 204
        }
      },
      "source": [
        "nearest_neighbor_test(graph, ITER_MAX, 1610)"
      ],
      "execution_count": 0,
      "outputs": [
        {
          "output_type": "stream",
          "text": [
            "(1) cost: 2020 time: 0.00016069412231445312\n",
            "(2) cost: 2110 time: 0.00012302398681640625\n",
            "(3) cost: 2085 time: 0.00014019012451171875\n",
            "(4) cost: 2263 time: 0.00011491775512695312\n",
            "(5) cost: 1952 time: 0.00011801719665527344\n",
            "(6) cost: 2052 time: 0.00011444091796875\n",
            "(7) cost: 2149 time: 0.00011539459228515625\n",
            "(8) cost: 2095 time: 0.00011229515075683594\n",
            "(9) cost: 2014 time: 0.00011420249938964844\n",
            "(10) cost: 2005 time: 0.0007457733154296875\n",
            "Mean Cost: 2074.5 \t Optimal: 1952 \t Mean Time: 0.0001858949661254883 \t Gap: 21.242236024844722\n"
          ],
          "name": "stdout"
        }
      ]
    },
    {
      "cell_type": "markdown",
      "metadata": {
        "id": "JfPwuArWY-xY",
        "colab_type": "text"
      },
      "source": [
        "#### Greedy Randomized Adaptive Search Procedure"
      ]
    },
    {
      "cell_type": "code",
      "metadata": {
        "id": "aTQJKxJqY-xZ",
        "colab_type": "code",
        "outputId": "c808a6f2-93e4-44d5-f306-266aba926ddf",
        "colab": {
          "base_uri": "https://localhost:8080/",
          "height": 204
        }
      },
      "source": [
        "grasp_test(graph, ITER_MAX, 1610)"
      ],
      "execution_count": 0,
      "outputs": [
        {
          "output_type": "stream",
          "text": [
            "(1) cost: 1889 time: 0.963158369064331\n",
            "(2) cost: 1969 time: 0.9000062942504883\n",
            "(3) cost: 1969 time: 0.8635907173156738\n",
            "(4) cost: 1969 time: 0.98714280128479\n",
            "(5) cost: 1897 time: 0.9855978488922119\n",
            "(6) cost: 1969 time: 0.8711667060852051\n",
            "(7) cost: 1897 time: 0.896195650100708\n",
            "(8) cost: 1872 time: 0.9983537197113037\n",
            "(9) cost: 1897 time: 1.0292608737945557\n",
            "(10) cost: 1897 time: 1.028688907623291\n",
            "Mean Cost: 1922.5 \t Optimal: 1872 \t Mean Time: 0.9523161888122559 \t Gap: 16.273291925465838\n"
          ],
          "name": "stdout"
        }
      ]
    },
    {
      "cell_type": "markdown",
      "metadata": {
        "id": "GO_Xhl7QY-xb",
        "colab_type": "text"
      },
      "source": [
        "#### Variable Neighborhood Search"
      ]
    },
    {
      "cell_type": "code",
      "metadata": {
        "id": "y67LxD3wY-xb",
        "colab_type": "code",
        "outputId": "c40e8e66-5579-4389-de99-bd7c4359084c",
        "colab": {
          "base_uri": "https://localhost:8080/",
          "height": 204
        }
      },
      "source": [
        "vns_test(graph, ITER_MAX, 1610)"
      ],
      "execution_count": 0,
      "outputs": [
        {
          "output_type": "stream",
          "text": [
            "(1) cost: 1796 time: 0.5350902080535889\n",
            "(2) cost: 1953 time: 0.5878357887268066\n",
            "(3) cost: 1749 time: 0.5455679893493652\n",
            "(4) cost: 1964 time: 0.5881626605987549\n",
            "(5) cost: 1760 time: 0.6722347736358643\n",
            "(6) cost: 1897 time: 0.48314499855041504\n",
            "(7) cost: 1777 time: 0.6087136268615723\n",
            "(8) cost: 1756 time: 0.6632716655731201\n",
            "(9) cost: 1825 time: 0.5968742370605469\n",
            "(10) cost: 1990 time: 0.6508467197418213\n",
            "Mean Cost: 1846.7 \t Optimal: 1749 \t Mean Time: 0.5931742668151856 \t Gap: 8.633540372670808\n"
          ],
          "name": "stdout"
        }
      ]
    },
    {
      "cell_type": "markdown",
      "metadata": {
        "id": "ZuX24CZ0Y-wS",
        "colab_type": "text"
      },
      "source": [
        "### bays29"
      ]
    },
    {
      "cell_type": "code",
      "metadata": {
        "id": "MoQaFULFY-wS",
        "colab_type": "code",
        "outputId": "4824f1f7-13bc-4e53-b82c-485311f932b0",
        "colab": {
          "base_uri": "https://localhost:8080/",
          "height": 34
        }
      },
      "source": [
        "graph = Graph(29)\n",
        "graph.build(DATA_TEST[1], _type='tsp_test')\n",
        "print(graph.num_vertices())"
      ],
      "execution_count": 0,
      "outputs": [
        {
          "output_type": "stream",
          "text": [
            "29\n"
          ],
          "name": "stdout"
        }
      ]
    },
    {
      "cell_type": "markdown",
      "metadata": {
        "id": "BZ7lfbCVY-wU",
        "colab_type": "text"
      },
      "source": [
        "#### Nearest Neighbor"
      ]
    },
    {
      "cell_type": "code",
      "metadata": {
        "id": "WMGCbkLAY-wW",
        "colab_type": "code",
        "outputId": "1266c503-4f65-4222-bf65-305fdf84f3c6",
        "colab": {
          "base_uri": "https://localhost:8080/",
          "height": 204
        }
      },
      "source": [
        "nearest_neighbor_test(graph, ITER_MAX, 2020)"
      ],
      "execution_count": 0,
      "outputs": [
        {
          "output_type": "stream",
          "text": [
            "(1) cost: 2588 time: 0.00016450881958007812\n",
            "(2) cost: 2375 time: 0.00016307830810546875\n",
            "(3) cost: 2332 time: 0.00014829635620117188\n",
            "(4) cost: 2356 time: 0.0001361370086669922\n",
            "(5) cost: 2134 time: 0.000148773193359375\n",
            "(6) cost: 2356 time: 0.00014328956604003906\n",
            "(7) cost: 2411 time: 0.0001556873321533203\n",
            "(8) cost: 2380 time: 0.00016045570373535156\n",
            "(9) cost: 2293 time: 0.00015974044799804688\n",
            "(10) cost: 2382 time: 0.00023412704467773438\n",
            "Mean Cost: 2360.7 \t Optimal: 2134 \t Mean Time: 0.0001614093780517578 \t Gap: 5.643564356435644\n"
          ],
          "name": "stdout"
        }
      ]
    },
    {
      "cell_type": "markdown",
      "metadata": {
        "id": "wUrvIGXrY-wa",
        "colab_type": "text"
      },
      "source": [
        "#### Greedy Randomized Adaptive Search Procedure"
      ]
    },
    {
      "cell_type": "code",
      "metadata": {
        "id": "KjnlFZONY-wa",
        "colab_type": "code",
        "outputId": "b91c9ba5-28b9-4cdf-ab46-0674f703de09",
        "colab": {
          "base_uri": "https://localhost:8080/",
          "height": 204
        }
      },
      "source": [
        "grasp_test(graph, ITER_MAX, 2020)"
      ],
      "execution_count": 0,
      "outputs": [
        {
          "output_type": "stream",
          "text": [
            "(1) cost: 2035 time: 0.9491374492645264\n",
            "(2) cost: 2255 time: 0.8849806785583496\n",
            "(3) cost: 2433 time: 0.8431110382080078\n",
            "(4) cost: 2255 time: 0.9915552139282227\n",
            "(5) cost: 2035 time: 1.0158419609069824\n",
            "(6) cost: 2255 time: 0.9508662223815918\n",
            "(7) cost: 2255 time: 0.938401460647583\n",
            "(8) cost: 2120 time: 0.86014723777771\n",
            "(9) cost: 2255 time: 0.9875378608703613\n",
            "(10) cost: 2035 time: 0.9686813354492188\n",
            "Mean Cost: 2193.3 \t Optimal: 2035 \t Mean Time: 0.9390260457992554 \t Gap: 0.7425742574257426\n"
          ],
          "name": "stdout"
        }
      ]
    },
    {
      "cell_type": "markdown",
      "metadata": {
        "id": "4pNF83i7Y-wf",
        "colab_type": "text"
      },
      "source": [
        "#### Variable Neighborhood Search"
      ]
    },
    {
      "cell_type": "code",
      "metadata": {
        "id": "U08AbrnRY-wg",
        "colab_type": "code",
        "outputId": "425a206f-4869-4364-a999-0f3cab1d6ec7",
        "colab": {
          "base_uri": "https://localhost:8080/",
          "height": 204
        }
      },
      "source": [
        "vns_test(graph, ITER_MAX, 2020)"
      ],
      "execution_count": 0,
      "outputs": [
        {
          "output_type": "stream",
          "text": [
            "(1) cost: 2209 time: 0.4732084274291992\n",
            "(2) cost: 2200 time: 0.5364894866943359\n",
            "(3) cost: 2402 time: 0.6147122383117676\n",
            "(4) cost: 2386 time: 0.6009609699249268\n",
            "(5) cost: 2415 time: 0.5392060279846191\n",
            "(6) cost: 2477 time: 0.48884081840515137\n",
            "(7) cost: 2306 time: 0.525183916091919\n",
            "(8) cost: 2086 time: 0.5677998065948486\n",
            "(9) cost: 2322 time: 0.6451361179351807\n",
            "(10) cost: 2228 time: 0.5789871215820312\n",
            "Mean Cost: 2303.1 \t Optimal: 2086 \t Mean Time: 0.557052493095398 \t Gap: 3.2673267326732676\n"
          ],
          "name": "stdout"
        }
      ]
    },
    {
      "cell_type": "markdown",
      "metadata": {
        "id": "VUgDvXIPY-wi",
        "colab_type": "text"
      },
      "source": [
        "### berlin52"
      ]
    },
    {
      "cell_type": "code",
      "metadata": {
        "id": "uiPPLiUIY-wi",
        "colab_type": "code",
        "outputId": "23f0d435-c370-45ba-8a78-c40966a3aa60",
        "colab": {
          "base_uri": "https://localhost:8080/",
          "height": 34
        }
      },
      "source": [
        "graph = Graph(52)\n",
        "graph.build(DATA_TEST[2], _type='tsp_test')\n",
        "print(graph.num_vertices())"
      ],
      "execution_count": 0,
      "outputs": [
        {
          "output_type": "stream",
          "text": [
            "52\n"
          ],
          "name": "stdout"
        }
      ]
    },
    {
      "cell_type": "markdown",
      "metadata": {
        "id": "jbkULFg7Y-wk",
        "colab_type": "text"
      },
      "source": [
        "#### Nearest Neighbor"
      ]
    },
    {
      "cell_type": "code",
      "metadata": {
        "id": "E_LrAGCxY-wl",
        "colab_type": "code",
        "outputId": "f2ae7677-3214-4178-f295-41e205b3c656",
        "colab": {
          "base_uri": "https://localhost:8080/",
          "height": 204
        }
      },
      "source": [
        "nearest_neighbor_test(graph, ITER_MAX, 7542)"
      ],
      "execution_count": 0,
      "outputs": [
        {
          "output_type": "stream",
          "text": [
            "(1) cost: 9073 time: 0.00034236907958984375\n",
            "(2) cost: 9504 time: 0.0003178119659423828\n",
            "(3) cost: 9771 time: 0.0005443096160888672\n",
            "(4) cost: 9897 time: 0.0005371570587158203\n",
            "(5) cost: 9461 time: 0.0004482269287109375\n",
            "(6) cost: 9257 time: 0.0005652904510498047\n",
            "(7) cost: 9334 time: 0.00042319297790527344\n",
            "(8) cost: 9098 time: 0.0004277229309082031\n",
            "(9) cost: 9123 time: 0.0007660388946533203\n",
            "(10) cost: 9192 time: 0.0004062652587890625\n",
            "Mean Cost: 9371.0 \t Optimal: 9073 \t Mean Time: 0.0004778385162353516 \t Gap: 20.29965526385574\n"
          ],
          "name": "stdout"
        }
      ]
    },
    {
      "cell_type": "markdown",
      "metadata": {
        "id": "Np0HNYp9Y-wo",
        "colab_type": "text"
      },
      "source": [
        "#### Greedy Randomized Adaptive Search Procedure"
      ]
    },
    {
      "cell_type": "code",
      "metadata": {
        "id": "oWeQi2SwY-wp",
        "colab_type": "code",
        "outputId": "d7ec5b86-93f1-4821-f474-16828dedcb6e",
        "colab": {
          "base_uri": "https://localhost:8080/",
          "height": 204
        }
      },
      "source": [
        "grasp_test(graph, ITER_MAX, 7542)"
      ],
      "execution_count": 0,
      "outputs": [
        {
          "output_type": "stream",
          "text": [
            "(1) cost: 8156 time: 4.372938871383667\n",
            "(2) cost: 8156 time: 4.689905405044556\n",
            "(3) cost: 8156 time: 4.55724835395813\n",
            "(4) cost: 8156 time: 4.4663543701171875\n",
            "(5) cost: 9009 time: 5.816087245941162\n",
            "(6) cost: 9009 time: 4.19988751411438\n",
            "(7) cost: 9009 time: 5.385004997253418\n",
            "(8) cost: 8156 time: 4.510770797729492\n",
            "(9) cost: 8156 time: 4.590519428253174\n",
            "(10) cost: 8156 time: 4.319025039672852\n",
            "Mean Cost: 8411.9 \t Optimal: 8156 \t Mean Time: 4.690774202346802 \t Gap: 8.141076637496687\n"
          ],
          "name": "stdout"
        }
      ]
    },
    {
      "cell_type": "markdown",
      "metadata": {
        "id": "5oOnurRrY-wr",
        "colab_type": "text"
      },
      "source": [
        "#### Variable Neighborhood Search"
      ]
    },
    {
      "cell_type": "code",
      "metadata": {
        "id": "crB9YHZkY-wu",
        "colab_type": "code",
        "outputId": "431a3d03-33e5-4991-a328-a2e7da9f01a4",
        "colab": {
          "base_uri": "https://localhost:8080/",
          "height": 204
        }
      },
      "source": [
        "vns_test(graph, ITER_MAX, 7542)"
      ],
      "execution_count": 0,
      "outputs": [
        {
          "output_type": "stream",
          "text": [
            "(1) cost: 8789 time: 2.7834420204162598\n",
            "(2) cost: 9166 time: 2.725464105606079\n",
            "(3) cost: 9314 time: 2.945899248123169\n",
            "(4) cost: 7949 time: 2.864553213119507\n",
            "(5) cost: 9021 time: 2.9881703853607178\n",
            "(6) cost: 9047 time: 2.888876438140869\n",
            "(7) cost: 8641 time: 3.095512628555298\n",
            "(8) cost: 10183 time: 3.0002989768981934\n",
            "(9) cost: 8573 time: 2.6782429218292236\n",
            "(10) cost: 9098 time: 2.4113693237304688\n",
            "Mean Cost: 8978.1 \t Optimal: 7949 \t Mean Time: 2.8381829261779785 \t Gap: 5.39644656589764\n"
          ],
          "name": "stdout"
        }
      ]
    },
    {
      "cell_type": "markdown",
      "metadata": {
        "id": "53KXI1KhY-xc",
        "colab_type": "text"
      },
      "source": [
        "### bier127"
      ]
    },
    {
      "cell_type": "code",
      "metadata": {
        "id": "LCM-ymWwY-xd",
        "colab_type": "code",
        "outputId": "8190e15f-ec62-43cb-a48a-536e3df2553b",
        "colab": {
          "base_uri": "https://localhost:8080/",
          "height": 34
        }
      },
      "source": [
        "graph = Graph(127)\n",
        "graph.build(DATA_TEST[3], _type='tsp_test')\n",
        "print(graph.num_vertices())"
      ],
      "execution_count": 0,
      "outputs": [
        {
          "output_type": "stream",
          "text": [
            "127\n"
          ],
          "name": "stdout"
        }
      ]
    },
    {
      "cell_type": "markdown",
      "metadata": {
        "id": "JxcHkUyOY-xf",
        "colab_type": "text"
      },
      "source": [
        "#### Nearest Neighbor"
      ]
    },
    {
      "cell_type": "code",
      "metadata": {
        "id": "WHcWxbVCY-xi",
        "colab_type": "code",
        "outputId": "d36d44a2-f2b2-4da8-82c7-eb9ff70856cc",
        "colab": {
          "base_uri": "https://localhost:8080/",
          "height": 204
        }
      },
      "source": [
        "nearest_neighbor_test(graph, ITER_MAX, 118282)"
      ],
      "execution_count": 0,
      "outputs": [
        {
          "output_type": "stream",
          "text": [
            "(1) cost: 149525 time: 0.0020253658294677734\n",
            "(2) cost: 137572 time: 0.001787424087524414\n",
            "(3) cost: 141595 time: 0.0020520687103271484\n",
            "(4) cost: 150310 time: 0.004904031753540039\n",
            "(5) cost: 148330 time: 0.004082441329956055\n",
            "(6) cost: 156561 time: 0.0017611980438232422\n",
            "(7) cost: 141487 time: 0.0021576881408691406\n",
            "(8) cost: 151056 time: 0.0015006065368652344\n",
            "(9) cost: 149303 time: 0.001720428466796875\n",
            "(10) cost: 150915 time: 0.0019979476928710938\n",
            "Mean Cost: 147665.4 \t Optimal: 137572 \t Mean Time: 0.0023989200592041014 \t Gap: 16.308483116619605\n"
          ],
          "name": "stdout"
        }
      ]
    },
    {
      "cell_type": "markdown",
      "metadata": {
        "id": "GKEMMEMgY-xk",
        "colab_type": "text"
      },
      "source": [
        "#### Greedy Randomized Adaptive Search Procedure"
      ]
    },
    {
      "cell_type": "code",
      "metadata": {
        "id": "4UU3HKhBY-xk",
        "colab_type": "code",
        "outputId": "09590954-3387-4e15-e320-d77d38f26770",
        "colab": {
          "base_uri": "https://localhost:8080/",
          "height": 204
        }
      },
      "source": [
        "grasp_test(graph, ITER_MAX, 118282)"
      ],
      "execution_count": 0,
      "outputs": [
        {
          "output_type": "stream",
          "text": [
            "(1) cost: 131515 time: 70.23261833190918\n",
            "(2) cost: 135042 time: 84.86787104606628\n",
            "(3) cost: 129630 time: 72.11058378219604\n",
            "(4) cost: 129630 time: 75.83161926269531\n",
            "(5) cost: 130323 time: 69.55900764465332\n",
            "(6) cost: 133617 time: 85.15590572357178\n",
            "(7) cost: 134535 time: 77.8014657497406\n",
            "(8) cost: 135097 time: 74.88356423377991\n",
            "(9) cost: 130323 time: 86.66766953468323\n",
            "(10) cost: 129630 time: 67.606853723526\n",
            "Mean Cost: 131934.2 \t Optimal: 129630 \t Mean Time: 76.47171590328216 \t Gap: 9.594021068294415\n"
          ],
          "name": "stdout"
        }
      ]
    },
    {
      "cell_type": "markdown",
      "metadata": {
        "id": "0kUeRB7hY-xm",
        "colab_type": "text"
      },
      "source": [
        "#### Variable Neighborhood Search"
      ]
    },
    {
      "cell_type": "code",
      "metadata": {
        "id": "TTOVCxnFY-xo",
        "colab_type": "code",
        "outputId": "1bbbe516-cbbd-487d-9f4a-4894de3ed769",
        "colab": {
          "base_uri": "https://localhost:8080/",
          "height": 204
        }
      },
      "source": [
        "vns_test(graph, ITER_MAX, 118282)"
      ],
      "execution_count": 0,
      "outputs": [
        {
          "output_type": "stream",
          "text": [
            "(1) cost: 141194 time: 25.430795907974243\n",
            "(2) cost: 143691 time: 28.266698598861694\n",
            "(3) cost: 139735 time: 24.295819520950317\n",
            "(4) cost: 147875 time: 24.45282244682312\n",
            "(5) cost: 139448 time: 26.267772674560547\n",
            "(6) cost: 147204 time: 25.31448745727539\n",
            "(7) cost: 142494 time: 25.731751441955566\n",
            "(8) cost: 140497 time: 27.34796714782715\n",
            "(9) cost: 152720 time: 26.12026309967041\n",
            "(10) cost: 161817 time: 22.48552680015564\n",
            "Mean Cost: 145667.5 \t Optimal: 139448 \t Mean Time: 25.571390509605408 \t Gap: 17.8945232579767\n"
          ],
          "name": "stdout"
        }
      ]
    },
    {
      "cell_type": "markdown",
      "metadata": {
        "id": "FPCQAx5lY-xB",
        "colab_type": "text"
      },
      "source": [
        "### brazil58"
      ]
    },
    {
      "cell_type": "code",
      "metadata": {
        "id": "5XQUEtFUY-xB",
        "colab_type": "code",
        "outputId": "73d7ebbb-9c42-40bf-e798-1899e995f3a3",
        "colab": {
          "base_uri": "https://localhost:8080/",
          "height": 34
        }
      },
      "source": [
        "graph = Graph(58)\n",
        "graph.build(DATA_TEST[4], _type='tsp_test')\n",
        "print(graph.num_vertices())"
      ],
      "execution_count": 0,
      "outputs": [
        {
          "output_type": "stream",
          "text": [
            "58\n"
          ],
          "name": "stdout"
        }
      ]
    },
    {
      "cell_type": "markdown",
      "metadata": {
        "id": "m2x7cBLFY-xD",
        "colab_type": "text"
      },
      "source": [
        "#### Nearest Neighbor"
      ]
    },
    {
      "cell_type": "code",
      "metadata": {
        "id": "fa8KqtIWY-xE",
        "colab_type": "code",
        "outputId": "6d854e62-1edd-4443-823b-040f44eb37d4",
        "colab": {
          "base_uri": "https://localhost:8080/",
          "height": 204
        }
      },
      "source": [
        "nearest_neighbor_test(graph, ITER_MAX, 25395)"
      ],
      "execution_count": 0,
      "outputs": [
        {
          "output_type": "stream",
          "text": [
            "(1) cost: 29168 time: 0.0005629062652587891\n",
            "(2) cost: 27384 time: 0.0004954338073730469\n",
            "(3) cost: 30032 time: 0.0004661083221435547\n",
            "(4) cost: 32104 time: 0.0005066394805908203\n",
            "(5) cost: 30774 time: 0.0007119178771972656\n",
            "(6) cost: 27384 time: 0.0006091594696044922\n",
            "(7) cost: 32619 time: 0.0011272430419921875\n",
            "(8) cost: 32856 time: 0.0005536079406738281\n",
            "(9) cost: 31836 time: 0.0004494190216064453\n",
            "(10) cost: 31931 time: 0.0003414154052734375\n",
            "Mean Cost: 30608.8 \t Optimal: 27384 \t Mean Time: 0.0005823850631713867 \t Gap: 7.832250443000591\n"
          ],
          "name": "stdout"
        }
      ]
    },
    {
      "cell_type": "markdown",
      "metadata": {
        "id": "nwTE7ywRY-xG",
        "colab_type": "text"
      },
      "source": [
        "#### Greedy Randomized Adaptive Search Procedure"
      ]
    },
    {
      "cell_type": "code",
      "metadata": {
        "id": "VTjPJj_WY-xH",
        "colab_type": "code",
        "outputId": "18de2aea-62ec-43d4-aa0c-774dc2056dc0",
        "colab": {
          "base_uri": "https://localhost:8080/",
          "height": 204
        }
      },
      "source": [
        "grasp_test(graph, ITER_MAX, 25395)"
      ],
      "execution_count": 0,
      "outputs": [
        {
          "output_type": "stream",
          "text": [
            "(1) cost: 27471 time: 7.11462664604187\n",
            "(2) cost: 27826 time: 5.862435579299927\n",
            "(3) cost: 27471 time: 7.67265510559082\n",
            "(4) cost: 27826 time: 6.27186393737793\n",
            "(5) cost: 27477 time: 7.047261714935303\n",
            "(6) cost: 26839 time: 5.6522016525268555\n",
            "(7) cost: 27477 time: 7.337691307067871\n",
            "(8) cost: 27160 time: 6.099673748016357\n",
            "(9) cost: 27249 time: 6.4857401847839355\n",
            "(10) cost: 26840 time: 7.686581611633301\n",
            "Mean Cost: 27363.6 \t Optimal: 26839 \t Mean Time: 6.723073148727417 \t Gap: 5.686158692656035\n"
          ],
          "name": "stdout"
        }
      ]
    },
    {
      "cell_type": "markdown",
      "metadata": {
        "id": "tbjZ0PUKY-xK",
        "colab_type": "text"
      },
      "source": [
        "#### Variable Neighborhood Search"
      ]
    },
    {
      "cell_type": "code",
      "metadata": {
        "id": "gLoOusmoY-xL",
        "colab_type": "code",
        "outputId": "6895de40-73df-4ae6-efe2-792853d01f35",
        "colab": {
          "base_uri": "https://localhost:8080/",
          "height": 204
        }
      },
      "source": [
        "vns_test(graph, ITER_MAX, 25395)"
      ],
      "execution_count": 0,
      "outputs": [
        {
          "output_type": "stream",
          "text": [
            "(1) cost: 30476 time: 3.232343912124634\n",
            "(2) cost: 29135 time: 3.699176788330078\n",
            "(3) cost: 33466 time: 4.16161847114563\n",
            "(4) cost: 31036 time: 3.548258066177368\n",
            "(5) cost: 35601 time: 3.696650505065918\n",
            "(6) cost: 29606 time: 3.83724045753479\n",
            "(7) cost: 30417 time: 3.6443750858306885\n",
            "(8) cost: 27125 time: 4.026474952697754\n",
            "(9) cost: 31672 time: 3.9775238037109375\n",
            "(10) cost: 28855 time: 3.1570236682891846\n",
            "Mean Cost: 30738.9 \t Optimal: 27125 \t Mean Time: 3.6980685710906984 \t Gap: 6.812364638708407\n"
          ],
          "name": "stdout"
        }
      ]
    },
    {
      "cell_type": "markdown",
      "metadata": {
        "id": "u8VpsoitY-wy",
        "colab_type": "text"
      },
      "source": [
        "### ch130"
      ]
    },
    {
      "cell_type": "code",
      "metadata": {
        "id": "169FoofcY-wz",
        "colab_type": "code",
        "outputId": "ed2f25f4-03f9-4a85-b7c6-92bbf7c07d0d",
        "colab": {
          "base_uri": "https://localhost:8080/",
          "height": 34
        }
      },
      "source": [
        "graph = Graph(130)\n",
        "graph.build(DATA_TEST[5], _type='tsp_test')\n",
        "print(graph.num_vertices())"
      ],
      "execution_count": 0,
      "outputs": [
        {
          "output_type": "stream",
          "text": [
            "130\n"
          ],
          "name": "stdout"
        }
      ]
    },
    {
      "cell_type": "markdown",
      "metadata": {
        "id": "uLvE3lTIY-w0",
        "colab_type": "text"
      },
      "source": [
        "#### Nearest Neighbor"
      ]
    },
    {
      "cell_type": "code",
      "metadata": {
        "id": "JbhobcFWY-w1",
        "colab_type": "code",
        "outputId": "180842a4-411e-43c1-c2f1-c489e0cb0115",
        "colab": {
          "base_uri": "https://localhost:8080/",
          "height": 204
        }
      },
      "source": [
        "nearest_neighbor_test(graph, ITER_MAX, 6110)"
      ],
      "execution_count": 0,
      "outputs": [
        {
          "output_type": "stream",
          "text": [
            "(1) cost: 7684 time: 0.0016741752624511719\n",
            "(2) cost: 7529 time: 0.0020575523376464844\n",
            "(3) cost: 8015 time: 0.003407716751098633\n",
            "(4) cost: 7379 time: 0.003601551055908203\n",
            "(5) cost: 7642 time: 0.0017371177673339844\n",
            "(6) cost: 8081 time: 0.0015225410461425781\n",
            "(7) cost: 7580 time: 0.0014858245849609375\n",
            "(8) cost: 7228 time: 0.001424551010131836\n",
            "(9) cost: 7779 time: 0.0014383792877197266\n",
            "(10) cost: 7229 time: 0.0014300346374511719\n",
            "Mean Cost: 7614.6 \t Optimal: 7228 \t Mean Time: 0.0019779443740844727 \t Gap: 18.29787234042553\n"
          ],
          "name": "stdout"
        }
      ]
    },
    {
      "cell_type": "markdown",
      "metadata": {
        "id": "8CQKgK7VY-w3",
        "colab_type": "text"
      },
      "source": [
        "#### Greedy Randomized Adaptive Search Procedure"
      ]
    },
    {
      "cell_type": "code",
      "metadata": {
        "id": "cmkRSi9YY-w4",
        "colab_type": "code",
        "outputId": "e09059de-baf5-4779-d17f-2edc86ab5ded",
        "colab": {
          "base_uri": "https://localhost:8080/",
          "height": 204
        }
      },
      "source": [
        "grasp_test(graph, ITER_MAX, 6110)"
      ],
      "execution_count": 0,
      "outputs": [
        {
          "output_type": "stream",
          "text": [
            "(1) cost: 6917 time: 74.55113053321838\n",
            "(2) cost: 7014 time: 66.05172395706177\n",
            "(3) cost: 7014 time: 86.56622576713562\n",
            "(4) cost: 7151 time: 80.32587575912476\n",
            "(5) cost: 7197 time: 77.2392680644989\n",
            "(6) cost: 7197 time: 76.05903792381287\n",
            "(7) cost: 7317 time: 86.77890157699585\n",
            "(8) cost: 7014 time: 71.12981486320496\n",
            "(9) cost: 7014 time: 66.05755090713501\n",
            "(10) cost: 7197 time: 71.91236162185669\n",
            "Mean Cost: 7103.2 \t Optimal: 6917 \t Mean Time: 75.66718909740447 \t Gap: 13.20785597381342\n"
          ],
          "name": "stdout"
        }
      ]
    },
    {
      "cell_type": "markdown",
      "metadata": {
        "id": "2V-51sHfY-w8",
        "colab_type": "text"
      },
      "source": [
        "#### Variable Neighborhood Search"
      ]
    },
    {
      "cell_type": "code",
      "metadata": {
        "id": "m9gWdyIBY-w9",
        "colab_type": "code",
        "outputId": "adeb7f77-c6e2-46a4-f8ed-a797495bfa9b",
        "colab": {
          "base_uri": "https://localhost:8080/",
          "height": 204
        }
      },
      "source": [
        "vns_test(graph, ITER_MAX, 6110)"
      ],
      "execution_count": 0,
      "outputs": [
        {
          "output_type": "stream",
          "text": [
            "(1) cost: 7358 time: 27.042497634887695\n",
            "(2) cost: 8996 time: 24.71938705444336\n",
            "(3) cost: 7588 time: 29.595391511917114\n",
            "(4) cost: 7024 time: 24.032722234725952\n",
            "(5) cost: 7629 time: 23.066632747650146\n",
            "(6) cost: 8706 time: 24.73310422897339\n",
            "(7) cost: 8236 time: 29.461508750915527\n",
            "(8) cost: 8012 time: 27.467189073562622\n",
            "(9) cost: 8048 time: 23.29631209373474\n",
            "(10) cost: 7240 time: 26.832247734069824\n",
            "Mean Cost: 7883.7 \t Optimal: 7024 \t Mean Time: 26.02469930648804 \t Gap: 14.959083469721769\n"
          ],
          "name": "stdout"
        }
      ]
    },
    {
      "cell_type": "markdown",
      "metadata": {
        "id": "Wq7OahjAY-wE",
        "colab_type": "text"
      },
      "source": [
        "### ch150"
      ]
    },
    {
      "cell_type": "code",
      "metadata": {
        "id": "gwt61RIJY-wF",
        "colab_type": "code",
        "outputId": "08b388ae-abc2-4dea-ba3e-4682b57e7d43",
        "colab": {
          "base_uri": "https://localhost:8080/",
          "height": 34
        }
      },
      "source": [
        "graph = Graph(150)\n",
        "graph.build(DATA_TEST[6], _type='tsp_test')\n",
        "print(graph.num_vertices())"
      ],
      "execution_count": 0,
      "outputs": [
        {
          "output_type": "stream",
          "text": [
            "150\n"
          ],
          "name": "stdout"
        }
      ]
    },
    {
      "cell_type": "markdown",
      "metadata": {
        "id": "zqqHZrhtY-wH",
        "colab_type": "text"
      },
      "source": [
        "#### Nearest Neighbor"
      ]
    },
    {
      "cell_type": "code",
      "metadata": {
        "id": "tIAO1oQWY-wI",
        "colab_type": "code",
        "outputId": "a5beab09-3eff-4c1e-af43-8f645dff51dc",
        "colab": {
          "base_uri": "https://localhost:8080/",
          "height": 204
        }
      },
      "source": [
        "nearest_neighbor_test(graph, ITER_MAX, 6528)"
      ],
      "execution_count": 0,
      "outputs": [
        {
          "output_type": "stream",
          "text": [
            "(1) cost: 7679 time: 0.002885580062866211\n",
            "(2) cost: 7627 time: 0.005655765533447266\n",
            "(3) cost: 7437 time: 0.0021584033966064453\n",
            "(4) cost: 7260 time: 0.0022516250610351562\n",
            "(5) cost: 7260 time: 0.0024442672729492188\n",
            "(6) cost: 8031 time: 0.002015829086303711\n",
            "(7) cost: 7559 time: 0.002248525619506836\n",
            "(8) cost: 7466 time: 0.0023050308227539062\n",
            "(9) cost: 7572 time: 0.0019989013671875\n",
            "(10) cost: 7717 time: 0.0019598007202148438\n",
            "Mean Cost: 7560.8 \t Optimal: 7260 \t Mean Time: 0.0025923728942871095 \t Gap: 11.213235294117647\n"
          ],
          "name": "stdout"
        }
      ]
    },
    {
      "cell_type": "markdown",
      "metadata": {
        "id": "DppyT1gxY-wL",
        "colab_type": "text"
      },
      "source": [
        "#### Greedy Randomized Adaptive Search Procedure"
      ]
    },
    {
      "cell_type": "code",
      "metadata": {
        "id": "4k5gCZKiY-wM",
        "colab_type": "code",
        "outputId": "3dd14e85-b4fe-46a9-fcb5-6c09b495e032",
        "colab": {
          "base_uri": "https://localhost:8080/",
          "height": 204
        }
      },
      "source": [
        "grasp_test(graph, ITER_MAX, 6528)"
      ],
      "execution_count": 0,
      "outputs": [
        {
          "output_type": "stream",
          "text": [
            "(1) cost: 6977 time: 128.53618478775024\n",
            "(2) cost: 7097 time: 116.54495620727539\n",
            "(3) cost: 7208 time: 113.57432866096497\n",
            "(4) cost: 7293 time: 105.4838445186615\n",
            "(5) cost: 7097 time: 127.18448758125305\n",
            "(6) cost: 7097 time: 106.78445506095886\n",
            "(7) cost: 7276 time: 116.50320625305176\n",
            "(8) cost: 7276 time: 125.38474822044373\n",
            "(9) cost: 6964 time: 127.23568940162659\n",
            "(10) cost: 7276 time: 107.65196442604065\n",
            "Mean Cost: 7156.1 \t Optimal: 6964 \t Mean Time: 117.48838651180267 \t Gap: 6.678921568627451\n"
          ],
          "name": "stdout"
        }
      ]
    },
    {
      "cell_type": "markdown",
      "metadata": {
        "id": "g3CwAYy5Y-wP",
        "colab_type": "text"
      },
      "source": [
        "#### Variable Neighborhood Search"
      ]
    },
    {
      "cell_type": "code",
      "metadata": {
        "id": "0m7vrjxIY-wP",
        "colab_type": "code",
        "outputId": "e412ae31-e8b9-4152-b01f-970bebf7be0d",
        "colab": {
          "base_uri": "https://localhost:8080/",
          "height": 204
        }
      },
      "source": [
        "vns_test(graph, ITER_MAX, 6528)"
      ],
      "execution_count": 0,
      "outputs": [
        {
          "output_type": "stream",
          "text": [
            "(1) cost: 8303 time: 45.805487394332886\n",
            "(2) cost: 8060 time: 33.94316816329956\n",
            "(3) cost: 7901 time: 29.789414167404175\n",
            "(4) cost: 7792 time: 42.847081422805786\n",
            "(5) cost: 7657 time: 35.90589880943298\n",
            "(6) cost: 7768 time: 41.244534969329834\n",
            "(7) cost: 7707 time: 35.58925724029541\n",
            "(8) cost: 7951 time: 30.932342767715454\n",
            "(9) cost: 7537 time: 32.385844707489014\n",
            "(10) cost: 8469 time: 36.01864266395569\n",
            "Mean Cost: 7914.5 \t Optimal: 7537 \t Mean Time: 36.44616723060608 \t Gap: 15.456495098039216\n"
          ],
          "name": "stdout"
        }
      ]
    },
    {
      "cell_type": "markdown",
      "metadata": {
        "id": "_5RJyLc5Y-xM",
        "colab_type": "text"
      },
      "source": [
        "### swiss42"
      ]
    },
    {
      "cell_type": "code",
      "metadata": {
        "id": "XowuKgI2Y-xN",
        "colab_type": "code",
        "outputId": "0578b3f1-8393-4969-a71e-a62640358296",
        "colab": {
          "base_uri": "https://localhost:8080/",
          "height": 34
        }
      },
      "source": [
        "graph = Graph(42)\n",
        "graph.build(DATA_TEST[8], _type='tsp_test')\n",
        "print(graph.num_vertices())"
      ],
      "execution_count": 0,
      "outputs": [
        {
          "output_type": "stream",
          "text": [
            "42\n"
          ],
          "name": "stdout"
        }
      ]
    },
    {
      "cell_type": "markdown",
      "metadata": {
        "id": "0dHxZKmTY-xO",
        "colab_type": "text"
      },
      "source": [
        "#### Nearest Neighbor"
      ]
    },
    {
      "cell_type": "code",
      "metadata": {
        "id": "LHRBFtdqY-xP",
        "colab_type": "code",
        "outputId": "8e6882d9-5dbc-413d-a58f-ce85158fe196",
        "colab": {
          "base_uri": "https://localhost:8080/",
          "height": 204
        }
      },
      "source": [
        "nearest_neighbor_test(graph, ITER_MAX, 1273)"
      ],
      "execution_count": 0,
      "outputs": [
        {
          "output_type": "stream",
          "text": [
            "(1) cost: 1577 time: 0.00029540061950683594\n",
            "(2) cost: 1469 time: 0.00026702880859375\n",
            "(3) cost: 1701 time: 0.0002777576446533203\n",
            "(4) cost: 1564 time: 0.00026917457580566406\n",
            "(5) cost: 1547 time: 0.0002722740173339844\n",
            "(6) cost: 1648 time: 0.00030922889709472656\n",
            "(7) cost: 1786 time: 0.000286102294921875\n",
            "(8) cost: 1561 time: 0.00031113624572753906\n",
            "(9) cost: 1549 time: 0.0002911090850830078\n",
            "(10) cost: 1648 time: 0.00033164024353027344\n",
            "Mean Cost: 1605.0 \t Optimal: 1469 \t Mean Time: 0.0002910852432250977 \t Gap: 15.396700706991359\n"
          ],
          "name": "stdout"
        }
      ]
    },
    {
      "cell_type": "markdown",
      "metadata": {
        "id": "AAPrBmoKY-xQ",
        "colab_type": "text"
      },
      "source": [
        "#### Greedy Randomized Adaptive Search Procedure"
      ]
    },
    {
      "cell_type": "code",
      "metadata": {
        "id": "M_YO2ccmY-xR",
        "colab_type": "code",
        "outputId": "8e67dd41-ecba-406d-a811-b9adcf69ac0f",
        "colab": {
          "base_uri": "https://localhost:8080/",
          "height": 204
        }
      },
      "source": [
        "grasp_test(graph, ITER_MAX, 1273)"
      ],
      "execution_count": 0,
      "outputs": [
        {
          "output_type": "stream",
          "text": [
            "(1) cost: 1514 time: 2.6217150688171387\n",
            "(2) cost: 1313 time: 2.647536516189575\n",
            "(3) cost: 1337 time: 2.719986915588379\n",
            "(4) cost: 1313 time: 2.368317127227783\n",
            "(5) cost: 1516 time: 2.5499539375305176\n",
            "(6) cost: 1537 time: 2.5619969367980957\n",
            "(7) cost: 1313 time: 2.2339351177215576\n",
            "(8) cost: 1313 time: 2.091729164123535\n",
            "(9) cost: 1313 time: 2.4259517192840576\n",
            "(10) cost: 1313 time: 2.58292293548584\n",
            "Mean Cost: 1378.2 \t Optimal: 1313 \t Mean Time: 2.4804045438766478 \t Gap: 3.1421838177533385\n"
          ],
          "name": "stdout"
        }
      ]
    },
    {
      "cell_type": "markdown",
      "metadata": {
        "id": "YIdv2aXeY-xS",
        "colab_type": "text"
      },
      "source": [
        "#### Variable Neighborhood Search"
      ]
    },
    {
      "cell_type": "code",
      "metadata": {
        "id": "4vid69XWY-xS",
        "colab_type": "code",
        "outputId": "2121d6e0-b4cb-4b4c-9193-791684611552",
        "colab": {
          "base_uri": "https://localhost:8080/",
          "height": 204
        }
      },
      "source": [
        "vns_test(graph, ITER_MAX, 1273)"
      ],
      "execution_count": 0,
      "outputs": [
        {
          "output_type": "stream",
          "text": [
            "(1) cost: 1428 time: 1.4467768669128418\n",
            "(2) cost: 1480 time: 1.4454796314239502\n",
            "(3) cost: 1519 time: 1.65087890625\n",
            "(4) cost: 1366 time: 1.4317922592163086\n",
            "(5) cost: 1514 time: 1.4700894355773926\n",
            "(6) cost: 1606 time: 1.2753872871398926\n",
            "(7) cost: 1313 time: 1.6444714069366455\n",
            "(8) cost: 1577 time: 1.488330364227295\n",
            "(9) cost: 1654 time: 1.4007072448730469\n",
            "(10) cost: 1490 time: 1.4989776611328125\n",
            "Mean Cost: 1494.7 \t Optimal: 1313 \t Mean Time: 1.4752891063690186 \t Gap: 3.1421838177533385\n"
          ],
          "name": "stdout"
        }
      ]
    },
    {
      "cell_type": "code",
      "metadata": {
        "id": "e9z-onSrruvP",
        "colab_type": "code",
        "colab": {}
      },
      "source": [
        ""
      ],
      "execution_count": 0,
      "outputs": []
    }
  ]
}