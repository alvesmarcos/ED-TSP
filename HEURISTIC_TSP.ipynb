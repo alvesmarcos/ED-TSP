{
 "cells": [
  {
   "cell_type": "markdown",
   "metadata": {},
   "source": [
    "## Setup\n",
    "\n",
    "All libs that will be use in this note"
   ]
  },
  {
   "cell_type": "code",
   "execution_count": 1,
   "metadata": {},
   "outputs": [],
   "source": [
    "import numpy as np\n",
    "from glob import glob\n",
    "import random"
   ]
  },
  {
   "cell_type": "markdown",
   "metadata": {},
   "source": [
    "## Preprocessing\n",
    "\n",
    "There are two folders that contains the inputs of the problem **Traveling Salesman Problem** they are different so let's split it."
   ]
  },
  {
   "cell_type": "markdown",
   "metadata": {},
   "source": [
    "### Test Data"
   ]
  },
  {
   "cell_type": "code",
   "execution_count": 2,
   "metadata": {},
   "outputs": [
    {
     "name": "stdout",
     "output_type": "stream",
     "text": [
      "['instancias/instancias_teste/ch150.txt', 'instancias/instancias_teste/bays29.txt', 'instancias/instancias_teste/berlin52.txt', 'instancias/instancias_teste/ch130.txt', 'instancias/instancias_teste/brazil58.txt', 'instancias/instancias_teste/swiss42.txt', 'instancias/instancias_teste/bayg29.txt', 'instancias/instancias_teste/bier127.txt', 'instancias/instancias_teste/descricao.txt']\n"
     ]
    }
   ],
   "source": [
    "PATH_TEST = 'instancias/instancias_teste/'\n",
    "DATA_TEST = glob(PATH_TEST+'*.txt')\n",
    "print(DATA_TEST)"
   ]
  },
  {
   "cell_type": "markdown",
   "metadata": {},
   "source": [
    "### TSP Cup Data"
   ]
  },
  {
   "cell_type": "code",
   "execution_count": 3,
   "metadata": {},
   "outputs": [
    {
     "name": "stdout",
     "output_type": "stream",
     "text": [
      "['instancias/instancias_tsp_cup/tsp1.txt', 'instancias/instancias_tsp_cup/tsp2.txt', 'instancias/instancias_tsp_cup/tsp3.txt', 'instancias/instancias_tsp_cup/descricao.txt']\n"
     ]
    }
   ],
   "source": [
    "PATH_CUP = 'instancias/instancias_tsp_cup/'\n",
    "DATA_CUP = glob(PATH_CUP+'*.txt')\n",
    "print(DATA_CUP)"
   ]
  },
  {
   "cell_type": "markdown",
   "metadata": {},
   "source": [
    "## Math\n",
    "\n",
    "Some mathematics functions that will be useful "
   ]
  },
  {
   "cell_type": "code",
   "execution_count": 4,
   "metadata": {},
   "outputs": [],
   "source": [
    "def euclidian_distance(p1, p2):\n",
    "    return int(np.linalg.norm(p1-p2).round())"
   ]
  },
  {
   "cell_type": "code",
   "execution_count": 5,
   "metadata": {},
   "outputs": [
    {
     "name": "stdout",
     "output_type": "stream",
     "text": [
      "9\n"
     ]
    }
   ],
   "source": [
    "print(euclidian_distance(np.array([1,1]), np.array([1,10])))"
   ]
  },
  {
   "cell_type": "markdown",
   "metadata": {},
   "source": [
    "## Graph\n",
    "\n",
    "We'll use a graph as data structure in order to representation our problem, where each city is a vertex and a connection is representation by a edge. "
   ]
  },
  {
   "cell_type": "code",
   "execution_count": 6,
   "metadata": {},
   "outputs": [],
   "source": [
    "class Graph:\n",
    "    def __init__(self, num_vertices):\n",
    "        self._adjacency_matrix = np.zeros((num_vertices, num_vertices), dtype=np.int64)\n",
    "        \n",
    "    def build(self, file, _type='tsp_test'):\n",
    "        if _type == 'tsp_cup':\n",
    "            self._handle_tsp_cup(file)\n",
    "        elif _type == 'tsp_test':\n",
    "            self._handle_tsp_test(file)\n",
    "        else:\n",
    "            print('Undefined type')\n",
    "        \n",
    "    def _handle_tsp_cup(self, file):\n",
    "        data = []\n",
    "        with open(file, 'r') as f:\n",
    "            for line in f:\n",
    "                try:\n",
    "                    _, x, y = list(filter(lambda x: x!='', line.split(' ')))\n",
    "                    data.append(np.array((float(x), float(y[:-1]))))\n",
    "                except:\n",
    "                    pass\n",
    "        for i, p1 in enumerate(data):\n",
    "            for j, p2 in enumerate(data):\n",
    "                self._adjacency_matrix[i][j] = euclidian_distance(p1, p2)\n",
    "    \n",
    "    def _handle_tsp_test(self, file):\n",
    "        data = []\n",
    "        with open(file, 'r') as f:\n",
    "            _input = f.readlines()\n",
    "            _input = [_.strip() for _ in _input]\n",
    "            _input = [_.split() for _ in _input]\n",
    "            for i, array in enumerate(_input[3:]):\n",
    "                try:\n",
    "                    _ = [int(_) for _ in array]\n",
    "                    if len(_) > 0:\n",
    "                        data.append(_)\n",
    "                except:\n",
    "                    pass\n",
    "        self._adjacency_matrix = data\n",
    "    \n",
    "    def num_vertices(self):\n",
    "        return len(self._adjacency_matrix)\n",
    "    \n",
    "    def get_cost(self, _list_path_nodes):\n",
    "        path = [self._adjacency_matrix[current][_next] for current, _next in zip(_list_path_nodes[1:], _list_path_nodes[:-1])]\n",
    "        return sum(path)"
   ]
  },
  {
   "cell_type": "markdown",
   "metadata": {},
   "source": [
    "## Optimizations Solutions\n",
    "\n",
    "Some functions that will give us solutions for our problem."
   ]
  },
  {
   "cell_type": "markdown",
   "metadata": {},
   "source": [
    "## Helpers\n",
    "\n",
    "Below functions that will be userful to generation solutions"
   ]
  },
  {
   "cell_type": "code",
   "execution_count": 7,
   "metadata": {},
   "outputs": [],
   "source": [
    "def pick_element(_list, nodes):\n",
    "    for index, x in enumerate(_list):\n",
    "        if not nodes[index]:\n",
    "            return index, x\n",
    "    return None"
   ]
  },
  {
   "cell_type": "code",
   "execution_count": 8,
   "metadata": {},
   "outputs": [],
   "source": [
    "def get_min_distance(_distances, nodes):\n",
    "    min_index, min_val = pick_element(_distances, nodes)\n",
    "    for index, x in enumerate(_distances):\n",
    "        if min_val > x:\n",
    "            min_val = x if not nodes[index] else min_val\n",
    "            min_index = index if not nodes[index] else min_index\n",
    "    return min_val, min_index"
   ]
  },
  {
   "cell_type": "code",
   "execution_count": 60,
   "metadata": {},
   "outputs": [],
   "source": [
    "def get_cost_swap(graph, cost, _list, i, k):\n",
    "    cost_swap = cost\n",
    "    if i == k:\n",
    "        return cost_swap\n",
    "    # make sure that k is always higher than i\n",
    "    if i > k:\n",
    "        i, k = k, i\n",
    "    if i+1 == k:\n",
    "        prev, _next = i-1 if i > 0 else i, k+1 if k < graph.num_vertices() - 1 else k\n",
    "        cost_swap -= graph.get_cost([_list[prev], _list[i], _list[k], _list[_next]])\n",
    "        \n",
    "        prev, _next = i-1 if i > 0 else k, k+1 if k < graph.num_vertices() - 1 else i\n",
    "        cost_swap += graph.get_cost([_list[prev], _list[k], _list[i], _list[_next]])\n",
    "    else:\n",
    "        prev_i, _next_i = i-1 if i > 0 else i, i+1\n",
    "        prev_k, _next_k = k-1, k+1 if k < graph.num_vertices() - 1 else k\n",
    "        \n",
    "        cost_swap -= graph.get_cost([_list[prev_i], _list[i], _list[_next_i]])\n",
    "        cost_swap -= graph.get_cost([_list[prev_k], _list[k], _list[_next_k]])\n",
    "        \n",
    "        prev_i, _next_i = i-1 if i > 0 else k, i+1\n",
    "        prev_k, _next_k = k-1, k+1 if k < graph.num_vertices() - 1 else i\n",
    "        \n",
    "        cost_swap += graph.get_cost([_list[prev_i], _list[k], _list[_next_i]])\n",
    "        cost_swap += graph.get_cost([_list[prev_k], _list[i], _list[_next_k]])\n",
    "    return cost_swap"
   ]
  },
  {
   "cell_type": "markdown",
   "metadata": {},
   "source": [
    "### Nearest Neighbor"
   ]
  },
  {
   "cell_type": "code",
   "execution_count": 63,
   "metadata": {},
   "outputs": [],
   "source": [
    "def nearest_neighbor(graph, initial):\n",
    "    solution = []\n",
    "    current_node = initial\n",
    "    nodes = [False for x in range(graph.num_vertices())]\n",
    "    nodes[current_node] = True\n",
    "    flag = True\n",
    "    solution.append(current_node)\n",
    "    while flag:\n",
    "        distances = graph._adjacency_matrix[current_node]\n",
    "        min_distance, min_index = get_min_distance(distances, nodes)\n",
    "        current_node = min_index\n",
    "        nodes[current_node] = True\n",
    "        solution.append(current_node)\n",
    "        if all(nodes):\n",
    "            solution.append(initial)\n",
    "            flag = False\n",
    "    return graph.get_cost(solution), solution"
   ]
  },
  {
   "cell_type": "markdown",
   "metadata": {},
   "source": [
    "### Best Insertion"
   ]
  },
  {
   "cell_type": "code",
   "execution_count": 111,
   "metadata": {},
   "outputs": [],
   "source": [
    "def best_insertion(graph, initial):\n",
    "    current_cost, current_solution = initial\n",
    "    index = np.random.randint(graph.num_vertices())\n",
    "    for i in range(graph.num_vertices()):\n",
    "        cost = get_cost_swap(graph, current_cost, current_solution, i, index)\n",
    "        if current_cost > cost:\n",
    "            current_solution[i], current_solution[index] = current_solution[index], current_solution[i]\n",
    "            current_cost = cost\n",
    "    return graph.get_cost(current_solution), current_solution"
   ]
  },
  {
   "cell_type": "markdown",
   "metadata": {},
   "source": [
    "### Swap"
   ]
  },
  {
   "cell_type": "code",
   "execution_count": 112,
   "metadata": {},
   "outputs": [],
   "source": [
    "def first_swap(graph, initial):\n",
    "    current_cost, current_solution = initial\n",
    "    flag = True\n",
    "    while flag:\n",
    "        flag = False\n",
    "        for i in range(graph.num_vertices()):\n",
    "            for k in range(i+1, graph.num_vertices()):\n",
    "                cost = get_cost_swap(graph, current_cost, current_solution, i, k) \n",
    "                if current_cost > cost:\n",
    "                    current_solution[i], current_solution[k] = current_solution[k], current_solution[i]\n",
    "                    current_cost = cost\n",
    "                    return graph.get_cost(current_solution), current_solution\n",
    "    return graph.get_cost(current_solution), current_solution"
   ]
  },
  {
   "cell_type": "markdown",
   "metadata": {},
   "source": [
    "### Variable Neighborhood Descent"
   ]
  },
  {
   "cell_type": "code",
   "execution_count": 154,
   "metadata": {},
   "outputs": [],
   "source": [
    "def vnd(graph, initial, itermax):\n",
    "#     initial = np.arange(graph.num_vertices())\n",
    "#     np.random.shuffle(initial)\n",
    "    index_random = np.random.randint(graph.num_vertices())\n",
    "    _, initial = nearest_neighbor(graph, index_random)\n",
    "    initial = np.array(initial[:-1])\n",
    "\n",
    "    _iter = 0\n",
    "    current_cost, current_solution = graph.get_cost(initial), initial.tolist()\n",
    "\n",
    "    while _iter < itermax:\n",
    "        is_better = True\n",
    "        while is_better:\n",
    "            is_better = False\n",
    "            cost, solution = best_insertion(graph, (current_cost, current_solution))\n",
    "            if current_cost > cost:\n",
    "                current_cost, current_solution = cost, solution\n",
    "                is_better = True\n",
    "                _iter = 0\n",
    "            else:\n",
    "                cost, solution = first_swap(graph, (current_cost, current_solution))\n",
    "                if current_cost > cost:\n",
    "                    current_cost, current_solution = cost, solution\n",
    "                    is_better = True\n",
    "                    _iter = 0\n",
    "        _iter += 1\n",
    "    current_solution = current_solution + [current_solution[0]]\n",
    "    return graph.get_cost(current_solution), current_solution"
   ]
  },
  {
   "cell_type": "markdown",
   "metadata": {},
   "source": [
    "## Test\n",
    "\n",
    "For each test we'll build a graph with the adjacency matrix representing our cities."
   ]
  },
  {
   "cell_type": "markdown",
   "metadata": {},
   "source": [
    "### TSP TEST"
   ]
  },
  {
   "cell_type": "code",
   "execution_count": 155,
   "metadata": {},
   "outputs": [
    {
     "name": "stdout",
     "output_type": "stream",
     "text": [
      "['instancias/instancias_teste/ch150.txt', 'instancias/instancias_teste/bays29.txt', 'instancias/instancias_teste/berlin52.txt', 'instancias/instancias_teste/ch130.txt', 'instancias/instancias_teste/brazil58.txt', 'instancias/instancias_teste/swiss42.txt', 'instancias/instancias_teste/bayg29.txt', 'instancias/instancias_teste/bier127.txt', 'instancias/instancias_teste/descricao.txt']\n"
     ]
    }
   ],
   "source": [
    "print(DATA_TEST)"
   ]
  },
  {
   "cell_type": "markdown",
   "metadata": {},
   "source": [
    "### ch150"
   ]
  },
  {
   "cell_type": "code",
   "execution_count": 156,
   "metadata": {},
   "outputs": [
    {
     "name": "stdout",
     "output_type": "stream",
     "text": [
      "150\n"
     ]
    }
   ],
   "source": [
    "graph = Graph(150)\n",
    "graph.build(DATA_TEST[0], _type='tsp_test')\n",
    "print(graph.num_vertices())"
   ]
  },
  {
   "cell_type": "markdown",
   "metadata": {},
   "source": [
    "#### Nearest Neighbor"
   ]
  },
  {
   "cell_type": "code",
   "execution_count": 157,
   "metadata": {},
   "outputs": [
    {
     "name": "stdout",
     "output_type": "stream",
     "text": [
      "8031 34\n"
     ]
    }
   ],
   "source": [
    "random_index = np.random.randint(graph.num_vertices())\n",
    "cost, solution = nearest_neighbor(graph, random_index)\n",
    "print(cost, random_index)"
   ]
  },
  {
   "cell_type": "markdown",
   "metadata": {},
   "source": [
    "#### Variable Neighborhood Descent"
   ]
  },
  {
   "cell_type": "code",
   "execution_count": 158,
   "metadata": {},
   "outputs": [
    {
     "name": "stdout",
     "output_type": "stream",
     "text": [
      "[46, 119, 41, 8, 27, 5, 36, 1, 18, 98, 113, 101, 107, 69, 134, 49, 57, 54, 64, 131, 136, 85, 28, 80, 109, 19, 24, 140, 82, 55, 145, 25, 74, 17, 84, 141, 142, 99, 4, 106, 94, 81, 102, 97, 0, 86, 75, 72, 47, 62, 29, 83, 6, 7, 88, 95, 34, 92, 51, 32, 104, 110, 15, 58, 78, 120, 87, 93, 9, 112, 2, 61, 148, 124, 21, 103, 3, 44, 70, 43, 114, 149, 20, 77, 14, 132, 76, 121, 13, 79, 71, 48, 146, 143, 128, 26, 30, 144, 135, 111, 63, 105, 12, 73, 122, 116, 56, 38, 40, 100, 115, 11, 23, 117, 52, 39, 138, 50, 108, 42, 66, 37, 22, 31, 130, 133, 137, 45, 89, 53, 91, 125, 123, 96, 33, 127, 67, 118, 90, 139, 59, 65, 16, 129, 147, 10, 60, 35, 68, 126, 46]\n",
      "7946 40\n"
     ]
    }
   ],
   "source": [
    "random_index = np.random.randint(graph.num_vertices())\n",
    "cost, solution = vnd(graph, random_index, 2)\n",
    "print(solution)\n",
    "print(cost, random_index)"
   ]
  },
  {
   "cell_type": "markdown",
   "metadata": {},
   "source": [
    "### bays29"
   ]
  },
  {
   "cell_type": "code",
   "execution_count": 169,
   "metadata": {},
   "outputs": [
    {
     "name": "stdout",
     "output_type": "stream",
     "text": [
      "29\n"
     ]
    }
   ],
   "source": [
    "graph = Graph(29)\n",
    "graph.build(DATA_TEST[1], _type='tsp_test')\n",
    "print(graph.num_vertices())"
   ]
  },
  {
   "cell_type": "markdown",
   "metadata": {},
   "source": [
    "#### Nearest Neighbor"
   ]
  },
  {
   "cell_type": "code",
   "execution_count": 170,
   "metadata": {},
   "outputs": [
    {
     "name": "stdout",
     "output_type": "stream",
     "text": [
      "[20, 1, 19, 9, 3, 14, 17, 13, 21, 16, 10, 18, 15, 26, 23, 7, 0, 27, 5, 11, 8, 4, 25, 28, 2, 12, 24, 6, 22, 20]\n",
      "2374 20\n"
     ]
    }
   ],
   "source": [
    "random_index = np.random.randint(graph.num_vertices())\n",
    "cost, solution = nearest_neighbor(graph, random_index)\n",
    "print(solution)\n",
    "print(cost, random_index)"
   ]
  },
  {
   "cell_type": "markdown",
   "metadata": {},
   "source": [
    "#### Variable Neighborhood Descent"
   ]
  },
  {
   "cell_type": "code",
   "execution_count": 173,
   "metadata": {},
   "outputs": [
    {
     "name": "stdout",
     "output_type": "stream",
     "text": [
      "[8, 4, 25, 28, 2, 1, 20, 0, 5, 11, 27, 7, 26, 23, 15, 18, 14, 3, 9, 19, 12, 22, 6, 24, 10, 21, 13, 17, 16, 8]\n",
      "2435 10\n"
     ]
    }
   ],
   "source": [
    "random_index = np.random.randint(graph.num_vertices())\n",
    "cost, solution = vnd(graph, random_index, 2)\n",
    "print(solution)\n",
    "print(cost, random_index)"
   ]
  },
  {
   "cell_type": "markdown",
   "metadata": {},
   "source": [
    "### berlin52"
   ]
  },
  {
   "cell_type": "code",
   "execution_count": null,
   "metadata": {},
   "outputs": [],
   "source": [
    "graph = Graph(52)\n",
    "graph.build(DATA_TEST[2], _type='tsp_test')\n",
    "print(graph.num_vertices())"
   ]
  },
  {
   "cell_type": "markdown",
   "metadata": {},
   "source": [
    "#### Nearest Neighbor"
   ]
  },
  {
   "cell_type": "code",
   "execution_count": null,
   "metadata": {},
   "outputs": [],
   "source": [
    "random_index = np.random.randint(graph.num_vertices())\n",
    "cost, solution = nearest_neighbor(graph, random_index)\n",
    "print(cost, random_index)"
   ]
  },
  {
   "cell_type": "markdown",
   "metadata": {},
   "source": [
    "#### Variable Neighborhood Descent"
   ]
  },
  {
   "cell_type": "code",
   "execution_count": null,
   "metadata": {},
   "outputs": [],
   "source": [
    "random_index = np.random.randint(graph.num_vertices())\n",
    "cost, solution = vnd(graph, random_index, 5)\n",
    "print(cost, random_index)"
   ]
  },
  {
   "cell_type": "markdown",
   "metadata": {},
   "source": [
    "### ch130"
   ]
  },
  {
   "cell_type": "code",
   "execution_count": null,
   "metadata": {},
   "outputs": [],
   "source": [
    "graph = Graph(130)\n",
    "graph.build(DATA_TEST[3], _type='tsp_test')\n",
    "print(graph.num_vertices())"
   ]
  },
  {
   "cell_type": "markdown",
   "metadata": {},
   "source": [
    "#### Nearest Neighbor"
   ]
  },
  {
   "cell_type": "code",
   "execution_count": null,
   "metadata": {},
   "outputs": [],
   "source": [
    "random_index = np.random.randint(graph.num_vertices())\n",
    "cost, solution = nearest_neighbor(graph, random_index)\n",
    "print(cost, random_index)"
   ]
  },
  {
   "cell_type": "markdown",
   "metadata": {},
   "source": [
    "#### Variable Neighborhood Descent"
   ]
  },
  {
   "cell_type": "code",
   "execution_count": null,
   "metadata": {},
   "outputs": [],
   "source": [
    "random_index = np.random.randint(graph.num_vertices())\n",
    "cost, solution = vnd(graph, random_index, 5)\n",
    "print(cost, random_index)"
   ]
  },
  {
   "cell_type": "markdown",
   "metadata": {},
   "source": [
    "### brazil58"
   ]
  },
  {
   "cell_type": "code",
   "execution_count": null,
   "metadata": {},
   "outputs": [],
   "source": [
    "graph = Graph(58)\n",
    "graph.build(DATA_TEST[4], _type='tsp_test')\n",
    "print(graph.num_vertices())"
   ]
  },
  {
   "cell_type": "markdown",
   "metadata": {},
   "source": [
    "#### Nearest Neighbor"
   ]
  },
  {
   "cell_type": "code",
   "execution_count": null,
   "metadata": {},
   "outputs": [],
   "source": [
    "random_index = np.random.randint(graph.num_vertices())\n",
    "cost, solution = nearest_neighbor(graph, random_index)\n",
    "print(cost, random_index)"
   ]
  },
  {
   "cell_type": "markdown",
   "metadata": {},
   "source": [
    "#### Variable Neighborhood Descent"
   ]
  },
  {
   "cell_type": "code",
   "execution_count": null,
   "metadata": {},
   "outputs": [],
   "source": [
    "random_index = np.random.randint(graph.num_vertices())\n",
    "cost, solution = vnd(graph, random_index, 5)\n",
    "print(cost, random_index)"
   ]
  },
  {
   "cell_type": "markdown",
   "metadata": {},
   "source": [
    "### swiss42"
   ]
  },
  {
   "cell_type": "code",
   "execution_count": null,
   "metadata": {},
   "outputs": [],
   "source": [
    "graph = Graph(42)\n",
    "graph.build(DATA_TEST[5], _type='tsp_test')\n",
    "print(graph.num_vertices())"
   ]
  },
  {
   "cell_type": "markdown",
   "metadata": {},
   "source": [
    "#### Nearest Neighbor"
   ]
  },
  {
   "cell_type": "code",
   "execution_count": null,
   "metadata": {},
   "outputs": [],
   "source": [
    "random_index = np.random.randint(graph.num_vertices())\n",
    "cost, solution = nearest_neighbor(graph, random_index)\n",
    "print(cost, random_index)"
   ]
  },
  {
   "cell_type": "markdown",
   "metadata": {},
   "source": [
    "#### Variable Neighborhood Descent"
   ]
  },
  {
   "cell_type": "code",
   "execution_count": null,
   "metadata": {},
   "outputs": [],
   "source": [
    "random_index = np.random.randint(graph.num_vertices())\n",
    "cost, solution = vnd(graph, random_index, 5)\n",
    "print(cost, random_index)"
   ]
  },
  {
   "cell_type": "markdown",
   "metadata": {},
   "source": [
    "### bayg29"
   ]
  },
  {
   "cell_type": "code",
   "execution_count": null,
   "metadata": {},
   "outputs": [],
   "source": [
    "graph = Graph(29)\n",
    "graph.build(DATA_TEST[6], _type='tsp_test')\n",
    "print(graph.num_vertices())"
   ]
  },
  {
   "cell_type": "markdown",
   "metadata": {},
   "source": [
    "#### Nearest Neighbor"
   ]
  },
  {
   "cell_type": "code",
   "execution_count": null,
   "metadata": {},
   "outputs": [],
   "source": [
    "random_index = np.random.randint(graph.num_vertices())\n",
    "cost, solution = nearest_neighbor(graph, random_index)\n",
    "print(cost, random_index)"
   ]
  },
  {
   "cell_type": "markdown",
   "metadata": {},
   "source": [
    "#### Variable Neighborhood Descent"
   ]
  },
  {
   "cell_type": "code",
   "execution_count": null,
   "metadata": {},
   "outputs": [],
   "source": [
    "random_index = np.random.randint(graph.num_vertices())\n",
    "cost, solution = vnd(graph, random_index, 5)\n",
    "print(cost, random_index)"
   ]
  },
  {
   "cell_type": "markdown",
   "metadata": {},
   "source": [
    "### bier127"
   ]
  },
  {
   "cell_type": "code",
   "execution_count": null,
   "metadata": {},
   "outputs": [],
   "source": [
    "graph = Graph(127)\n",
    "graph.build(DATA_TEST[7], _type='tsp_test')\n",
    "print(graph.num_vertices())"
   ]
  },
  {
   "cell_type": "markdown",
   "metadata": {},
   "source": [
    "#### Nearest Neighbor"
   ]
  },
  {
   "cell_type": "code",
   "execution_count": null,
   "metadata": {},
   "outputs": [],
   "source": [
    "random_index = np.random.randint(graph.num_vertices())\n",
    "cost, solution = nearest_neighbor(graph, random_index)\n",
    "print(cost, random_index)"
   ]
  },
  {
   "cell_type": "markdown",
   "metadata": {},
   "source": [
    "#### Variable Neighborhood Descent"
   ]
  },
  {
   "cell_type": "code",
   "execution_count": null,
   "metadata": {},
   "outputs": [],
   "source": [
    "random_index = np.random.randint(graph.num_vertices())\n",
    "cost, solution = vnd(graph, random_index, 5)\n",
    "print(cost, random_index)"
   ]
  },
  {
   "cell_type": "markdown",
   "metadata": {},
   "source": [
    "### TSP CUP"
   ]
  },
  {
   "cell_type": "code",
   "execution_count": null,
   "metadata": {},
   "outputs": [],
   "source": [
    "graph = Graph(1500)\n",
    "graph.build(DATA_CUP[0], _type='tsp_cup')\n",
    "print(graph._adjacency_matrix)\n",
    "print(graph.num_vertices())"
   ]
  },
  {
   "cell_type": "code",
   "execution_count": null,
   "metadata": {},
   "outputs": [],
   "source": [
    "random_index = np.random.randint(graph.num_vertices())\n",
    "cost, solution = nearest_neighbor(graph, random_index)\n",
    "print(cost, random_index)"
   ]
  },
  {
   "cell_type": "code",
   "execution_count": null,
   "metadata": {},
   "outputs": [],
   "source": [
    "random_index = np.random.randint(graph.num_vertices())\n",
    "cost, solution = random_restart(graph, random_index, 100)\n",
    "print(cost, random_index)"
   ]
  },
  {
   "cell_type": "code",
   "execution_count": null,
   "metadata": {},
   "outputs": [],
   "source": [
    "random_index = np.random.randint(graph.num_vertices())\n",
    "cost, solution = best_improvement(graph, random_index)\n",
    "print(cost, random_index)"
   ]
  },
  {
   "cell_type": "code",
   "execution_count": null,
   "metadata": {},
   "outputs": [],
   "source": [
    "random_index = np.random.randint(graph.num_vertices())\n",
    "cost, solution = first_improvement(graph, random_index)\n",
    "print(cost, random_index)"
   ]
  },
  {
   "cell_type": "code",
   "execution_count": null,
   "metadata": {},
   "outputs": [],
   "source": [
    "random_index = np.random.randint(graph.num_vertices())\n",
    "cost, solution = vnd(graph, random_index, 10)\n",
    "print(cost, random_index)"
   ]
  }
 ],
 "metadata": {
  "kernelspec": {
   "display_name": "Python 3",
   "language": "python",
   "name": "python3"
  },
  "language_info": {
   "codemirror_mode": {
    "name": "ipython",
    "version": 3
   },
   "file_extension": ".py",
   "mimetype": "text/x-python",
   "name": "python",
   "nbconvert_exporter": "python",
   "pygments_lexer": "ipython3",
   "version": "3.6.5"
  }
 },
 "nbformat": 4,
 "nbformat_minor": 2
}
