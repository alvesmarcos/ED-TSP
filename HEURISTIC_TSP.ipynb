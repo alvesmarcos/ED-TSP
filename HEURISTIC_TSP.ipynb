{
 "cells": [
  {
   "cell_type": "markdown",
   "metadata": {},
   "source": [
    "## Setup\n",
    "\n",
    "All libs that will be use in this note"
   ]
  },
  {
   "cell_type": "code",
   "execution_count": 1,
   "metadata": {},
   "outputs": [],
   "source": [
    "import numpy as np\n",
    "from glob import glob\n",
    "import random"
   ]
  },
  {
   "cell_type": "markdown",
   "metadata": {},
   "source": [
    "## Preprocessing\n",
    "\n",
    "There are two folders that contains the inputs of the problem **Traveling Salesman Problem** they are different so let's split it."
   ]
  },
  {
   "cell_type": "markdown",
   "metadata": {},
   "source": [
    "### Test Data"
   ]
  },
  {
   "cell_type": "code",
   "execution_count": 2,
   "metadata": {},
   "outputs": [
    {
     "name": "stdout",
     "output_type": "stream",
     "text": [
      "['instancias/instancias_teste/ch150.txt', 'instancias/instancias_teste/bays29.txt', 'instancias/instancias_teste/berlin52.txt', 'instancias/instancias_teste/ch130.txt', 'instancias/instancias_teste/brazil58.txt', 'instancias/instancias_teste/swiss42.txt', 'instancias/instancias_teste/bayg29.txt', 'instancias/instancias_teste/bier127.txt', 'instancias/instancias_teste/descricao.txt']\n"
     ]
    }
   ],
   "source": [
    "PATH_TEST = 'instancias/instancias_teste/'\n",
    "DATA_TEST = glob(PATH_TEST+'*.txt')\n",
    "print(DATA_TEST)"
   ]
  },
  {
   "cell_type": "markdown",
   "metadata": {},
   "source": [
    "### TSP Cup Data"
   ]
  },
  {
   "cell_type": "code",
   "execution_count": 3,
   "metadata": {},
   "outputs": [
    {
     "name": "stdout",
     "output_type": "stream",
     "text": [
      "['instancias/instancias_tsp_cup/tsp1.txt', 'instancias/instancias_tsp_cup/tsp2.txt', 'instancias/instancias_tsp_cup/tsp3.txt', 'instancias/instancias_tsp_cup/descricao.txt']\n"
     ]
    }
   ],
   "source": [
    "PATH_CUP = 'instancias/instancias_tsp_cup/'\n",
    "DATA_CUP = glob(PATH_CUP+'*.txt')\n",
    "print(DATA_CUP)"
   ]
  },
  {
   "cell_type": "markdown",
   "metadata": {},
   "source": [
    "## Math\n",
    "\n",
    "Some mathematics functions that will be useful "
   ]
  },
  {
   "cell_type": "code",
   "execution_count": 4,
   "metadata": {},
   "outputs": [],
   "source": [
    "def euclidian_distance(p1, p2):\n",
    "    return int(np.linalg.norm(p1-p2).round())"
   ]
  },
  {
   "cell_type": "code",
   "execution_count": 5,
   "metadata": {},
   "outputs": [
    {
     "name": "stdout",
     "output_type": "stream",
     "text": [
      "9\n"
     ]
    }
   ],
   "source": [
    "print(euclidian_distance(np.array([1,1]), np.array([1,10])))"
   ]
  },
  {
   "cell_type": "markdown",
   "metadata": {},
   "source": [
    "## Graph\n",
    "\n",
    "We'll use a graph as data structure in order to representation our problem, where each city is a vertex and a connection is representation by a edge. "
   ]
  },
  {
   "cell_type": "code",
   "execution_count": 6,
   "metadata": {},
   "outputs": [],
   "source": [
    "class Graph:\n",
    "    def __init__(self, num_vertices):\n",
    "        self._adjacency_matrix = np.zeros((num_vertices, num_vertices), dtype=np.int64)\n",
    "        \n",
    "    def build(self, file, _type='tsp_test'):\n",
    "        if _type == 'tsp_cup':\n",
    "            self._handle_tsp_cup(file)\n",
    "        elif _type == 'tsp_test':\n",
    "            self._handle_tsp_test(file)\n",
    "        else:\n",
    "            print('Undefined type')\n",
    "        \n",
    "    def _handle_tsp_cup(self, file):\n",
    "        data = []\n",
    "        with open(file, 'r') as f:\n",
    "            for line in f:\n",
    "                try:\n",
    "                    _, x, y = list(filter(lambda x: x!='', line.split(' ')))\n",
    "                    data.append(np.array((float(x), float(y[:-1]))))\n",
    "                except:\n",
    "                    pass\n",
    "        for i, p1 in enumerate(data):\n",
    "            for j, p2 in enumerate(data):\n",
    "                self._adjacency_matrix[i][j] = euclidian_distance(p1, p2)\n",
    "    \n",
    "    def _handle_tsp_test(self, file):\n",
    "        data = []\n",
    "        with open(file, 'r') as f:\n",
    "            _input = f.readlines()\n",
    "            _input = [_.strip() for _ in _input]\n",
    "            _input = [_.split() for _ in _input]\n",
    "            for i, array in enumerate(_input[3:]):\n",
    "                try:\n",
    "                    _ = [int(_) for _ in array]\n",
    "                    if len(_) > 0:\n",
    "                        data.append(_)\n",
    "                except:\n",
    "                    pass\n",
    "        self._adjacency_matrix = data\n",
    "    \n",
    "    def num_vertices(self):\n",
    "        return len(self._adjacency_matrix)\n",
    "    \n",
    "    def get_cost(self, _list_path_nodes):\n",
    "        path = [self._adjacency_matrix[current][_next] for current, _next in zip(_list_path_nodes[1:], _list_path_nodes[:-1])]\n",
    "        return sum(path)"
   ]
  },
  {
   "cell_type": "markdown",
   "metadata": {},
   "source": [
    "## Optimizations Solutions\n",
    "\n",
    "Some functions that will give us solutions for our problem."
   ]
  },
  {
   "cell_type": "markdown",
   "metadata": {},
   "source": [
    "## Helpers\n",
    "\n",
    "Below functions that will be userful to generation solutions"
   ]
  },
  {
   "cell_type": "code",
   "execution_count": 7,
   "metadata": {},
   "outputs": [],
   "source": [
    "def pick_element(_list, nodes):\n",
    "    for index, x in enumerate(_list):\n",
    "        if not nodes[index]:\n",
    "            return index, x\n",
    "    return None"
   ]
  },
  {
   "cell_type": "code",
   "execution_count": 8,
   "metadata": {},
   "outputs": [],
   "source": [
    "def get_min_distance(_distances, nodes):\n",
    "    min_index, min_val = pick_element(_distances, nodes)\n",
    "    for index, x in enumerate(_distances):\n",
    "        if min_val > x:\n",
    "            min_val = x if not nodes[index] else min_val\n",
    "            min_index = index if not nodes[index] else min_index\n",
    "    return min_val, min_index"
   ]
  },
  {
   "cell_type": "code",
   "execution_count": 9,
   "metadata": {},
   "outputs": [],
   "source": [
    "def two_opt_swap(graph, _list, i, k):\n",
    "    start, middle, end = _list[:i], _list[i:k+1], _list[k+1:] + [_list[0]]\n",
    "    middle.reverse()\n",
    "    solution = start + middle + end\n",
    "    return graph.get_cost(solution), solution"
   ]
  },
  {
   "cell_type": "code",
   "execution_count": 10,
   "metadata": {},
   "outputs": [],
   "source": [
    "def shit_solution(graph, _list, i):\n",
    "    solution = np.copy(_list)\n",
    "    np.roll(solution, i)\n",
    "    return graph.get_cost(solution), solution"
   ]
  },
  {
   "cell_type": "code",
   "execution_count": 11,
   "metadata": {},
   "outputs": [],
   "source": [
    "def shake(graph, _list, i, k):\n",
    "    cost, solution = shit_solution(graph, _list, i)\n",
    "    return two_opt_swap(graph, solution.tolist(), i, k)"
   ]
  },
  {
   "cell_type": "markdown",
   "metadata": {},
   "source": [
    "### Nearest Neighbor"
   ]
  },
  {
   "cell_type": "code",
   "execution_count": 12,
   "metadata": {},
   "outputs": [],
   "source": [
    "def nearest_neighbor(graph, initial):\n",
    "    solution = []\n",
    "    current_node = initial\n",
    "    nodes = [False for x in range(graph.num_vertices())]\n",
    "    nodes[current_node] = True\n",
    "    flag = True\n",
    "    solution.append(current_node)\n",
    "    while flag:\n",
    "        distances = graph._adjacency_matrix[current_node]\n",
    "        min_distance, min_index = get_min_distance(distances, nodes)\n",
    "        current_node = min_index\n",
    "        nodes[current_node] = True\n",
    "        solution.append(current_node)\n",
    "        if all(nodes):\n",
    "            solution.append(initial)\n",
    "            flag = False\n",
    "    return graph.get_cost(solution), solution"
   ]
  },
  {
   "cell_type": "markdown",
   "metadata": {},
   "source": [
    "### Random Restart"
   ]
  },
  {
   "cell_type": "code",
   "execution_count": 13,
   "metadata": {},
   "outputs": [],
   "source": [
    "def random_restart(graph, initial, itermax):\n",
    "    initial = np.random.randint(graph.num_vertices()) if initial is None else initial\n",
    "    _iter = 0\n",
    "    current_cost, current_solution = nearest_neighbor(graph, initial)\n",
    "    while _iter < itermax:\n",
    "        np.random.shuffle(current_solution)\n",
    "        cost = graph.get_cost(current_solution)\n",
    "        if current_cost > cost:\n",
    "            current_cost, current_solution = cost, solution\n",
    "            _iter = 0\n",
    "        else:\n",
    "            _iter += 1\n",
    "    return graph.get_cost(current_solution), current_solution"
   ]
  },
  {
   "cell_type": "markdown",
   "metadata": {},
   "source": [
    "### Best Improvement"
   ]
  },
  {
   "cell_type": "code",
   "execution_count": 14,
   "metadata": {},
   "outputs": [],
   "source": [
    "def best_improvement(graph, initial):\n",
    "    initial = np.random.randint(graph.num_vertices()) if initial is None else initial\n",
    "    current_cost, current_solution = random_restart(graph, initial, 100)\n",
    "    flag = True\n",
    "    while flag:\n",
    "        flag = False\n",
    "        for i in range(graph.num_vertices()):\n",
    "            for k in range(i+1, graph.num_vertices()):\n",
    "                cost, solution = shake(graph, current_solution, i, k)\n",
    "                if current_cost > cost:\n",
    "                    current_cost, current_solution = cost, solution\n",
    "                    flag = True\n",
    "    return graph.get_cost(current_solution), current_solution"
   ]
  },
  {
   "cell_type": "markdown",
   "metadata": {},
   "source": [
    "### First Improvement"
   ]
  },
  {
   "cell_type": "code",
   "execution_count": 15,
   "metadata": {},
   "outputs": [],
   "source": [
    "def first_improvement(graph, initial):\n",
    "    initial = np.random.randint(graph.num_vertices()) if initial is None else initial\n",
    "    current_cost, current_solution = random_restart(graph, initial, 100)\n",
    "    while True:\n",
    "        for i in range(graph.num_vertices()):\n",
    "            for k in range(i+1, graph.num_vertices()):\n",
    "                cost, solution = shake(graph, current_solution, i, k)\n",
    "                if current_cost > cost:\n",
    "                    return current_cost, current_solution\n",
    "    return graph.get_cost(current_solution), current_solution"
   ]
  },
  {
   "cell_type": "markdown",
   "metadata": {},
   "source": [
    "### Variable Neighborhood Descent"
   ]
  },
  {
   "cell_type": "code",
   "execution_count": 16,
   "metadata": {},
   "outputs": [],
   "source": [
    "def vnd(graph, initial, itermax):\n",
    "    initial = np.random.randint(graph.num_vertices()) if initial is None else initial\n",
    "    _iter = 0\n",
    "    current_cost, current_solution = nearest_neighbor(graph, initial)\n",
    "    while _iter < itermax:\n",
    "        cost, solution = best_improvement(graph, current_solution[0])\n",
    "        if current_cost > cost:\n",
    "            current_cost, current_solution = cost, solution\n",
    "            _iter = 0\n",
    "        else:\n",
    "            _iter += 1\n",
    "    return graph.get_cost(current_solution), current_solution"
   ]
  },
  {
   "cell_type": "markdown",
   "metadata": {},
   "source": [
    "## Test\n",
    "\n",
    "For each test we'll build a graph with the adjacency matrix representing our cities."
   ]
  },
  {
   "cell_type": "markdown",
   "metadata": {},
   "source": [
    "### TSP TEST"
   ]
  },
  {
   "cell_type": "code",
   "execution_count": 17,
   "metadata": {},
   "outputs": [
    {
     "name": "stdout",
     "output_type": "stream",
     "text": [
      "['instancias/instancias_teste/ch150.txt', 'instancias/instancias_teste/bays29.txt', 'instancias/instancias_teste/berlin52.txt', 'instancias/instancias_teste/ch130.txt', 'instancias/instancias_teste/brazil58.txt', 'instancias/instancias_teste/swiss42.txt', 'instancias/instancias_teste/bayg29.txt', 'instancias/instancias_teste/bier127.txt', 'instancias/instancias_teste/descricao.txt']\n"
     ]
    }
   ],
   "source": [
    "print(DATA_TEST)"
   ]
  },
  {
   "cell_type": "markdown",
   "metadata": {},
   "source": [
    "### ch150"
   ]
  },
  {
   "cell_type": "code",
   "execution_count": 18,
   "metadata": {},
   "outputs": [
    {
     "name": "stdout",
     "output_type": "stream",
     "text": [
      "150\n"
     ]
    }
   ],
   "source": [
    "graph = Graph(150)\n",
    "graph.build(DATA_TEST[0], _type='tsp_test')\n",
    "print(graph.num_vertices())"
   ]
  },
  {
   "cell_type": "markdown",
   "metadata": {},
   "source": [
    "#### Nearest Neighbor"
   ]
  },
  {
   "cell_type": "code",
   "execution_count": 19,
   "metadata": {},
   "outputs": [
    {
     "name": "stdout",
     "output_type": "stream",
     "text": [
      "8073 75\n"
     ]
    }
   ],
   "source": [
    "random_index = np.random.randint(graph.num_vertices())\n",
    "cost, solution = nearest_neighbor(graph, random_index)\n",
    "print(cost, random_index)"
   ]
  },
  {
   "cell_type": "markdown",
   "metadata": {},
   "source": [
    "#### Variable Neighborhood Descent"
   ]
  },
  {
   "cell_type": "code",
   "execution_count": 20,
   "metadata": {},
   "outputs": [
    {
     "name": "stdout",
     "output_type": "stream",
     "text": [
      "7564 58\n"
     ]
    }
   ],
   "source": [
    "random_index = np.random.randint(graph.num_vertices())\n",
    "cost, solution = vnd(graph, random_index, 5)\n",
    "print(cost, random_index)"
   ]
  },
  {
   "cell_type": "markdown",
   "metadata": {},
   "source": [
    "### bays29"
   ]
  },
  {
   "cell_type": "code",
   "execution_count": 21,
   "metadata": {},
   "outputs": [
    {
     "name": "stdout",
     "output_type": "stream",
     "text": [
      "29\n"
     ]
    }
   ],
   "source": [
    "graph = Graph(29)\n",
    "graph.build(DATA_TEST[1], _type='tsp_test')\n",
    "print(graph.num_vertices())"
   ]
  },
  {
   "cell_type": "markdown",
   "metadata": {},
   "source": [
    "#### Nearest Neighbor"
   ]
  },
  {
   "cell_type": "code",
   "execution_count": 22,
   "metadata": {},
   "outputs": [
    {
     "name": "stdout",
     "output_type": "stream",
     "text": [
      "2380 10\n"
     ]
    }
   ],
   "source": [
    "random_index = np.random.randint(graph.num_vertices())\n",
    "cost, solution = nearest_neighbor(graph, random_index)\n",
    "print(cost, random_index)"
   ]
  },
  {
   "cell_type": "markdown",
   "metadata": {},
   "source": [
    "#### Variable Neighborhood Descent"
   ]
  },
  {
   "cell_type": "code",
   "execution_count": 26,
   "metadata": {},
   "outputs": [
    {
     "name": "stdout",
     "output_type": "stream",
     "text": [
      "2288 3\n"
     ]
    }
   ],
   "source": [
    "random_index = np.random.randint(graph.num_vertices())\n",
    "cost, solution = vnd(graph, random_index, 5)\n",
    "print(cost, random_index)"
   ]
  },
  {
   "cell_type": "markdown",
   "metadata": {},
   "source": [
    "### berlin52"
   ]
  },
  {
   "cell_type": "code",
   "execution_count": 27,
   "metadata": {},
   "outputs": [
    {
     "name": "stdout",
     "output_type": "stream",
     "text": [
      "52\n"
     ]
    }
   ],
   "source": [
    "graph = Graph(52)\n",
    "graph.build(DATA_TEST[2], _type='tsp_test')\n",
    "print(graph.num_vertices())"
   ]
  },
  {
   "cell_type": "markdown",
   "metadata": {},
   "source": [
    "#### Nearest Neighbor"
   ]
  },
  {
   "cell_type": "code",
   "execution_count": 28,
   "metadata": {},
   "outputs": [
    {
     "name": "stdout",
     "output_type": "stream",
     "text": [
      "9112 9\n"
     ]
    }
   ],
   "source": [
    "random_index = np.random.randint(graph.num_vertices())\n",
    "cost, solution = nearest_neighbor(graph, random_index)\n",
    "print(cost, random_index)"
   ]
  },
  {
   "cell_type": "markdown",
   "metadata": {},
   "source": [
    "#### Variable Neighborhood Descent"
   ]
  },
  {
   "cell_type": "code",
   "execution_count": 29,
   "metadata": {},
   "outputs": [
    {
     "name": "stdout",
     "output_type": "stream",
     "text": [
      "8848 22\n"
     ]
    }
   ],
   "source": [
    "random_index = np.random.randint(graph.num_vertices())\n",
    "cost, solution = vnd(graph, random_index, 5)\n",
    "print(cost, random_index)"
   ]
  },
  {
   "cell_type": "markdown",
   "metadata": {},
   "source": [
    "### ch130"
   ]
  },
  {
   "cell_type": "code",
   "execution_count": 30,
   "metadata": {},
   "outputs": [
    {
     "name": "stdout",
     "output_type": "stream",
     "text": [
      "130\n"
     ]
    }
   ],
   "source": [
    "graph = Graph(130)\n",
    "graph.build(DATA_TEST[3], _type='tsp_test')\n",
    "print(graph.num_vertices())"
   ]
  },
  {
   "cell_type": "markdown",
   "metadata": {},
   "source": [
    "#### Nearest Neighbor"
   ]
  },
  {
   "cell_type": "code",
   "execution_count": 31,
   "metadata": {},
   "outputs": [
    {
     "name": "stdout",
     "output_type": "stream",
     "text": [
      "7662 38\n"
     ]
    }
   ],
   "source": [
    "random_index = np.random.randint(graph.num_vertices())\n",
    "cost, solution = nearest_neighbor(graph, random_index)\n",
    "print(cost, random_index)"
   ]
  },
  {
   "cell_type": "markdown",
   "metadata": {},
   "source": [
    "#### Variable Neighborhood Descent"
   ]
  },
  {
   "cell_type": "code",
   "execution_count": 32,
   "metadata": {},
   "outputs": [
    {
     "name": "stdout",
     "output_type": "stream",
     "text": [
      "7433 36\n"
     ]
    }
   ],
   "source": [
    "random_index = np.random.randint(graph.num_vertices())\n",
    "cost, solution = vnd(graph, random_index, 5)\n",
    "print(cost, random_index)"
   ]
  },
  {
   "cell_type": "markdown",
   "metadata": {},
   "source": [
    "### brazil58"
   ]
  },
  {
   "cell_type": "code",
   "execution_count": 129,
   "metadata": {},
   "outputs": [
    {
     "name": "stdout",
     "output_type": "stream",
     "text": [
      "58\n"
     ]
    }
   ],
   "source": [
    "graph = Graph(58)\n",
    "graph.build(DATA_TEST[4], _type='tsp_test')\n",
    "print(graph.num_vertices())"
   ]
  },
  {
   "cell_type": "markdown",
   "metadata": {},
   "source": [
    "#### Nearest Neighbor"
   ]
  },
  {
   "cell_type": "code",
   "execution_count": 133,
   "metadata": {},
   "outputs": [
    {
     "name": "stdout",
     "output_type": "stream",
     "text": [
      "30516 11\n"
     ]
    }
   ],
   "source": [
    "random_index = np.random.randint(graph.num_vertices())\n",
    "cost, solution = nearest_neighbor(graph, random_index)\n",
    "print(cost, random_index)"
   ]
  },
  {
   "cell_type": "markdown",
   "metadata": {},
   "source": [
    "#### Variable Neighborhood Descent"
   ]
  },
  {
   "cell_type": "code",
   "execution_count": 134,
   "metadata": {},
   "outputs": [
    {
     "name": "stdout",
     "output_type": "stream",
     "text": [
      "27414 7\n"
     ]
    }
   ],
   "source": [
    "random_index = np.random.randint(graph.num_vertices())\n",
    "cost, solution = vnd(graph, random_index, 5)\n",
    "print(cost, random_index)"
   ]
  },
  {
   "cell_type": "markdown",
   "metadata": {},
   "source": [
    "### swiss42"
   ]
  },
  {
   "cell_type": "code",
   "execution_count": 135,
   "metadata": {},
   "outputs": [
    {
     "name": "stdout",
     "output_type": "stream",
     "text": [
      "42\n"
     ]
    }
   ],
   "source": [
    "graph = Graph(42)\n",
    "graph.build(DATA_TEST[5], _type='tsp_test')\n",
    "print(graph.num_vertices())"
   ]
  },
  {
   "cell_type": "markdown",
   "metadata": {},
   "source": [
    "#### Nearest Neighbor"
   ]
  },
  {
   "cell_type": "code",
   "execution_count": 139,
   "metadata": {},
   "outputs": [
    {
     "name": "stdout",
     "output_type": "stream",
     "text": [
      "1700 40\n"
     ]
    }
   ],
   "source": [
    "random_index = np.random.randint(graph.num_vertices())\n",
    "cost, solution = nearest_neighbor(graph, random_index)\n",
    "print(cost, random_index)"
   ]
  },
  {
   "cell_type": "markdown",
   "metadata": {},
   "source": [
    "#### Variable Neighborhood Descent"
   ]
  },
  {
   "cell_type": "code",
   "execution_count": 141,
   "metadata": {},
   "outputs": [
    {
     "name": "stdout",
     "output_type": "stream",
     "text": [
      "1547 36\n"
     ]
    }
   ],
   "source": [
    "random_index = np.random.randint(graph.num_vertices())\n",
    "cost, solution = vnd(graph, random_index, 5)\n",
    "print(cost, random_index)"
   ]
  },
  {
   "cell_type": "markdown",
   "metadata": {},
   "source": [
    "### bayg29"
   ]
  },
  {
   "cell_type": "code",
   "execution_count": 143,
   "metadata": {},
   "outputs": [
    {
     "name": "stdout",
     "output_type": "stream",
     "text": [
      "29\n"
     ]
    }
   ],
   "source": [
    "graph = Graph(29)\n",
    "graph.build(DATA_TEST[6], _type='tsp_test')\n",
    "print(graph.num_vertices())"
   ]
  },
  {
   "cell_type": "markdown",
   "metadata": {},
   "source": [
    "#### Nearest Neighbor"
   ]
  },
  {
   "cell_type": "code",
   "execution_count": 145,
   "metadata": {},
   "outputs": [
    {
     "name": "stdout",
     "output_type": "stream",
     "text": [
      "2091 4\n"
     ]
    }
   ],
   "source": [
    "random_index = np.random.randint(graph.num_vertices())\n",
    "cost, solution = nearest_neighbor(graph, random_index)\n",
    "print(cost, random_index)"
   ]
  },
  {
   "cell_type": "markdown",
   "metadata": {},
   "source": [
    "#### Variable Neighborhood Descent"
   ]
  },
  {
   "cell_type": "code",
   "execution_count": 148,
   "metadata": {},
   "outputs": [
    {
     "name": "stdout",
     "output_type": "stream",
     "text": [
      "1878 23\n"
     ]
    }
   ],
   "source": [
    "random_index = np.random.randint(graph.num_vertices())\n",
    "cost, solution = vnd(graph, random_index, 5)\n",
    "print(cost, random_index)"
   ]
  },
  {
   "cell_type": "markdown",
   "metadata": {},
   "source": [
    "### bier127"
   ]
  },
  {
   "cell_type": "code",
   "execution_count": 150,
   "metadata": {},
   "outputs": [
    {
     "name": "stdout",
     "output_type": "stream",
     "text": [
      "127\n"
     ]
    }
   ],
   "source": [
    "graph = Graph(127)\n",
    "graph.build(DATA_TEST[7], _type='tsp_test')\n",
    "print(graph.num_vertices())"
   ]
  },
  {
   "cell_type": "markdown",
   "metadata": {},
   "source": [
    "#### Nearest Neighbor"
   ]
  },
  {
   "cell_type": "code",
   "execution_count": 151,
   "metadata": {},
   "outputs": [
    {
     "name": "stdout",
     "output_type": "stream",
     "text": [
      "151106 68\n"
     ]
    }
   ],
   "source": [
    "random_index = np.random.randint(graph.num_vertices())\n",
    "cost, solution = nearest_neighbor(graph, random_index)\n",
    "print(cost, random_index)"
   ]
  },
  {
   "cell_type": "markdown",
   "metadata": {},
   "source": [
    "#### Variable Neighborhood Descent"
   ]
  },
  {
   "cell_type": "code",
   "execution_count": 153,
   "metadata": {},
   "outputs": [
    {
     "name": "stdout",
     "output_type": "stream",
     "text": [
      "139263 8\n"
     ]
    }
   ],
   "source": [
    "random_index = np.random.randint(graph.num_vertices())\n",
    "cost, solution = vnd(graph, random_index, 5)\n",
    "print(cost, random_index)"
   ]
  },
  {
   "cell_type": "markdown",
   "metadata": {},
   "source": [
    "### TSP CUP"
   ]
  },
  {
   "cell_type": "code",
   "execution_count": 48,
   "metadata": {},
   "outputs": [
    {
     "name": "stdout",
     "output_type": "stream",
     "text": [
      "[[    0   203   337 ... 29025 28421 21520]\n",
      " [  203     0   400 ... 28879 28274 21365]\n",
      " [  337   400     0 ... 29269 28663 21748]\n",
      " ...\n",
      " [29025 28879 29269 ...     0   617  7700]\n",
      " [28421 28274 28663 ...   617     0  7083]\n",
      " [21520 21365 21748 ...  7700  7083     0]]\n",
      "1500\n"
     ]
    }
   ],
   "source": [
    "graph = Graph(1500)\n",
    "graph.build(DATA_CUP[0], _type='tsp_cup')\n",
    "print(graph._adjacency_matrix)\n",
    "print(graph.num_vertices())"
   ]
  },
  {
   "cell_type": "code",
   "execution_count": 154,
   "metadata": {},
   "outputs": [
    {
     "name": "stdout",
     "output_type": "stream",
     "text": [
      "144213 13\n"
     ]
    }
   ],
   "source": [
    "random_index = np.random.randint(graph.num_vertices())\n",
    "cost, solution = nearest_neighbor(graph, random_index)\n",
    "print(cost, random_index)"
   ]
  },
  {
   "cell_type": "code",
   "execution_count": 155,
   "metadata": {},
   "outputs": [
    {
     "name": "stdout",
     "output_type": "stream",
     "text": [
      "624650 32\n"
     ]
    }
   ],
   "source": [
    "random_index = np.random.randint(graph.num_vertices())\n",
    "cost, solution = random_restart(graph, random_index, 100)\n",
    "print(cost, random_index)"
   ]
  },
  {
   "cell_type": "code",
   "execution_count": null,
   "metadata": {},
   "outputs": [],
   "source": [
    "random_index = np.random.randint(graph.num_vertices())\n",
    "cost, solution = best_improvement(graph, random_index)\n",
    "print(cost, random_index)"
   ]
  },
  {
   "cell_type": "code",
   "execution_count": 156,
   "metadata": {},
   "outputs": [
    {
     "name": "stdout",
     "output_type": "stream",
     "text": [
      "618259 72\n"
     ]
    }
   ],
   "source": [
    "random_index = np.random.randint(graph.num_vertices())\n",
    "cost, solution = first_improvement(graph, random_index)\n",
    "print(cost, random_index)"
   ]
  },
  {
   "cell_type": "code",
   "execution_count": null,
   "metadata": {},
   "outputs": [],
   "source": [
    "random_index = np.random.randint(graph.num_vertices())\n",
    "cost, solution = vnd(graph, random_index, 10)\n",
    "print(cost, random_index)"
   ]
  }
 ],
 "metadata": {
  "kernelspec": {
   "display_name": "Python 3",
   "language": "python",
   "name": "python3"
  },
  "language_info": {
   "codemirror_mode": {
    "name": "ipython",
    "version": 3
   },
   "file_extension": ".py",
   "mimetype": "text/x-python",
   "name": "python",
   "nbconvert_exporter": "python",
   "pygments_lexer": "ipython3",
   "version": "3.6.5"
  }
 },
 "nbformat": 4,
 "nbformat_minor": 2
}
